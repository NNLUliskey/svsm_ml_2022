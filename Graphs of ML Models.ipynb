{
 "cells": [
  {
   "cell_type": "code",
   "execution_count": 229,
   "id": "0e70af3a",
   "metadata": {},
   "outputs": [],
   "source": [
    "import pandas as pd\n",
    "import numpy as np\n",
    "import matplotlib.pyplot as plt\n",
    "import seaborn as sns\n",
    "#from sklearn.metrics import confusion_matrix"
   ]
  },
  {
   "cell_type": "code",
   "execution_count": 230,
   "id": "df5d6739",
   "metadata": {},
   "outputs": [],
   "source": [
    "def confusion_calcs(confusion_matrix):\n",
    "    temp_arr = confusion_matrix\n",
    "    tn = temp_arr[0]\n",
    "    fp = temp_arr[1]\n",
    "    fn = temp_arr[2]\n",
    "    tp = temp_arr[3]\n",
    "    sensitivity = tp / (tp + fn)\n",
    "    recall = sensitivity\n",
    "    specificity = tn / (tn + fp)\n",
    "    precision = tp / (tp + fp)\n",
    "    accuracy = (tp+tn) / (tp+tn+fn+fp)\n",
    "    f1 = 2*precision*recall/(precision+recall)\n",
    "    return [accuracy, sensitivity, specificity, precision, f1]"
   ]
  },
  {
   "cell_type": "code",
   "execution_count": 262,
   "id": "46782cca",
   "metadata": {},
   "outputs": [],
   "source": [
    "main1_eval = []\n",
    "main2_eval = []\n",
    "main1_after = []\n",
    "main2_after = []\n",
    "xgboost_eval = confusion_calcs([23073, 1670, 1680, 18545])\n",
    "main1_eval.append(xgboost_eval)\n",
    "xgboost_after = confusion_calcs([23124, 1619, 1670, 18555])\n",
    "main1_after.append(xgboost_after)\n",
    "catboost_eval = confusion_calcs([23166, 1577, 1692, 18533])\n",
    "main1_eval.append(catboost_eval)\n",
    "catboost_after = confusion_calcs([23080, 1663, 1757, 18468])\n",
    "main1_after.append(catboost_after)\n",
    "lightgbm_eval = confusion_calcs([23043, 1700, 1729, 18496])\n",
    "main1_eval.append(lightgbm_eval)\n",
    "lightgbm_after = confusion_calcs([23106, 1637, 1709, 18516])\n",
    "main1_after.append(lightgbm_after)\n",
    "adaboost_eval = confusion_calcs([22760, 1983, 1706, 18519])\n",
    "main1_eval.append(adaboost_eval)\n",
    "adaboost_after = confusion_calcs([22768, 1975, 1711, 18514])\n",
    "main1_after.append(adaboost_after)\n",
    "gboost_eval = confusion_calcs([22994, 1749, 1661, 18564])\n",
    "main1_eval.append(gboost_eval)\n",
    "gboost_after = confusion_calcs([23114, 1629, 1653, 18572])\n",
    "main1_after.append(gboost_after)\n",
    "#skip for now\n",
    "decisiontree_eval = confusion_calcs([22397, 2346, 1908, 18317])\n",
    "main1_eval.append(decisiontree_eval)\n",
    "decisiontree_after = confusion_calcs([22670, 2073, 1762, 18463])\n",
    "main1_after.append(decisiontree_after)\n",
    "rf_eval = confusion_calcs([22476, 2267, 1651, 18574])\n",
    "main1_eval.append(rf_eval)\n",
    "rf_after = confusion_calcs([23027, 1716, 1600, 18625])\n",
    "main1_after.append(rf_after)\n",
    "bagging_eval = confusion_calcs([22771, 1972, 1738, 18487])\n",
    "main1_eval.append(bagging_eval)\n",
    "bagging_after = confusion_calcs([23064, 1679, 1637, 18588])\n",
    "main1_after.append(bagging_after)\n",
    "\n",
    "knn_eval = confusion_calcs([22634,  2109, 2032, 18193])\n",
    "main2_eval.append(knn_eval)\n",
    "knn_after = confusion_calcs([22873, 1870, 1789, 18436])\n",
    "main2_after.append(knn_after)\n",
    "lda_eval = confusion_calcs([23025, 1718, 1956, 18269])\n",
    "main2_eval.append(lda_eval)\n",
    "#not tuned\n",
    "qda_eval = confusion_calcs([22462, 2281, 2327, 17898])\n",
    "main2_eval.append(qda_eval)\n",
    "#not tuned\n",
    "logreg_eval = confusion_calcs([23118, 1625,1901, 18324])\n",
    "main2_eval.append(logreg_eval)\n",
    "#not tuned\n",
    "svc_eval = confusion_calcs([22965, 1778,1771, 18454])\n",
    "main2_eval.append(svc_eval)\n",
    "svc_after = confusion_calcs([22883, 1860, 1802, 18423])\n",
    "main2_after.append(svc_after)\n",
    "svm_eval = confusion_calcs([22277, 2466, 1893, 18332])\n",
    "main2_eval.append(svm_eval)\n",
    "svm_after = confusion_calcs([22321, 2422, 2421, 17804])\n",
    "main2_after.append(svm_after)"
   ]
  },
  {
   "cell_type": "code",
   "execution_count": 232,
   "id": "73466d9a",
   "metadata": {},
   "outputs": [],
   "source": [
    "# catboost_eval = confusion_calcs([23166, 1577, 1692, 18533])\n",
    "# main1_eval.append(catboost_eval)\n",
    "# catboost_after = confusion_calcs([23080, 1663, 1757, 18468])\n",
    "# main1_after.append(catboost_after)"
   ]
  },
  {
   "cell_type": "code",
   "execution_count": 233,
   "id": "6120c634",
   "metadata": {},
   "outputs": [],
   "source": [
    "# lightgbm_eval = confusion_calcs([23104, 1639, 1720, 18505])\n",
    "# main1_eval.append(lightgbm_eval)\n",
    "# lightgbm_after = confusion_calcs([23106, 1637, 1709, 18516])\n",
    "# main1_after.append(lightgbm_after)"
   ]
  },
  {
   "cell_type": "code",
   "execution_count": 234,
   "id": "e05dee7d",
   "metadata": {},
   "outputs": [],
   "source": [
    "# adaboost_eval = confusion_calcs([22760, 1983, 1706, 18519])\n",
    "# main1_eval.append(adaboost_eval)\n",
    "# adaboost_after = confusion_calcs([22768, 1975, 1711, 18514])\n",
    "# main1_after.append(adaboost_after)"
   ]
  },
  {
   "cell_type": "code",
   "execution_count": 235,
   "id": "86b71131",
   "metadata": {},
   "outputs": [],
   "source": [
    "# gboost_eval = confusion_calcs([22994, 1749, 1661, 18564])\n",
    "# main1_eval.append(gboost_eval)\n",
    "# gboost_after = confusion_calcs([23114, 1629, 1653, 18572])\n",
    "# main1_after.append(gboost_after)\n",
    "# #skip for now"
   ]
  },
  {
   "cell_type": "code",
   "execution_count": 236,
   "id": "8df154a4",
   "metadata": {},
   "outputs": [],
   "source": [
    "# decisiontree_eval = confusion_calcs([22397, 2346, 1908, 18317])\n",
    "# main1_eval.append(decisiontree_eval)\n",
    "# decisiontree_after = confusion_calcs([22670, 2073, 1762, 18463])\n",
    "# main1_after.append(decisiontree_after)"
   ]
  },
  {
   "cell_type": "code",
   "execution_count": 237,
   "id": "aa782b29",
   "metadata": {},
   "outputs": [],
   "source": [
    "# rf_eval = confusion_calcs([22476, 2267, 1651, 18574])\n",
    "# main1_eval.append(rf_eval)\n",
    "# rf_after = confusion_calcs([23027, 1716, 1600, 18625])\n",
    "# main1_after.append(rf_after)"
   ]
  },
  {
   "cell_type": "code",
   "execution_count": 238,
   "id": "63f84c20",
   "metadata": {},
   "outputs": [],
   "source": [
    "# bagging_eval = confusion_calcs([22771, 1972, 1738, 18487])\n",
    "# main1_eval.append(bagging_eval)\n",
    "# bagging_after = confusion_calcs([23064, 1679, 1637, 18588])\n",
    "# main1_after.append(bagging_after)"
   ]
  },
  {
   "cell_type": "code",
   "execution_count": 239,
   "id": "4326d74a",
   "metadata": {},
   "outputs": [],
   "source": [
    "# knn_eval = confusion_calcs([22634,  2109, 2032, 18193])\n",
    "# main2_eval.append(knn_eval)\n",
    "# knn_after = confusion_calcs([22873, 1870, 1789, 18436])\n",
    "# main2_after.append(knn_after)"
   ]
  },
  {
   "cell_type": "code",
   "execution_count": 240,
   "id": "5273f2d5",
   "metadata": {},
   "outputs": [],
   "source": [
    "# lda_eval = confusion_calcs([23025, 1718, 1956, 18269])\n",
    "# main2_eval.append(lda_eval)\n",
    "# #not tuned"
   ]
  },
  {
   "cell_type": "code",
   "execution_count": 241,
   "id": "2425d3a9",
   "metadata": {},
   "outputs": [],
   "source": [
    "# qda_eval = confusion_calcs([22462, 2281, 2327, 17898])\n",
    "# main2_eval.append(qda_eval)\n",
    "# #not tuned"
   ]
  },
  {
   "cell_type": "code",
   "execution_count": 242,
   "id": "ddf8058f",
   "metadata": {},
   "outputs": [],
   "source": [
    "# logreg_eval = confusion_calcs([23118, 1625,1901, 18324])\n",
    "# main2_eval.append(logreg_eval)\n",
    "# #not tuned"
   ]
  },
  {
   "cell_type": "code",
   "execution_count": 243,
   "id": "795256f6",
   "metadata": {},
   "outputs": [],
   "source": [
    "# svc_eval = confusion_calcs([22965, 1778,1771, 18454])\n",
    "# main2_eval.append(svc_eval)\n",
    "# svc_after = confusion_calcs([22883, 1860, 1802, 18423])\n",
    "# main2_after.append(svc_after)"
   ]
  },
  {
   "cell_type": "code",
   "execution_count": 244,
   "id": "fd501b7e",
   "metadata": {},
   "outputs": [],
   "source": [
    "# svm_eval = confusion_calcs([22277, 2466, 1893, 18332])\n",
    "# main2_eval.append(svm_eval)\n",
    "# svm_after = confusion_calcs([22321, 2422, 2421, 17804])\n",
    "# main2_after.append(svm_after)"
   ]
  },
  {
   "cell_type": "code",
   "execution_count": 245,
   "id": "fd2abfdb",
   "metadata": {},
   "outputs": [
    {
     "data": {
      "text/plain": [
       "[0.9268590998043053,\n",
       " 0.9174289245982694,\n",
       " 0.934567352382492,\n",
       " 0.9197481907405571,\n",
       " 0.918587093739944]"
      ]
     },
     "execution_count": 245,
     "metadata": {},
     "output_type": "execute_result"
    }
   ],
   "source": [
    "main1_after[0]"
   ]
  },
  {
   "cell_type": "code",
   "execution_count": 258,
   "id": "9117ba75",
   "metadata": {},
   "outputs": [],
   "source": [
    "# columns = ['XGBoost', 'Catboost','LightGBM', 'Adaboost', 'Gradient Boost','Decision Tree', 'Random Forests','Bagging']\n",
    "# fig, axs = plt.subplots(figsize=(15,7))\n",
    "# axs.set_ylim(0.88, 0.94)\n",
    "# X_axis = np.arange(0, 5.6, 0.7)\n",
    "# acc_list = []\n",
    "# sens_list = []\n",
    "# spec_list = []\n",
    "# prec_list = []\n",
    "# f1_list = []\n",
    "\n",
    "# for model_list in main1_eval:\n",
    "#     acc_list.append(model_list[0])\n",
    "#     sens_list.append(model_list[1])\n",
    "#     spec_list.append(model_list[2])\n",
    "#     prec_list.append(model_list[3])\n",
    "#     f1_list.append(model_list[4])\n",
    "# # for model_list in main2_eval:\n",
    "# #     acc_list.append(model_list[0])\n",
    "# #     sens_list.append(model_list[1])\n",
    "# #     spec_list.append(model_list[2])\n",
    "# #     prec_list.append(model_list[3])\n",
    "# #     f1_list.append(model_list[4])\n",
    "\n",
    "# plt.bar(X_axis - 0.2, acc_list, 0.1, label = 'Acc.')\n",
    "# plt.bar(X_axis - 0.1, sens_list, 0.1, label = 'Sens.')\n",
    "# plt.bar(X_axis, spec_list, 0.1, label = 'Spec.')\n",
    "# plt.bar(X_axis + 0.1, prec_list, 0.1, label = 'Prec.')\n",
    "# plt.bar(X_axis + 0.2, f1_list, 0.1, label = 'F1')\n",
    "\n",
    "# plt.xticks(X_axis, columns)\n",
    "# plt.xlabel(\"Machine Learning Models\")\n",
    "# plt.ylabel(\"Score\")\n",
    "# plt.title(\"Machine Learning Model Scores\")\n",
    "# plt.legend(loc='upper right')\n",
    "# plt.show()"
   ]
  },
  {
   "cell_type": "code",
   "execution_count": null,
   "id": "6fb41865",
   "metadata": {},
   "outputs": [],
   "source": []
  },
  {
   "cell_type": "code",
   "execution_count": 259,
   "id": "22fc6988",
   "metadata": {},
   "outputs": [],
   "source": [
    "# columns = ['KNN', 'LDA', 'QDA', 'LogReg', 'SVC', 'SVM']\n",
    "\n",
    "# fig, axs = plt.subplots(figsize=(11.25,7))\n",
    "# axs.set_ylim(0.88, 0.94)\n",
    "# X_axis = np.arange(0, 4.1, 0.7)\n",
    "# acc_list = []\n",
    "# sens_list = []\n",
    "# spec_list = []\n",
    "# prec_list = []\n",
    "# f1_list = []\n",
    "\n",
    "# for model_list in main2_eval:\n",
    "#     acc_list.append(model_list[0])\n",
    "#     sens_list.append(model_list[1])\n",
    "#     spec_list.append(model_list[2])\n",
    "#     prec_list.append(model_list[3])\n",
    "#     f1_list.append(model_list[4])\n",
    "\n",
    "# plt.bar(X_axis - 0.2, acc_list, 0.1, label = 'Acc.')\n",
    "# plt.bar(X_axis - 0.1, sens_list, 0.1, label = 'Sens.')\n",
    "# plt.bar(X_axis, spec_list, 0.1, label = 'Spec.')\n",
    "# plt.bar(X_axis + 0.1, prec_list, 0.1, label = 'Prec.')\n",
    "# plt.bar(X_axis + 0.2, f1_list, 0.1, label = 'F1')\n",
    "\n",
    "# plt.xticks(X_axis, columns)\n",
    "# plt.xlabel(\"Machine Learning Models\")\n",
    "# plt.ylabel(\"Score\")\n",
    "# plt.title(\"Machine Learning Model Scores\")\n",
    "# plt.legend(loc='upper right')\n",
    "# plt.show()"
   ]
  },
  {
   "cell_type": "code",
   "execution_count": 248,
   "id": "0221f13c",
   "metadata": {},
   "outputs": [
    {
     "data": {
      "image/png": "[encoded data removed]",
      "text/plain": [
       "<Figure size 270x504 with 1 Axes>"
      ]
     },
     "metadata": {
      "needs_background": "light"
     },
     "output_type": "display_data"
    }
   ],
   "source": [
    "#XGBoost\n",
    "columns = ['XGBoost Before', 'XGBoost After']\n",
    "fig, axs = plt.subplots(figsize=(3.75,7))\n",
    "axs.set_ylim(0.88, 0.96)\n",
    "X_axis = np.arange(0, 1.4, 0.7)\n",
    "acc_list = []\n",
    "sens_list = []\n",
    "spec_list = []\n",
    "prec_list = []\n",
    "f1_list = []\n",
    "\n",
    "\n",
    "acc_list.append(main1_eval[0][0])\n",
    "sens_list.append(main1_eval[0][1])\n",
    "spec_list.append(main1_eval[0][2])\n",
    "prec_list.append(main1_eval[0][3])\n",
    "f1_list.append(main1_eval[0][4])\n",
    "\n",
    "acc_list.append(main1_after[0][0])\n",
    "sens_list.append(main1_after[0][1])\n",
    "spec_list.append(main1_after[0][2])\n",
    "prec_list.append(main1_after[0][3])\n",
    "f1_list.append(main1_after[0][4])\n",
    "# for model_list in main2_eval:\n",
    "#     acc_list.append(model_list[0])\n",
    "#     sens_list.append(model_list[1])\n",
    "#     spec_list.append(model_list[2])\n",
    "#     prec_list.append(model_list[3])\n",
    "#     f1_list.append(model_list[4])\n",
    "\n",
    "plt.bar(X_axis - 0.2, acc_list, 0.1, label = 'Acc.')\n",
    "plt.bar(X_axis - 0.1, sens_list, 0.1, label = 'Sens.')\n",
    "plt.bar(X_axis, spec_list, 0.1, label = 'Spec.')\n",
    "plt.bar(X_axis + 0.1, prec_list, 0.1, label = 'Prec.')\n",
    "plt.bar(X_axis + 0.2, f1_list, 0.1, label = 'F1')\n",
    "\n",
    "plt.xticks(X_axis, columns)\n",
    "plt.xlabel(\"Machine Learning Models\")\n",
    "plt.ylabel(\"Score\")\n",
    "plt.title(\"XGBoost Before and After Hyperparameter Tuning\")\n",
    "plt.legend(loc='upper right')\n",
    "plt.show()"
   ]
  },
  {
   "cell_type": "code",
   "execution_count": 263,
   "id": "6f12e515",
   "metadata": {},
   "outputs": [
    {
     "data": {
      "image/png": "[encoded data removed]",
      "text/plain": [
       "<Figure size 270x504 with 1 Axes>"
      ]
     },
     "metadata": {
      "needs_background": "light"
     },
     "output_type": "display_data"
    }
   ],
   "source": [
    "#XGBoost\n",
    "columns = ['Catboost Before', 'Catboost After']\n",
    "fig, axs = plt.subplots(figsize=(3.75,7))\n",
    "axs.set_ylim(0.88, 0.96)\n",
    "X_axis = np.arange(0, 1.4, 0.7)\n",
    "acc_list = []\n",
    "sens_list = []\n",
    "spec_list = []\n",
    "prec_list = []\n",
    "f1_list = []\n",
    "\n",
    "\n",
    "acc_list.append(main1_eval[1][0])\n",
    "sens_list.append(main1_eval[1][1])\n",
    "spec_list.append(main1_eval[1][2])\n",
    "prec_list.append(main1_eval[1][3])\n",
    "f1_list.append(main1_eval[1][4])\n",
    "\n",
    "acc_list.append(main1_after[1][0])\n",
    "sens_list.append(main1_after[1][1])\n",
    "spec_list.append(main1_after[1][2])\n",
    "prec_list.append(main1_after[1][3])\n",
    "f1_list.append(main1_after[1][4])\n",
    "\n",
    "plt.bar(X_axis - 0.2, acc_list, 0.1, label = 'Acc.')\n",
    "plt.bar(X_axis - 0.1, sens_list, 0.1, label = 'Sens.')\n",
    "plt.bar(X_axis, spec_list, 0.1, label = 'Spec.')\n",
    "plt.bar(X_axis + 0.1, prec_list, 0.1, label = 'Prec.')\n",
    "plt.bar(X_axis + 0.2, f1_list, 0.1, label = 'F1')\n",
    "\n",
    "plt.xticks(X_axis, columns)\n",
    "plt.xlabel(\"Machine Learning Models\")\n",
    "plt.ylabel(\"Score\")\n",
    "plt.title(\"Catboost Before and After Hyperparameter Tuning\")\n",
    "plt.legend(loc='upper right')\n",
    "plt.show()"
   ]
  },
  {
   "cell_type": "code",
   "execution_count": 265,
   "id": "7bd963c5",
   "metadata": {},
   "outputs": [
    {
     "data": {
      "image/png": "[encoded data removed]",
      "text/plain": [
       "<Figure size 270x504 with 1 Axes>"
      ]
     },
     "metadata": {
      "needs_background": "light"
     },
     "output_type": "display_data"
    }
   ],
   "source": [
    "#lightgbm\n",
    "columns = ['LightGBM Before', 'LightGBM After']\n",
    "fig, axs = plt.subplots(figsize=(3.75,7))\n",
    "axs.set_ylim(0.88, 0.96)\n",
    "X_axis = np.arange(0, 1.4, 0.7)\n",
    "acc_list = []\n",
    "sens_list = []\n",
    "spec_list = []\n",
    "prec_list = []\n",
    "f1_list = []\n",
    "\n",
    "\n",
    "acc_list.append(main1_eval[2][0])\n",
    "sens_list.append(main1_eval[2][1])\n",
    "spec_list.append(main1_eval[2][2])\n",
    "prec_list.append(main1_eval[2][3])\n",
    "f1_list.append(main1_eval[2][4])\n",
    "\n",
    "acc_list.append(main1_after[2][0])\n",
    "sens_list.append(main1_after[2][1])\n",
    "spec_list.append(main1_after[2][2])\n",
    "prec_list.append(main1_after[2][3])\n",
    "f1_list.append(main1_after[2][4])\n",
    "\n",
    "plt.bar(X_axis - 0.2, acc_list, 0.1, label = 'Acc.')\n",
    "plt.bar(X_axis - 0.1, sens_list, 0.1, label = 'Sens.')\n",
    "plt.bar(X_axis, spec_list, 0.1, label = 'Spec.')\n",
    "plt.bar(X_axis + 0.1, prec_list, 0.1, label = 'Prec.')\n",
    "plt.bar(X_axis + 0.2, f1_list, 0.1, label = 'F1')\n",
    "\n",
    "plt.xticks(X_axis, columns)\n",
    "plt.xlabel(\"Machine Learning Models\")\n",
    "plt.ylabel(\"Score\")\n",
    "plt.title(\"LightGBM Before and After Hyperparameter Tuning\")\n",
    "plt.legend(loc='upper right')\n",
    "plt.show()"
   ]
  },
  {
   "cell_type": "code",
   "execution_count": 267,
   "id": "beff2901",
   "metadata": {},
   "outputs": [
    {
     "data": {
      "image/png": "[encoded data removed]",
      "text/plain": [
       "<Figure size 270x504 with 1 Axes>"
      ]
     },
     "metadata": {
      "needs_background": "light"
     },
     "output_type": "display_data"
    }
   ],
   "source": [
    "#GradBoost\n",
    "columns = ['GradBoost Before', 'GradBoost After']\n",
    "fig, axs = plt.subplots(figsize=(3.75,7))\n",
    "axs.set_ylim(0.88, 0.96)\n",
    "X_axis = np.arange(0, 1.4, 0.7)\n",
    "acc_list = []\n",
    "sens_list = []\n",
    "spec_list = []\n",
    "prec_list = []\n",
    "f1_list = []\n",
    "\n",
    "\n",
    "acc_list.append(main1_eval[4][0])\n",
    "sens_list.append(main1_eval[4][1])\n",
    "spec_list.append(main1_eval[4][2])\n",
    "prec_list.append(main1_eval[4][3])\n",
    "f1_list.append(main1_eval[4][4])\n",
    "\n",
    "acc_list.append(main1_after[4][0])\n",
    "sens_list.append(main1_after[4][1])\n",
    "spec_list.append(main1_after[4][2])\n",
    "prec_list.append(main1_after[4][3])\n",
    "f1_list.append(main1_after[4][4])\n",
    "\n",
    "plt.bar(X_axis - 0.2, acc_list, 0.1, label = 'Acc.')\n",
    "plt.bar(X_axis - 0.1, sens_list, 0.1, label = 'Sens.')\n",
    "plt.bar(X_axis, spec_list, 0.1, label = 'Spec.')\n",
    "plt.bar(X_axis + 0.1, prec_list, 0.1, label = 'Prec.')\n",
    "plt.bar(X_axis + 0.2, f1_list, 0.1, label = 'F1')\n",
    "\n",
    "plt.xticks(X_axis, columns)\n",
    "plt.xlabel(\"Machine Learning Models\")\n",
    "plt.ylabel(\"Score\")\n",
    "plt.title(\"GradBoost Before and After Hyperparameter Tuning\")\n",
    "plt.legend(loc='upper right')\n",
    "plt.show()"
   ]
  },
  {
   "cell_type": "code",
   "execution_count": 269,
   "id": "cc51e1b1",
   "metadata": {},
   "outputs": [
    {
     "data": {
      "image/png": "[encoded data removed]",
      "text/plain": [
       "<Figure size 270x504 with 1 Axes>"
      ]
     },
     "metadata": {
      "needs_background": "light"
     },
     "output_type": "display_data"
    }
   ],
   "source": [
    "#RandomForests\n",
    "columns = ['RandomForests Before', 'RandomFOrests After']\n",
    "fig, axs = plt.subplots(figsize=(3.75,7))\n",
    "axs.set_ylim(0.88, 0.96)\n",
    "X_axis = np.arange(0, 1.4, 0.7)\n",
    "acc_list = []\n",
    "sens_list = []\n",
    "spec_list = []\n",
    "prec_list = []\n",
    "f1_list = []\n",
    "\n",
    "\n",
    "acc_list.append(main1_eval[6][0])\n",
    "sens_list.append(main1_eval[6][1])\n",
    "spec_list.append(main1_eval[6][2])\n",
    "prec_list.append(main1_eval[6][3])\n",
    "f1_list.append(main1_eval[6][4])\n",
    "\n",
    "acc_list.append(main1_after[6][0])\n",
    "sens_list.append(main1_after[6][1])\n",
    "spec_list.append(main1_after[6][2])\n",
    "prec_list.append(main1_after[6][3])\n",
    "f1_list.append(main1_after[6][4])\n",
    "\n",
    "plt.bar(X_axis - 0.2, acc_list, 0.1, label = 'Acc.')\n",
    "plt.bar(X_axis - 0.1, sens_list, 0.1, label = 'Sens.')\n",
    "plt.bar(X_axis, spec_list, 0.1, label = 'Spec.')\n",
    "plt.bar(X_axis + 0.1, prec_list, 0.1, label = 'Prec.')\n",
    "plt.bar(X_axis + 0.2, f1_list, 0.1, label = 'F1')\n",
    "\n",
    "plt.xticks(X_axis, columns)\n",
    "plt.xlabel(\"Machine Learning Models\")\n",
    "plt.ylabel(\"Score\")\n",
    "plt.title(\"RandomForests Before and After Hyperparameter Tuning\")\n",
    "plt.legend(loc='upper right')\n",
    "plt.show()"
   ]
  },
  {
   "cell_type": "code",
   "execution_count": 270,
   "id": "b5cc0835",
   "metadata": {},
   "outputs": [
    {
     "data": {
      "image/png": "[encoded data removed]",
      "text/plain": [
       "<Figure size 270x504 with 1 Axes>"
      ]
     },
     "metadata": {
      "needs_background": "light"
     },
     "output_type": "display_data"
    }
   ],
   "source": [
    "#Bagging\n",
    "columns = ['Bagging Before', 'Bagging After']\n",
    "fig, axs = plt.subplots(figsize=(3.75,7))\n",
    "axs.set_ylim(0.88, 0.96)\n",
    "X_axis = np.arange(0, 1.4, 0.7)\n",
    "acc_list = []\n",
    "sens_list = []\n",
    "spec_list = []\n",
    "prec_list = []\n",
    "f1_list = []\n",
    "\n",
    "\n",
    "acc_list.append(main1_eval[7][0])\n",
    "sens_list.append(main1_eval[7][1])\n",
    "spec_list.append(main1_eval[7][2])\n",
    "prec_list.append(main1_eval[7][3])\n",
    "f1_list.append(main1_eval[7][4])\n",
    "\n",
    "acc_list.append(main1_after[7][0])\n",
    "sens_list.append(main1_after[7][1])\n",
    "spec_list.append(main1_after[7][2])\n",
    "prec_list.append(main1_after[7][3])\n",
    "f1_list.append(main1_after[7][4])\n",
    "\n",
    "plt.bar(X_axis - 0.2, acc_list, 0.1, label = 'Acc.')\n",
    "plt.bar(X_axis - 0.1, sens_list, 0.1, label = 'Sens.')\n",
    "plt.bar(X_axis, spec_list, 0.1, label = 'Spec.')\n",
    "plt.bar(X_axis + 0.1, prec_list, 0.1, label = 'Prec.')\n",
    "plt.bar(X_axis + 0.2, f1_list, 0.1, label = 'F1')\n",
    "\n",
    "plt.xticks(X_axis, columns)\n",
    "plt.xlabel(\"Machine Learning Models\")\n",
    "plt.ylabel(\"Score\")\n",
    "plt.title(\"Bagging Before and After Hyperparameter Tuning\")\n",
    "plt.legend(loc='upper right')\n",
    "plt.show()"
   ]
  },
  {
   "cell_type": "code",
   "execution_count": null,
   "id": "cd7143ba",
   "metadata": {},
   "outputs": [],
   "source": [
    "# Random Forest before:\n",
    "# white_check_mark\n",
    "# eyes\n",
    "# raised_hands\n",
    "# React\n",
    "# Reply\n",
    "\n",
    "# 10:37\n",
    "# ---Run time is 2584.099302100003 seconds ---\n",
    "\n",
    "# Accuracy of each fold: \n",
    "#  [0.9038901601830663, 0.9521298174442191, 0.9943324937027708, 0.8830935251798561, 0.9968652037617555, 0.9448275862068966, 0.8748248482017749, 0.9965963240299524, 0.9432730923694779, 0.9487320837927232, 0.9832123411978222, 0.9849246231155779, 0.7360544217687075, 0.9974522292993631, 0.5054121565362198, 0.969428444838281, 0.9828649760109665, 0.9878822850548182, 0.6745562130177515, 0.9763606377130292, 0.9948674080410608, 0.9868173258003766, 0.9940803382663848]\n",
    "\n",
    "# Avg accuracy : \n",
    "# 0.9222816754579501\n",
    "\n",
    "# Std of accuracy : \n",
    "# 0.12046431828512935\n",
    "# 10:38\n",
    "# [[22476  2267]\n",
    "#  [ 1651 18574]]"
   ]
  },
  {
   "cell_type": "code",
   "execution_count": null,
   "id": "cae00e90",
   "metadata": {},
   "outputs": [],
   "source": [
    "# Random Forest after:\n",
    "# white_check_mark\n",
    "# eyes\n",
    "# raised_hands\n",
    "# React\n",
    "# Reply\n",
    "\n",
    "# 10:38\n",
    "# ---Run time is 119.9745147000067 seconds ---\n",
    "\n",
    "# Accuracy of each fold: \n",
    "#  [0.9084668192219679, 0.9537525354969574, 0.9955919395465995, 0.9232613908872902, 0.9979101358411703, 0.9521298174442191, 0.8243811303129379, 0.9972770592239619, 0.9427710843373494, 0.9674751929437707, 0.9836660617059891, 0.9913854989231874, 0.8117913832199547, 0.967515923566879, 0.593255620316403, 0.9893664155959238, 0.9869773817683345, 0.9861511829197923, 0.7489433643279797, 0.9703133589884552, 0.9948674080410608, 0.9962335216572504, 0.9966173361522199]\n",
    "\n",
    "# Avg accuracy : \n",
    "# 0.9339174592365065\n",
    "\n",
    "# Std of accuracy : \n",
    "# 0.09783789438795784\n",
    "# New\n",
    "# 10:38\n",
    "# [[23027  1716]\n",
    "#  [ 1600 18625]]"
   ]
  },
  {
   "cell_type": "code",
   "execution_count": null,
   "id": "89902960",
   "metadata": {},
   "outputs": [],
   "source": [
    "# XGBoost before:\n",
    "# white_check_mark\n",
    "# eyes\n",
    "# raised_hands\n",
    "# React\n",
    "# Reply\n",
    "\n",
    "# 10:48\n",
    "# roc_auc_score 0.9999020242718537\n",
    "# ---Run time is 28.772993899998255 seconds ---\n",
    "\n",
    "# Accuracy of each fold: \n",
    "#  [0.914187643020595, 0.954158215010142, 0.9962216624685138, 0.935251798561151, 0.9968652037617555, 0.9525354969574037, 0.7888836992059786, 0.998638529611981, 0.9392570281124498, 0.9685777287761852, 0.9823049001814882, 0.990667623833453, 0.8249433106575964, 0.9535031847133758, 0.5961698584512906, 0.9906956136464333, 0.9910897875257025, 0.9878822850548182, 0.742603550295858, 0.9692138537658054, 0.9961505560307955, 0.9968612680477087, 0.9987315010570824]\n",
    "\n",
    "# Avg accuracy : \n",
    "# 0.9332780129890246\n",
    "\n",
    "# Std of accuracy : \n",
    "# 0.09926188579723327\n",
    "# 10:49\n",
    "# [[23073  1670]\n",
    "#  [ 1680 18545]]"
   ]
  },
  {
   "cell_type": "code",
   "execution_count": 1,
   "id": "ad4812b9",
   "metadata": {},
   "outputs": [],
   "source": [
    "#XGBOOST After\n",
    "# ---Run time is 47.04468490020372 seconds ---\n",
    "\n",
    "# Accuracy of each fold: \n",
    "#  [0.9187643020594966, 0.9549695740365112, 0.9962216624685138, 0.9322541966426858, 0.9973876698014629, 0.9574036511156186, 0.7706679121905652, 0.9979577944179714, 0.9407630522088354, 0.9658213891951488, 0.9832123411978222, 0.9899497487437185, 0.8303854875283446, 0.954140127388535, 0.6219816819317235, 0.9880372175454143, 0.9904043865661412, 0.9838430467397576, 0.7616229923922232, 0.959868059373282, 0.9965782720273738, 0.9943502824858758, 0.9978858350951374]\n",
    "\n",
    "# Avg accuracy : \n",
    "# 0.9341074210066155\n",
    "\n",
    "# Std of accuracy : \n",
    "# 0.09454601994721872"
   ]
  },
  {
   "cell_type": "code",
   "execution_count": null,
   "id": "82850309",
   "metadata": {},
   "outputs": [],
   "source": [
    "# LightGBM Before:\n",
    "# white_check_mark\n",
    "# eyes\n",
    "# raised_hands\n",
    "# React\n",
    "# Reply\n",
    "\n",
    "# 1:11\n",
    "# ---Run time is 5.280834200006211 seconds ---\n",
    "\n",
    "# Accuracy of each fold: \n",
    "#  [0.914187643020595, 0.9525354969574037, 0.9962216624685138, 0.9292565947242206, 0.9979101358411703, 0.954158215010142, 0.7860812704343765, 0.9979577944179714, 0.9372489959839357, 0.9691289966923925, 0.9832123411978222, 0.990667623833453, 0.8054421768707483, 0.9598726114649682, 0.577435470441299, 0.9893664155959238, 0.9917751884852639, 0.9861511829197923, 0.7502113271344041, 0.9719626168224299, 0.995295124037639, 0.9962335216572504, 0.9987315010570824]\n",
    "\n",
    "# Avg accuracy : \n",
    "# 0.9317845176986433\n",
    "\n",
    "# Std of accuracy : \n",
    "# 0.10265051679211624\n",
    "# 1:11\n",
    "# [[23043  1700]\n",
    "#  [ 1729 18496]]"
   ]
  },
  {
   "cell_type": "code",
   "execution_count": null,
   "id": "9d774af1",
   "metadata": {},
   "outputs": [],
   "source": [
    "# ---Run time is 5.75461859999632 seconds ---\n",
    "\n",
    "# Accuracy of each fold: \n",
    "#  [0.9164759725400458, 0.9545638945233266, 0.9962216624685138, 0.9316546762589928, 0.9973876698014629, 0.9582150101419878, 0.7580569827183559, 0.998638529611981, 0.9397590361445783, 0.9707828004410143, 0.9823049001814882, 0.9913854989231874, 0.8303854875283446, 0.956687898089172, 0.601165695253955, 0.9884802835622508, 0.9890335846470185, 0.9878822850548182, 0.7540152155536771, 0.9708631115997801, 0.9965782720273738, 0.9968612680477087, 0.9978858350951374]\n",
    "\n",
    "# Avg accuracy : \n",
    "# 0.9332732856614858\n",
    "\n",
    "# Std of accuracy : \n",
    "# 0.09955941484364123\n",
    "# white_check_mark\n",
    "# eyes\n",
    "# raised_hands\n",
    "# React\n",
    "# Reply\n",
    "\n",
    "# 1:13\n",
    "# [[23106  1637]\n",
    "#  [ 1709 18516]]"
   ]
  },
  {
   "cell_type": "code",
   "execution_count": null,
   "id": "8a7d67bd",
   "metadata": {},
   "outputs": [],
   "source": [
    "# ---Run time is 8.892542999994475 seconds ---\n",
    "\n",
    "# Accuracy of each fold: \n",
    "#  [0.9107551487414187, 0.9557809330628804, 0.9962216624685138, 0.9370503597122302, 0.9973876698014629, 0.9484787018255578, 0.8243811303129379, 0.9972770592239619, 0.9437751004016064, 0.9707828004410143, 0.9841197822141561, 0.9885139985642498, 0.7868480725623582, 0.9707006369426752, 0.5203996669442131, 0.9915817456801064, 0.9910897875257025, 0.9861511829197923, 0.7430262045646661, 0.9747113798790544, 0.9965782720273738, 0.9968612680477087, 0.9970401691331924]\n",
    "\n",
    "# Avg accuracy : \n",
    "# 0.9308483796955145\n",
    "\n",
    "# Std of accuracy : \n",
    "# 0.11135096999367239\n",
    "# white_check_mark\n",
    "# eyes\n",
    "# raised_hands\n",
    "# React\n",
    "# Reply\n",
    "\n",
    "# New\n",
    "# 7:40\n",
    "# [[23166  1577]\n",
    "#  [ 1692 18533]]"
   ]
  },
  {
   "cell_type": "code",
   "execution_count": 2,
   "id": "73cf0473",
   "metadata": {},
   "outputs": [],
   "source": [
    "#Catboosting After\n",
    "# ---Run time is 20.29537530010566 seconds ---\n",
    "# [[23080  1663]\n",
    "#  [ 1757 18468]]\n",
    "# Accuracy of each fold: \n",
    "#  [0.9124713958810069, 0.9525354969574037, 0.9974811083123426, 0.9262589928057554, 0.9979101358411703, 0.9525354969574037, 0.8155067725361981, 0.9972770592239619, 0.9397590361445783, 0.9707828004410143, 0.9832123411978222, 0.990667623833453, 0.8022675736961451, 0.967515923566879, 0.5420482930890924, 0.9902525476295968, 0.9910897875257025, 0.9849971148297749, 0.760777683854607, 0.9741616272677295, 0.9970059880239521, 0.9968612680477087, 0.9970401691331924]\n",
    "\n",
    "# Avg accuracy : \n",
    "# 0.9321920102954995\n",
    "\n",
    "# Std of accuracy : \n",
    "# 0.10610803049760552"
   ]
  },
  {
   "cell_type": "code",
   "execution_count": 3,
   "id": "2b5d5cfe",
   "metadata": {},
   "outputs": [],
   "source": [
    "# Bagging Before:\n",
    "# New\n",
    "# 1:44\n",
    "# ---Run time is 1262.5597275000036 seconds ---\n",
    "\n",
    "# Accuracy of each fold: \n",
    "#  [0.9061784897025171, 0.9456389452332657, 0.9955919395465995, 0.908273381294964, 0.9952978056426333, 0.9440162271805274, 0.8397944885567492, 0.9972770592239619, 0.9332329317269076, 0.958103638368247, 0.9818511796733213, 0.9849246231155779, 0.782312925170068, 0.9738853503184713, 0.5578684429641965, 0.973859105006646, 0.9835503769705277, 0.9930755914598961, 0.7071005917159763, 0.9763606377130292, 0.9914456800684346, 0.9899560577526679, 0.9839323467230444]\n",
    "\n",
    "# Avg accuracy : \n",
    "# 0.9262403397881838\n",
    "\n",
    "# Std of accuracy : \n",
    "# 0.10672839222741957\n",
    "# 1:44\n",
    "# [[22771  1972]\n",
    "#  [ 1738 18487]]"
   ]
  },
  {
   "cell_type": "code",
   "execution_count": 4,
   "id": "e54e015e",
   "metadata": {},
   "outputs": [],
   "source": [
    "# Bagging After:\n",
    "# 1:42\n",
    "# ---Run time is 693.3505415000109 seconds ---\n",
    "\n",
    "# Accuracy of each fold: \n",
    "#  [0.9130434782608695, 0.9496957403651115, 0.9955919395465995, 0.9238609112709832, 0.9973876698014629, 0.9545638945233266, 0.7986921999065857, 0.9979577944179714, 0.9422690763052208, 0.9685777287761852, 0.9813974591651543, 0.9885139985642498, 0.8331065759637188, 0.9503184713375796, 0.6194837635303914, 0.9871510855117412, 0.9869773817683345, 0.9873052510098096, 0.7417582417582418, 0.9708631115997801, 0.9918733960650128, 0.997489014438167, 0.9961945031712474]\n",
    "\n",
    "# Avg accuracy : \n",
    "# 0.9336553342199018\n",
    "\n",
    "# Std of accuracy : \n",
    "# 0.09447902543178308\n",
    "# white_check_mark\n",
    "# eyes\n",
    "# raised_hands\n",
    "# React\n",
    "# Reply\n",
    "\n",
    "# 1:42\n",
    "# [[23064  1679]\n",
    "#  [ 1637 18588]]"
   ]
  },
  {
   "cell_type": "code",
   "execution_count": 253,
   "id": "d3ae43c3",
   "metadata": {},
   "outputs": [
    {
     "data": {
      "image/png": "[encoded data removed]",
      "text/plain": [
       "<Figure size 1080x504 with 1 Axes>"
      ]
     },
     "metadata": {
      "needs_background": "light"
     },
     "output_type": "display_data"
    }
   ],
   "source": [
    "columns = ['XGBoost', 'Catboost','LightGBM', 'Adaboost', 'Gradient Boost','Decision Tree', 'Random Forests','Bagging']\n",
    "fig, axs = plt.subplots(figsize=(15,7))\n",
    "axs.set_ylim(0.88, 0.94)\n",
    "X_axis = np.arange(0, 5.6, 0.7)\n",
    "acc_list = []\n",
    "sens_list = []\n",
    "spec_list = []\n",
    "prec_list = []\n",
    "f1_list = []\n",
    "\n",
    "for model_list in main1_eval:\n",
    "    acc_list.append(model_list[0])\n",
    "    sens_list.append(model_list[1])\n",
    "    spec_list.append(model_list[2])\n",
    "    prec_list.append(model_list[3])\n",
    "    f1_list.append(model_list[4])\n",
    "# for model_list in main2_eval:\n",
    "#     acc_list.append(model_list[0])\n",
    "#     sens_list.append(model_list[1])\n",
    "#     spec_list.append(model_list[2])\n",
    "#     prec_list.append(model_list[3])\n",
    "#     f1_list.append(model_list[4])\n",
    "\n",
    "plt.bar(X_axis - 0.2, acc_list, 0.1, label = 'Acc.')\n",
    "plt.bar(X_axis - 0.1, sens_list, 0.1, label = 'Sens.')\n",
    "plt.bar(X_axis, spec_list, 0.1, label = 'Spec.')\n",
    "plt.bar(X_axis + 0.1, prec_list, 0.1, label = 'Prec.')\n",
    "plt.bar(X_axis + 0.2, f1_list, 0.1, label = 'F1')\n",
    "\n",
    "plt.xticks(X_axis, columns)\n",
    "plt.xlabel(\"Machine Learning Models\")\n",
    "plt.ylabel(\"Score\")\n",
    "plt.title(\"Machine Learning Model Scores Before Hyperparameter Tuning\")\n",
    "plt.legend(loc='upper right')\n",
    "plt.show()"
   ]
  },
  {
   "cell_type": "code",
   "execution_count": 251,
   "id": "12153f69",
   "metadata": {},
   "outputs": [
    {
     "data": {
      "image/png": "[encoded data removed]",
      "text/plain": [
       "<Figure size 1080x504 with 1 Axes>"
      ]
     },
     "metadata": {
      "needs_background": "light"
     },
     "output_type": "display_data"
    }
   ],
   "source": [
    "columns = ['XGBoost', 'Catboost','LightGBM', 'Adaboost', 'Gradient Boost','Decision Tree', 'Random Forests','Bagging']\n",
    "fig, axs = plt.subplots(figsize=(15,7))\n",
    "axs.set_ylim(0.88, 0.94)\n",
    "X_axis = np.arange(0, 5.6, 0.7)\n",
    "acc_list = []\n",
    "sens_list = []\n",
    "spec_list = []\n",
    "prec_list = []\n",
    "f1_list = []\n",
    "\n",
    "for model_list in main1_after:\n",
    "    acc_list.append(model_list[0])\n",
    "    sens_list.append(model_list[1])\n",
    "    spec_list.append(model_list[2])\n",
    "    prec_list.append(model_list[3])\n",
    "    f1_list.append(model_list[4])\n",
    "# for model_list in main2_eval:\n",
    "#     acc_list.append(model_list[0])\n",
    "#     sens_list.append(model_list[1])\n",
    "#     spec_list.append(model_list[2])\n",
    "#     prec_list.append(model_list[3])\n",
    "#     f1_list.append(model_list[4])\n",
    "\n",
    "plt.bar(X_axis - 0.2, acc_list, 0.1, label = 'Acc.')\n",
    "plt.bar(X_axis - 0.1, sens_list, 0.1, label = 'Sens.')\n",
    "plt.bar(X_axis, spec_list, 0.1, label = 'Spec.')\n",
    "plt.bar(X_axis + 0.1, prec_list, 0.1, label = 'Prec.')\n",
    "plt.bar(X_axis + 0.2, f1_list, 0.1, label = 'F1')\n",
    "\n",
    "plt.xticks(X_axis, columns)\n",
    "plt.xlabel(\"Machine Learning Models\")\n",
    "plt.ylabel(\"Score\")\n",
    "plt.title(\"Machine Learning Model Scores After Hyperparameter Tuning\")\n",
    "plt.legend(loc='upper right')\n",
    "plt.show()"
   ]
  },
  {
   "cell_type": "code",
   "execution_count": 257,
   "id": "b56aabba",
   "metadata": {},
   "outputs": [
    {
     "data": {
      "image/png": "[encoded data removed]",
      "text/plain": [
       "<Figure size 810x504 with 1 Axes>"
      ]
     },
     "metadata": {
      "needs_background": "light"
     },
     "output_type": "display_data"
    }
   ],
   "source": [
    "columns = ['KNN', 'LDA', 'QDA', 'LogReg', 'SVC', 'SVM']\n",
    "\n",
    "fig, axs = plt.subplots(figsize=(11.25,7))\n",
    "axs.set_ylim(0.88, 0.94)\n",
    "X_axis = np.arange(0, 4.1, 0.7)\n",
    "acc_list = []\n",
    "sens_list = []\n",
    "spec_list = []\n",
    "prec_list = []\n",
    "f1_list = []\n",
    "\n",
    "for model_list in main2_eval:\n",
    "    acc_list.append(model_list[0])\n",
    "    sens_list.append(model_list[1])\n",
    "    spec_list.append(model_list[2])\n",
    "    prec_list.append(model_list[3])\n",
    "    f1_list.append(model_list[4])\n",
    "\n",
    "plt.bar(X_axis - 0.2, acc_list, 0.1, label = 'Acc.')\n",
    "plt.bar(X_axis - 0.1, sens_list, 0.1, label = 'Sens.')\n",
    "plt.bar(X_axis, spec_list, 0.1, label = 'Spec.')\n",
    "plt.bar(X_axis + 0.1, prec_list, 0.1, label = 'Prec.')\n",
    "plt.bar(X_axis + 0.2, f1_list, 0.1, label = 'F1')\n",
    "\n",
    "plt.xticks(X_axis, columns)\n",
    "plt.xlabel(\"Machine Learning Models\")\n",
    "plt.ylabel(\"Score\")\n",
    "plt.title(\"Machine Learning Model Scores Before Hyperparameter Tuning\")\n",
    "plt.legend(loc='upper right')\n",
    "plt.show()"
   ]
  },
  {
   "cell_type": "code",
   "execution_count": 272,
   "id": "ef362f2f",
   "metadata": {},
   "outputs": [
    {
     "data": {
      "text/plain": [
       "<matplotlib.legend.Legend at 0x2241e845af0>"
      ]
     },
     "execution_count": 272,
     "metadata": {},
     "output_type": "execute_result"
    },
    {
     "data": {
      "image/png": "[encoded data removed]",
      "text/plain": [
       "<Figure size 405x504 with 1 Axes>"
      ]
     },
     "metadata": {
      "needs_background": "light"
     },
     "output_type": "display_data"
    }
   ],
   "source": [
    "columns = ['KNN', 'SVC', 'SVM']\n",
    "\n",
    "fig, axs = plt.subplots(figsize=(5.625,7))\n",
    "axs.set_ylim(0.88, 0.94)\n",
    "X_axis = np.arange(0, 2.0, 0.7)\n",
    "acc_list = []\n",
    "sens_list = []\n",
    "spec_list = []\n",
    "prec_list = []\n",
    "f1_list = []\n",
    "\n",
    "for model_list in main2_after:\n",
    "    acc_list.append(model_list[0])\n",
    "    sens_list.append(model_list[1])\n",
    "    spec_list.append(model_list[2])\n",
    "    prec_list.append(model_list[3])\n",
    "    f1_list.append(model_list[4])\n",
    "\n",
    "plt.bar(X_axis - 0.2, acc_list, 0.1, label = 'Acc.')\n",
    "plt.bar(X_axis - 0.1, sens_list, 0.1, label = 'Sens.')\n",
    "plt.bar(X_axis, spec_list, 0.1, label = 'Spec.')\n",
    "plt.bar(X_axis + 0.1, prec_list, 0.1, label = 'Prec.')\n",
    "plt.bar(X_axis + 0.2, f1_list, 0.1, label = 'F1')\n",
    "\n",
    "plt.xticks(X_axis, columns)\n",
    "plt.xlabel(\"Machine Learning Models\")\n",
    "plt.ylabel(\"Score\")\n",
    "plt.title(\"Machine Learning Model Scores Before Hyperparameter Tuning\")\n",
    "plt.legend(loc='upper right')"
   ]
  },
  {
   "cell_type": "code",
   "execution_count": null,
   "id": "46aa83d9",
   "metadata": {},
   "outputs": [],
   "source": []
  }
 ],
 "metadata": {
  "kernelspec": {
   "display_name": "Python 3 (ipykernel)",
   "language": "python",
   "name": "python3"
  },
  "language_info": {
   "codemirror_mode": {
    "name": "ipython",
    "version": 3
   },
   "file_extension": ".py",
   "mimetype": "text/x-python",
   "name": "python",
   "nbconvert_exporter": "python",
   "pygments_lexer": "ipython3",
   "version": "3.9.12"
  }
 },
 "nbformat": 4,
 "nbformat_minor": 5
}
