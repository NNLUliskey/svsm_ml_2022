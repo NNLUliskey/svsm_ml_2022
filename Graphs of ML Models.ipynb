{
 "cells": [
  {
   "cell_type": "code",
   "execution_count": 34,
   "id": "2d425ff3",
   "metadata": {},
   "outputs": [],
   "source": [
    "import pandas as pd\n",
    "import numpy as np\n",
    "import matplotlib.pyplot as plt\n",
    "import seaborn as sns"
   ]
  },
  {
   "cell_type": "code",
   "execution_count": 24,
   "id": "64fdaa8a",
   "metadata": {},
   "outputs": [],
   "source": [
    "def confusion_calcs(confusion_matrix):\n",
    "    temp_arr = confusion_matrix\n",
    "    tn = temp_arr[0]\n",
    "    fp = temp_arr[1]\n",
    "    fn = temp_arr[2]\n",
    "    tp = temp_arr[3]\n",
    "    sensitivity = tp / (tp + fn)\n",
    "    recall = sensitivity\n",
    "    specificity = tn / (tn + fp)\n",
    "    precision = tp / (tp + fp)\n",
    "    accuracy = (tp+tn) / (tp+tn+fn+fp)\n",
    "    f1 = 2*precision*recall/(precision+recall)\n",
    "    return [accuracy, sensitivity, specificity, precision, f1]"
   ]
  },
  {
   "cell_type": "code",
   "execution_count": 42,
   "id": "00526d9c",
   "metadata": {},
   "outputs": [],
   "source": [
    "knn_eval = confusion_calcs([22634,  2109, 2032, 18193])"
   ]
  },
  {
   "cell_type": "code",
   "execution_count": 26,
   "id": "f190f779",
   "metadata": {},
   "outputs": [],
   "source": [
    "catboost_eval = confusion_calcs([23080,  1663, 1777, 18448])"
   ]
  },
  {
   "cell_type": "code",
   "execution_count": 27,
   "id": "c36f147d",
   "metadata": {},
   "outputs": [],
   "source": [
    "lightgbm_eval = confusion_calcs([23104, 1639, 1720, 18505])"
   ]
  },
  {
   "cell_type": "code",
   "execution_count": 28,
   "id": "1026e2f9",
   "metadata": {},
   "outputs": [],
   "source": [
    "decisiontree_eval = confusion_calcs([22502,  2241, 1791, 18434])"
   ]
  },
  {
   "cell_type": "code",
   "execution_count": 29,
   "id": "58979843",
   "metadata": {},
   "outputs": [],
   "source": [
    "rf_eval = confusion_calcs([23105, 1638, 1707, 18518])"
   ]
  },
  {
   "cell_type": "code",
   "execution_count": 30,
   "id": "3c7cd582",
   "metadata": {},
   "outputs": [],
   "source": [
    "adaboost_eval = confusion_calcs([22760, 1983, 1706, 18519])"
   ]
  },
  {
   "cell_type": "code",
   "execution_count": 31,
   "id": "79479aff",
   "metadata": {},
   "outputs": [],
   "source": [
    "gboost_eval = confusion_calcs([23139, 1604, 1738, 18487])"
   ]
  },
  {
   "cell_type": "code",
   "execution_count": 32,
   "id": "750177c9",
   "metadata": {},
   "outputs": [],
   "source": [
    "lda_eval = confusion_calcs([23025, 1718, 1956, 18269])"
   ]
  },
  {
   "cell_type": "code",
   "execution_count": 33,
   "id": "c08cb621",
   "metadata": {},
   "outputs": [],
   "source": [
    "qda_eval = confusion_calcs([22462, 2281, 2327, 17898])"
   ]
  },
  {
   "cell_type": "code",
   "execution_count": 47,
   "id": "7219b233",
   "metadata": {},
   "outputs": [],
   "source": [
    "main1_eval = []\n",
    "main2_eval = []\n",
    "main1_eval.append(knn_eval)\n",
    "main1_eval.append(catboost_eval)\n",
    "main1_eval.append(lightgbm_eval)\n",
    "main1_eval.append(adaboost_eval)\n",
    "main1_eval.append(gboost_eval)\n",
    "main2_eval.append(decisiontree_eval)\n",
    "main2_eval.append(rf_eval)\n",
    "main2_eval.append(lda_eval)\n",
    "main2_eval.append(qda_eval)\n",
    "#columns = ['Acc.','Sens.','Spec.','Prec.','f1']"
   ]
  },
  {
   "cell_type": "code",
   "execution_count": 57,
   "id": "21c30a6f",
   "metadata": {},
   "outputs": [
    {
     "name": "stdout",
     "output_type": "stream",
     "text": [
      "[0 1 2 3]\n"
     ]
    },
    {
     "data": {
      "image/png": "[encoded data removed]",
      "text/plain": [
       "<Figure size 432x288 with 1 Axes>"
      ]
     },
     "metadata": {
      "needs_background": "light"
     },
     "output_type": "display_data"
    }
   ],
   "source": [
    "X = ['Group A','Group B','Group C','Group D']\n",
    "Ygirls = [10,20,20,40]\n",
    "Zboys = [20,30,25,30]\n",
    "X_axis = np.arange(len(X))\n",
    "print(X_axis)\n",
    "plt.bar(X_axis - 0.2, Ygirls, 0.4, label = 'Girls')\n",
    "plt.bar(X_axis + 0.2, Zboys, 0.4, label = 'Boys')\n",
    "  \n",
    "plt.xticks(X_axis, X)\n",
    "plt.xlabel(\"Groups\")\n",
    "plt.ylabel(\"Number of Students\")\n",
    "plt.title(\"Number of Students in each group\")\n",
    "plt.legend()\n",
    "plt.show()"
   ]
  },
  {
   "cell_type": "code",
   "execution_count": 79,
   "id": "157ef6cc",
   "metadata": {},
   "outputs": [
    {
     "data": {
      "image/png": "[encoded data removed]",
      "text/plain": [
       "<Figure size 1080x504 with 1 Axes>"
      ]
     },
     "metadata": {
      "needs_background": "light"
     },
     "output_type": "display_data"
    }
   ],
   "source": [
    "columns = ['KNN', 'Catboost','LightGBM', 'Adaboost', 'Gradient Boost']\n",
    "fig, axs = plt.subplots(figsize=(15,7))\n",
    "axs.set_ylim(0.8, 1)\n",
    "X_axis = np.arange(0, 3.5, 0.7)\n",
    "acc_list = []\n",
    "sens_list = []\n",
    "spec_list = []\n",
    "prec_list = []\n",
    "f1_list = []\n",
    "\n",
    "for model_list in main1_eval:\n",
    "    acc_list.append(model_list[0])\n",
    "    sens_list.append(model_list[1])\n",
    "    spec_list.append(model_list[2])\n",
    "    prec_list.append(model_list[3])\n",
    "    f1_list.append(model_list[4])\n",
    "\n",
    "plt.bar(X_axis - 0.2, acc_list, 0.1, label = 'Acc.')\n",
    "plt.bar(X_axis - 0.1, sens_list, 0.1, label = 'Sens.')\n",
    "plt.bar(X_axis, spec_list, 0.1, label = 'Spec.')\n",
    "plt.bar(X_axis + 0.1, prec_list, 0.1, label = 'Prec.')\n",
    "plt.bar(X_axis + 0.2, f1_list, 0.1, label = 'F1')\n",
    "\n",
    "plt.xticks(X_axis, columns)\n",
    "plt.xlabel(\"Machine Learning Models\")\n",
    "plt.ylabel(\"Score\")\n",
    "plt.title(\"Machine Learning Model Scores\")\n",
    "plt.legend(loc='upper right')\n",
    "plt.show()"
   ]
  },
  {
   "cell_type": "code",
   "execution_count": 78,
   "id": "887a78eb",
   "metadata": {},
   "outputs": [
    {
     "data": {
      "image/png": "[encoded data removed]",
      "text/plain": [
       "<Figure size 864x504 with 1 Axes>"
      ]
     },
     "metadata": {
      "needs_background": "light"
     },
     "output_type": "display_data"
    }
   ],
   "source": [
    "columns = ['Decision Tree', 'Random Forests','LDA', 'QDA']\n",
    "\n",
    "fig, axs = plt.subplots(figsize=(12,7))\n",
    "axs.set_ylim(0.8, 1)\n",
    "X_axis = np.arange(0, 2.4, 0.6)\n",
    "acc_list = []\n",
    "sens_list = []\n",
    "spec_list = []\n",
    "prec_list = []\n",
    "f1_list = []\n",
    "\n",
    "for model_list in main2_eval:\n",
    "    acc_list.append(model_list[0])\n",
    "    sens_list.append(model_list[1])\n",
    "    spec_list.append(model_list[2])\n",
    "    prec_list.append(model_list[3])\n",
    "    f1_list.append(model_list[4])\n",
    "\n",
    "plt.bar(X_axis - 0.2, acc_list, 0.1, label = 'Acc.')\n",
    "plt.bar(X_axis - 0.1, sens_list, 0.1, label = 'Sens.')\n",
    "plt.bar(X_axis, spec_list, 0.1, label = 'Spec.')\n",
    "plt.bar(X_axis + 0.1, prec_list, 0.1, label = 'Prec.')\n",
    "plt.bar(X_axis + 0.2, f1_list, 0.1, label = 'F1')\n",
    "\n",
    "plt.xticks(X_axis, columns)\n",
    "plt.xlabel(\"Machine Learning Models\")\n",
    "plt.ylabel(\"Score\")\n",
    "plt.title(\"Machine Learning Model Scores\")\n",
    "plt.legend(loc='upper right')\n",
    "plt.show()"
   ]
  },
  {
   "cell_type": "code",
   "execution_count": null,
   "id": "92836fce",
   "metadata": {},
   "outputs": [],
   "source": []
  }
 ],
 "metadata": {
  "kernelspec": {
   "display_name": "Python 3 (ipykernel)",
   "language": "python",
   "name": "python3"
  },
  "language_info": {
   "codemirror_mode": {
    "name": "ipython",
    "version": 3
   },
   "file_extension": ".py",
   "mimetype": "text/x-python",
   "name": "python",
   "nbconvert_exporter": "python",
   "pygments_lexer": "ipython3",
   "version": "3.9.12"
  }
 },
 "nbformat": 4,
 "nbformat_minor": 5
}
