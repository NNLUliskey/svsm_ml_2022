{
 "cells": [
  {
   "cell_type": "markdown",
   "metadata": {},
   "source": [
    "This lab on Logistic Regression is a Python adaptation from p. 154-161 of \"Introduction to Statistical Learning with Applications in R\" by Gareth James, Daniela Witten, Trevor Hastie and Robert Tibshirani. Adapted by R. Jordan Crouser at Smith College for SDS293: Machine Learning (Spring 2016).\n",
    "\n",
    "http://www.science.smith.edu/~jcrouser/SDS293/"
   ]
  },
  {
   "cell_type": "code",
   "execution_count": 1,
   "metadata": {},
   "outputs": [
    {
     "name": "stdout",
     "output_type": "stream",
     "text": [
      "Hello World\n",
      "---Run time is 0.00011559999998667081 seconds ---\n",
      "\n"
     ]
    }
   ],
   "source": [
    "import pandas as pd\n",
    "import numpy as np\n",
    "import statsmodels.api as sm\n",
    "import statsmodels.formula.api as smf\n",
    "# Tells matplotlib to display images inline instead of a new window\n",
    "%matplotlib inline\n",
    "\n",
    "import pandas as pd\n",
    "import numpy as np\n",
    "import matplotlib.pyplot as plt\n",
    "import seaborn as sns\n",
    "from sklearn.model_selection import LeaveOneOut\n",
    "from sklearn.model_selection import RandomizedSearchCV\n",
    "from scipy.stats import randint\n",
    "from tqdm import tqdm\n",
    "import wfdb\n",
    "\n",
    "from time import time\n",
    "import timeit #imports timeit module\n",
    "start_time = timeit.default_timer() #defines start time so computational time can be calculated\n",
    "print(\"Hello World\")\n",
    "elapsed = timeit.default_timer() - start_time #gives total computation time\n",
    "print(\"---Run time is %s seconds ---\" % elapsed) #prints computation time\n",
    "print()\n",
    "\n",
    "import statsmodels.api as sm\n",
    "import statsmodels.formula.api as smf\n",
    "from sklearn.preprocessing import PolynomialFeatures\n",
    "\n",
    "import sklearn.linear_model as skl_lm\n",
    "from sklearn.linear_model import LinearRegression\n",
    "from sklearn.linear_model import LogisticRegression\n",
    "from sklearn.linear_model import LogisticRegressionCV\n",
    "from sklearn.neighbors import KNeighborsClassifier\n",
    "from sklearn.discriminant_analysis import LinearDiscriminantAnalysis \n",
    "from sklearn.discriminant_analysis import QuadraticDiscriminantAnalysis\n",
    "\n",
    "from sklearn.tree import DecisionTreeRegressor \n",
    "from sklearn.tree import DecisionTreeClassifier \n",
    "from sklearn.tree import export_graphviz\n",
    "from sklearn.svm import SVC\n",
    "\n",
    "from sklearn.ensemble import RandomForestRegressor\n",
    "from sklearn.ensemble import GradientBoostingRegressor\n",
    "from sklearn.ensemble import RandomForestClassifier\n",
    "from sklearn.ensemble import AdaBoostClassifier\n",
    "from sklearn.ensemble import GradientBoostingClassifier\n",
    "\n",
    "from sklearn.model_selection import cross_val_score\n",
    "from sklearn.model_selection import KFold\n",
    "from sklearn.model_selection import LeaveOneOut\n",
    "from sklearn.model_selection import train_test_split\n",
    "from sklearn.model_selection import GridSearchCV\n",
    "\n",
    "from sklearn.metrics import mean_squared_error\n",
    "from sklearn.metrics import confusion_matrix\n",
    "from sklearn.metrics import classification_report\n",
    "from sklearn.metrics import accuracy_score\n",
    "from sklearn.metrics import precision_score\n",
    "from sklearn.metrics import auc\n",
    "from sklearn.metrics import roc_curve"
   ]
  },
  {
   "cell_type": "markdown",
   "metadata": {},
   "source": [
    "# 4.6.2 Logistic Regression\n",
    "\n",
    "Let's return to the `Smarket` data from `ISLR`. "
   ]
  },
  {
   "cell_type": "code",
   "execution_count": 2,
   "metadata": {},
   "outputs": [
    {
     "name": "stderr",
     "output_type": "stream",
     "text": [
      "\r",
      "  0%|          | 0/25 [00:00<?, ?it/s]"
     ]
    },
    {
     "name": "stdout",
     "output_type": "stream",
     "text": [
      "sampto must be greater than sampfrom\n",
      "sampto must be greater than sampfrom\n"
     ]
    },
    {
     "name": "stderr",
     "output_type": "stream",
     "text": [
      "100%|██████████| 25/25 [00:22<00:00,  1.12it/s]\n"
     ]
    }
   ],
   "source": [
    "#data = load_breast_cancer(as_frame = True); \n",
    "#df = data.frame; \n",
    "#print(df.shape)\n",
    "# In this block use the code we looked at on 6/30 as a reference to save our rr-intervals as a .\n",
    "rlist = []\n",
    "records = 'mit-bih-raw\\RECORDS' # Replace the _______ with the name of the records file in your MIT-BIH data folder\n",
    "with open(records) as rfile: #Then we open the file \n",
    "                             #The 'with' command only opens the file while we are in it. Automatically closes the file when we're not\n",
    "    for record in rfile:  # Then we iterate through the lines in the file\n",
    "        record = record[0:len(record)-1] # Remove any erronious new line characters at the end ('\\n')\n",
    "        rlist.append(record) # Then build an array with it\n",
    "        \n",
    "\n",
    "###### Step 1: Initialize all Arrays\n",
    "             # Below, replace all of the ___ with the command that declares an array/list\n",
    "             # hint: https://stackoverflow.com/questions/1514553/how-to-declare-an-array-in-python\n",
    "samples = [] # will house the samples of all subjects\n",
    "good_list = [] # will list the names of the subjects we successfully extracted\n",
    "bad_list = [] # will house the names of the subjects we failed to extract\n",
    "qrs = [] # will house the indices of R-Peaks for all subjects\n",
    "atr_label = [] # will house the labels for each rhythm annotation for all subjects\n",
    "atr_locs = [] # will house the locations corresponding to the rhythm annotation labels\n",
    "\n",
    "\n",
    "###### Step 2: Extract Information\n",
    "for x in tqdm(rlist): #this will iterate through te records that we found above\n",
    "  \n",
    "    try: # A try statement will run the except statement if for some reason the try commands fail\n",
    "         # In this case I use the try statement because one of the subjects has no signal data causing failure\n",
    "         # I then use bad_list and good_list so that all of the indices in rlist match with the arrays we initialized in Step 1, above\n",
    "        ######################################################\n",
    "            # Below find the wfdb function that will return the information that is described below \n",
    "        # Then replace _____ with the correct function call\n",
    "        samp = wfdb.rdsamp('mit-bih-raw/'+x) # wfdb._____(file_location) will read the signal & header data and return a 2 value array\n",
    "            # samp[0] - the signal data is the raw reading from the ecg. Each value is a sample taken.\n",
    "            # samp[1] - the header data includes things about the signal data such as:\n",
    "              # samples per section, denoted 'fs'\n",
    "              # number of signals, denoted 'n_sig'\n",
    "            \n",
    "        ######################################################\n",
    "        samples.append(samp) #add it to our array for all subject\n",
    "            #What is our file extension that has the annotation we want? Find it here and replace _____ with it \n",
    "            #hint: READ THE VARIABLE NAMES!!!!\n",
    "        qrs_tmp = wfdb.rdann('mit-bih-raw/'+x, extension='qrs') #extract the QRS Info\n",
    "        qrs_locs = np.array(qrs_tmp.sample, dtype='int') #Get just the loccation of R-Peaks from the QRS Info\n",
    "        qrs.append(qrs_locs) # Add to our array for all subjects\n",
    "        \n",
    "            #Do the same thing here\n",
    "        atr = wfdb.rdann('mit-bih-raw/'+x,extension='atr') #extract the atr info which stores the rhythm type(s) over the whole signal\n",
    "        atr_label.append(atr.aux_note) # aux_note stores the type of rhythm - main two are '(N' for normal and '(AFIB' for AFIB\n",
    "        atr_locs.append(np.append(atr.sample, len(samp[0]))) #I add the length of the whole sample to the end for better visualization later\n",
    "        \n",
    "        good_list.append(x) # when all extraction is successful append the record name to good_list\n",
    "    except Exception as exep:\n",
    "        print(exep) # Alert the user of an exception\n",
    "        bad_list.append(x) # add to the bad list\n"
   ]
  },
  {
   "cell_type": "code",
   "execution_count": 3,
   "metadata": {},
   "outputs": [
    {
     "name": "stdout",
     "output_type": "stream",
     "text": [
      "Index(['Unnamed: 0', 'AppEn', 'SampEn', 'CosEn', 'RangeEn', 'FuzzyEn',\n",
      "       'EntropyAF', 'PermEn', 'BubbleEn', 'MultiscaleEn', 'Volatility',\n",
      "       'Rhythm', 'Subject'],\n",
      "      dtype='object')\n"
     ]
    }
   ],
   "source": [
    "features_df_list = []\n",
    "for subject in good_list:\n",
    "    data = pd.read_csv(f'subject-features-dataframes/subject{subject}.csv')\n",
    "    data = data.assign(Subject = subject)\n",
    "    #print(data)\n",
    "    features_df_list.append(data)\n",
    "#features_maindf = pd.concat(features_df_list, ignore_index = True)\n",
    "features_maindf = pd.concat(features_df_list, ignore_index = True)\n",
    "print(features_maindf.columns)"
   ]
  },
  {
   "cell_type": "markdown",
   "metadata": {},
   "source": [
    "In this lab, we will fit a logistic regression model in order to predict `Direction` using `Lag1` through `Lag5` and `Volume`. We'll build our model using the `glm()` function, which is part of the\n",
    "`formula` submodule of (`statsmodels`)."
   ]
  },
  {
   "cell_type": "code",
   "execution_count": 4,
   "metadata": {},
   "outputs": [],
   "source": [
    "import statsmodels.formula.api as smf"
   ]
  },
  {
   "cell_type": "markdown",
   "metadata": {},
   "source": [
    "We can use an `R`-like formula string to separate the predictors from the response."
   ]
  },
  {
   "cell_type": "code",
   "execution_count": 5,
   "metadata": {},
   "outputs": [],
   "source": [
    "# formula = 'Direction ~ Lag1+Lag2+Lag3+Lag4+Lag5+Volume'"
   ]
  },
  {
   "cell_type": "markdown",
   "metadata": {},
   "source": [
    "The `glm()` function fits **generalized linear models**, a class of models that includes logistic regression. The syntax of the `glm()` function is similar to that of `lm()`, except that we must pass in the argument `family=sm.families.Binomial()` in order to tell `python` to run a logistic regression rather than some other type of generalized linear model."
   ]
  },
  {
   "cell_type": "code",
   "execution_count": 6,
   "metadata": {},
   "outputs": [],
   "source": [
    "# model_log = smf.glm(formula = formula, data=df, family=sm.families.Binomial())\n",
    "# result = model_log.fit()\n",
    "# print(result.summary())"
   ]
  },
  {
   "cell_type": "markdown",
   "metadata": {},
   "source": [
    "The smallest p-value here is associated with `Lag1`. The negative coefficient\n",
    "for this predictor suggests that if the market had a positive return yesterday,\n",
    "then it is less likely to go up today. However, at a value of 0.145, the p-value\n",
    "is still relatively large, and so there is no clear evidence of a real association\n",
    "between `Lag1` and `Direction`.\n",
    "\n",
    "We use the `.params` attribute in order to access just the coefficients for this\n",
    "fitted model. Similarly, we can use `.pvalues` to get the p-values for the coefficients, and `.model.endog_names` to get the **endogenous** (or dependent) variables."
   ]
  },
  {
   "cell_type": "code",
   "execution_count": 7,
   "metadata": {},
   "outputs": [],
   "source": [
    "# print(\"Coefficeients\")\n",
    "# print(result.params)\n",
    "# print()\n",
    "# print(\"p-Values\")\n",
    "# print(result.pvalues)\n",
    "# print()\n",
    "# print(\"Dependent variables\")\n",
    "# print(result.model.endog_names)"
   ]
  },
  {
   "cell_type": "markdown",
   "metadata": {},
   "source": [
    "Note that the dependent variable has been converted from nominal into two dummy variables: `['Direction[Down]', 'Direction[Up]']`.\n",
    "\n",
    "The `predict()` function can be used to predict the probability that the\n",
    "market will go down, given values of the predictors. If no data set is supplied to the\n",
    "`predict()` function, then the probabilities are computed for the training\n",
    "data that was used to fit the logistic regression model. "
   ]
  },
  {
   "cell_type": "code",
   "execution_count": 8,
   "metadata": {},
   "outputs": [],
   "source": [
    "# predictions = result.predict()\n",
    "# print(predictions[0:10])"
   ]
  },
  {
   "cell_type": "markdown",
   "metadata": {},
   "source": [
    "Here we have printed only the first ten probabilities. Note: these values correspond to the probability of the market going down, rather than up. If we print the model's encoding of the response values alongside the original nominal response, we see that Python has created a dummy variable with a 1 for `Down`."
   ]
  },
  {
   "cell_type": "code",
   "execution_count": 9,
   "metadata": {},
   "outputs": [],
   "source": [
    "# print(np.column_stack((df.loc[:,\"Direction\"], result.model.endog))) # np.vstack or np.hstack\n",
    "# # exog means x-values; and endog means Y-values"
   ]
  },
  {
   "cell_type": "markdown",
   "metadata": {},
   "source": [
    "In order to make a prediction as to whether the market will go up or\n",
    "down on a particular day, we must convert these predicted probabilities\n",
    "into class labels, `Up` or `Down`. The following *list comprehension* creates a vector\n",
    "of class predictions based on whether the predicted probability of a market\n",
    "increase is greater than or less than 0.5."
   ]
  },
  {
   "cell_type": "code",
   "execution_count": 10,
   "metadata": {},
   "outputs": [],
   "source": [
    "#"
   ]
  },
  {
   "cell_type": "markdown",
   "metadata": {},
   "source": [
    "This transforms to `Up` all of the elements for which the predicted probability of a\n",
    "market increase exceeds 0.5 (i.e. probability of a decrease is below 0.5). Given these predictions, the `confusion\\_matrix()` function can be used to produce a confusion matrix in order to determine how many\n",
    "observations were correctly or incorrectly classified."
   ]
  },
  {
   "cell_type": "markdown",
   "metadata": {},
   "source": [
    "#### sklearn.metrics.confusion_matrix\n",
    "\n",
    "sklearn.metrics.confusion_matrix(y_true, y_pred, *, labels=None, sample_weight=None, normalize=None)"
   ]
  },
  {
   "cell_type": "code",
   "execution_count": 11,
   "metadata": {},
   "outputs": [],
   "source": [
    "from sklearn.metrics import confusion_matrix, classification_report\n",
    "# print(confusion_matrix(df[\"Direction\"], \n",
    "#                        predictions_nominal))"
   ]
  },
  {
   "cell_type": "raw",
   "metadata": {},
   "source": [
    "                 Predicted \n",
    "                 Down          Up\n",
    " Truth  Down      145          457\n",
    "        Up        141          507"
   ]
  },
  {
   "cell_type": "markdown",
   "metadata": {},
   "source": [
    "The diagonal elements of the confusion matrix indicate correct predictions,\n",
    "while the off-diagonals represent incorrect predictions. Hence our model\n",
    "correctly predicted that the market would go up on 507 days and that\n",
    "it would go down on 145 days, for a total of 507 + 145 = 652 correct\n",
    "predictions. The `mean()` function can be used to compute the fraction of\n",
    "days for which the prediction was correct. In this case, logistic regression\n",
    "correctly predicted the movement of the market 52.2% of the time. this is confirmed by checking the output of the `classification\\_report()` function."
   ]
  },
  {
   "cell_type": "markdown",
   "metadata": {},
   "source": [
    "#### sklearn.metrics.classification_report\n",
    "\n",
    "sklearn.metrics.classification_report(y_true, y_pred, *, labels=None, target_names=None, sample_weight=None, digits=2, output_dict=False, zero_division='warn')"
   ]
  },
  {
   "cell_type": "code",
   "execution_count": 12,
   "metadata": {},
   "outputs": [],
   "source": [
    "# df[\"Direction\"].value_counts()"
   ]
  },
  {
   "cell_type": "code",
   "execution_count": 13,
   "metadata": {},
   "outputs": [],
   "source": [
    "# print(classification_report(df[\"Direction\"], \n",
    "#                             predictions_nominal, \n",
    "#                             digits = 3))\n",
    "\n",
    "# ##                 Predicted \n",
    "# ##                 Down          Up\n",
    "# ## Truth  Down      145          457\n",
    "# ##        Up        141          507\n",
    "\n",
    "# ## For Down: precision = (145)/(145+141) = 0.506993\n",
    "# ## For Down: recall = (145)/(145+457) = 0.2408638\n",
    "# ## For Down: f1-score = 2*(precision * recall)/(precision + recall) = 2* (0.507*0.241)/(0.507+0.241)=0.3267032\n",
    "\n",
    "# ## For Up: precision = (507)/(507+457) = 0.5259336\n",
    "# ## For Up: recall = (507)/(507+141) = 0.7824074\n",
    "# ## For Up: f1-score = 2*(precision * recall)/(precision + recall) = 2* (0.526*0.782)/(0.526+0.782)=0.628948\n",
    "\n",
    "# ## Accuracy = (145+507)/(1250) =0.5216\n",
    "\n",
    "# ## Macro-average precision = (P1+P2)/2 = (0.507+0.526)/2 = 0.5165\n",
    "# ## Macro-average recall = (R1+R2)/2 = (0.241+0.782)/2 = 0.5115\n",
    "# ## Macro-average f1-score = (f1_1+f1_2)/2 = (0.327+0.629)/2 = 0.478\n",
    "\n",
    "\n",
    "# # Up      648\n",
    "# # Down    602\n",
    "# # Total = 1250\n",
    "\n",
    "# ## Weighted-average precision = w1*P1 + w2*P2 = (602/1250)*0.507 + (648/1250)*0.526 = 0.5168496\n",
    "# ## Weighted-average recall = w1*R1 + w2*R2 = (602/1250)*0.241 + (648/1250)*0.782 = 0.5214544\n",
    "# ## Weighted-average f1-score = w1*(f1_1) + w2*(f1_2) = (602/1250)*0.327 + (648/1250)*0.629 = 0.4835568"
   ]
  },
  {
   "cell_type": "markdown",
   "metadata": {},
   "source": [
    "At first glance, it appears that the logistic regression model is working\n",
    "a little better than random guessing. But remember, this result is misleading\n",
    "because we trained and tested the model on the same set of 1,250 observations.\n",
    "In other words, 100− 52.2 = 47.8% is the **training error rate**. As we\n",
    "have seen previously, the training error rate is often overly optimistic — it\n",
    "tends to underestimate the _test_ error rate. \n",
    "\n",
    "In order to better assess the accuracy\n",
    "of the logistic regression model in this setting, we can fit the model\n",
    "using part of the data, and then examine how well it predicts the held out\n",
    "data. This will yield a more realistic error rate, in the sense that in practice\n",
    "we will be interested in our model’s performance not on the data that\n",
    "we used to fit the model, but rather on days in the future for which the\n",
    "market’s movements are unknown.\n",
    "\n",
    "Like we did with KNN, we will first create a vector corresponding\n",
    "to the observations from 2001 through 2004. We will then use this vector\n",
    "to create a held out data set of observations from 2005."
   ]
  },
  {
   "cell_type": "code",
   "execution_count": 14,
   "metadata": {},
   "outputs": [],
   "source": [
    "# df = pd.read_csv('Data/Smarket.csv', index_col=0, parse_dates=True)\n",
    "# x_train = df[:'2004'][:]\n",
    "# y_train = df[:'2004']['Direction']\n",
    "\n",
    "# x_test = df['2005':][:]\n",
    "# y_test = df['2005':]['Direction']"
   ]
  },
  {
   "cell_type": "markdown",
   "metadata": {},
   "source": [
    "We now fit a logistic regression model using only the subset of the observations\n",
    "that correspond to dates before 2005, using the subset argument.\n",
    "We then obtain predicted probabilities of the stock market going up for\n",
    "each of the days in our test set—that is, for the days in 2005."
   ]
  },
  {
   "cell_type": "code",
   "execution_count": 15,
   "metadata": {},
   "outputs": [],
   "source": [
    "# model = smf.glm(formula = formula, \n",
    "#                 data = x_train, \n",
    "#                 family = sm.families.Binomial())\n",
    "# result = model.fit()\n",
    "# #print(result.summary())"
   ]
  },
  {
   "cell_type": "markdown",
   "metadata": {},
   "source": [
    "Notice that we have trained and tested our model on two completely separate\n",
    "data sets: training was performed using only the dates before 2005,\n",
    "and testing was performed using only the dates in 2005. Finally, we compute\n",
    "the predictions for 2005 and compare them to the actual movements\n",
    "of the market over that time period."
   ]
  },
  {
   "cell_type": "code",
   "execution_count": 16,
   "metadata": {},
   "outputs": [],
   "source": [
    "# predictions = result.predict(x_test)\n",
    "# predictions_nominal = [ \"Up\" if x < 0.5 else \"Down\" for x in predictions]\n",
    "# print(classification_report(y_test, \n",
    "#                             predictions_nominal, \n",
    "#                             digits = 3))"
   ]
  },
  {
   "cell_type": "markdown",
   "metadata": {},
   "source": [
    "The results are rather disappointing: the test error\n",
    "rate (1 - `recall`) is 52%, which is worse than random guessing! Of course this result\n",
    "is not all that surprising, given that one would not generally expect to be\n",
    "able to use previous days’ returns to predict future market performance.\n",
    "(After all, if it were possible to do so, then the authors of this book [along with your professor] would probably\n",
    "be out striking it rich rather than teaching statistics.)\n",
    "\n",
    "We recall that the logistic regression model had very underwhelming pvalues\n",
    "associated with all of the predictors, and that the smallest p-value,\n",
    "though not very small, corresponded to `Lag1`. Perhaps by removing the\n",
    "variables that appear not to be helpful in predicting `Direction`, we can\n",
    "obtain a more effective model. After all, using predictors that have no\n",
    "relationship with the response tends to cause a deterioration in the test\n",
    "error rate (since such predictors cause an increase in variance without a\n",
    "corresponding decrease in bias), and so removing such predictors may in\n",
    "turn yield an improvement. \n",
    "\n",
    "In the space below, refit a logistic regression using just `Lag1` and `Lag2`, which seemed to have the highest predictive power in the original logistic regression model."
   ]
  },
  {
   "cell_type": "code",
   "execution_count": 17,
   "metadata": {},
   "outputs": [],
   "source": [
    "# # Write your code to fit the new model here\n",
    "# formula = 'Direction ~ Lag1+Lag2'\n",
    "# model = smf.glm(formula = formula, \n",
    "#                 data = x_train, \n",
    "#                 family = sm.families.Binomial())\n",
    "\n",
    "# # -----------------------------------\n",
    "# # This will test your new model; \n",
    "# # You don't need to change anything below\n",
    "# # -----------------------------------\n",
    "# result = model.fit()\n",
    "# print(result.summary())\n",
    "# print()\n",
    "\n",
    "# predictions = result.predict(x_test)\n",
    "# predictions_nominal = [ \"Up\" if x < 0.5 else \"Down\" for x in predictions]\n",
    "# print(classification_report(y_test, predictions_nominal, digits = 3))"
   ]
  },
  {
   "cell_type": "markdown",
   "metadata": {},
   "source": [
    "Now the results appear to be more promising: 56% of the daily movements\n",
    "have been correctly predicted. The confusion matrix suggests that on days\n",
    "when logistic regression predicts that the market will decline, it is only\n",
    "correct 50% of the time. However, on days when it predicts an increase in\n",
    "the market, it has a 58% accuracy rate.\n",
    "\n",
    "Finally, suppose that we want to predict the returns associated with **particular\n",
    "values** of `Lag1` and `Lag2`. In particular, we want to predict Direction on a\n",
    "day when `Lag1` and `Lag2` equal 1.2 and 1.1, respectively, and on a day when\n",
    "they equal 1.5 and −0.8. We can do this by passing a new data frame containing our test values to the `predict()` function."
   ]
  },
  {
   "cell_type": "code",
   "execution_count": 18,
   "metadata": {},
   "outputs": [],
   "source": [
    "# print(result.predict(pd.DataFrame([[1.2, 1.1], \n",
    "#                                    [1.5, -0.8]], \n",
    "#                                   columns = [\"Lag1\",\"Lag2\"])))"
   ]
  },
  {
   "cell_type": "markdown",
   "metadata": {},
   "source": [
    "To get credit for this lab, play around with a few other values for `Lag1` and `Lag2`, and then post to [#lab4](https://sds293.slack.com/messages/C79BELETC) about what you found. If you're feeling adventurous, try fitting models with other subsets of variables to see if you can find a better one!"
   ]
  },
  {
   "cell_type": "markdown",
   "metadata": {},
   "source": [
    "### Here is the full code for training/testing"
   ]
  },
  {
   "cell_type": "markdown",
   "metadata": {},
   "source": [
    "# No CosEn"
   ]
  },
  {
   "cell_type": "code",
   "execution_count": 14,
   "metadata": {},
   "outputs": [
    {
     "name": "stderr",
     "output_type": "stream",
     "text": [
      "23it [00:06,  3.29it/s]"
     ]
    },
    {
     "name": "stdout",
     "output_type": "stream",
     "text": [
      "---Run time is 194.3241273 seconds ---\n",
      "\n",
      "Accuracy of each fold: \n",
      " [0.9067505720823799, 0.9594320486815415, 0.9937027707808564, 0.7152278177458034, 0.9905956112852664, 0.954158215010142, 0.8187762727697337, 0.9938733832539143, 0.9317269076305221, 0.9608599779492834, 0.9823049001814882, 0.9842067480258435, 0.7129251700680272, 0.9968152866242038, 0.6432139883430474, 0.9353123615418697, 0.9910897875257025, 0.9994229659549914, 0.874894336432798, 0.9796591533809785, 0.9850299401197605, 0.9780288763339611, 0.9788583509513742]\n",
      "\n",
      "Avg accuracy : \n",
      "0.9246463235944995\n",
      "\n",
      "Std of accuracy : \n",
      "0.1008452849507316\n",
      "[[22773  1970]\n",
      " [ 1682 18543]]\n",
      "              precision    recall  f1-score   support\n",
      "\n",
      "           0       0.93      0.92      0.93     24743\n",
      "           1       0.90      0.92      0.91     20225\n",
      "\n",
      "    accuracy                           0.92     44968\n",
      "   macro avg       0.92      0.92      0.92     44968\n",
      "weighted avg       0.92      0.92      0.92     44968\n",
      "\n",
      "[0.9067505720823799, 0.9594320486815415, 0.9937027707808564, 0.7152278177458034, 0.9905956112852664, 0.954158215010142, 0.8187762727697337, 0.9938733832539143, 0.9317269076305221, 0.9608599779492834, 0.9823049001814882, 0.9842067480258435, 0.7129251700680272, 0.9968152866242038, 0.6432139883430474, 0.9353123615418697, 0.9910897875257025, 0.9994229659549914, 0.874894336432798, 0.9796591533809785, 0.9850299401197605, 0.9780288763339611, 0.9788583509513742]\n",
      "194.3241273\n"
     ]
    },
    {
     "name": "stderr",
     "output_type": "stream",
     "text": [
      "\n"
     ]
    }
   ],
   "source": [
    "import pandas as pd\n",
    "import numpy as np\n",
    "import statsmodels.api as sm\n",
    "import statsmodels.formula.api as smf\n",
    "from sklearn.metrics import confusion_matrix, classification_report\n",
    "x_values = ['StoS', 'StoR', 'StoL', 'RtoS', 'RtoR', 'RtoL', 'LtoS',\n",
    "       'LtoR', 'LtoL', 'STD', 'CoefVar', 'Range', 'Volatility', 'ShEn',\n",
    "       'AppEn', 'SampEn']\n",
    "y_values = ['Rhythm']\n",
    "\n",
    "from sklearn.inspection import permutation_importance\n",
    "x_values = ['SampEn','AppEn','RangeEn', 'FuzzyEn',\n",
    "       'EntropyAF', 'PermEn', 'BubbleEn', 'MultiscaleEn', 'Volatility',]\n",
    "y_values = ['Rhythm']\n",
    "#for df in features_df_list:\n",
    "\n",
    "zero_values_list = [0] * len(x_values)\n",
    "\n",
    "perm_imp_dict = dict(zip(x_values,zero_values_list))\n",
    "\n",
    "# Initialize dataframe with zeros\n",
    "average_importance = pd.DataFrame({'Importance':np.zeros(len(x_values))}, \n",
    "                                  index = x_values)\n",
    "\n",
    "counts = pd.DataFrame({'Count':np.zeros(len(x_values))}, \n",
    "                                  index = x_values)\n",
    "\n",
    "#for df in features_df_list:\n",
    "#model = DecisionTreeClassifier(max_depth = 6) #criterion='entropy'\n",
    "df = features_maindf\n",
    "acc_score = [];\n",
    "Truth = [];\n",
    "Output = [];\n",
    "max_depth_list = []\n",
    "for idx, subject in tqdm(enumerate(good_list)):\n",
    "    \n",
    "    train_index = ~df['Subject'].str.contains(subject)\n",
    "    test_index = df['Subject'].str.contains(subject)\n",
    "    X_train , X_test = df.loc[train_index,x_values], df.loc[test_index,x_values]\n",
    "    y_train , y_test = df.loc[train_index,y_values].values.ravel(), df.loc[test_index,y_values]\n",
    "\n",
    "#     temp_model = DecisionTreeClassifier(max_depth = 6)    \n",
    "#     param_distributions = {'max_depth': randint(7,9)}\n",
    "\n",
    "#     search = RandomizedSearchCV(estimator=temp_model, param_distributions=param_distributions, random_state=0)\n",
    "#     search.fit(X_train, y_train)\n",
    "\n",
    "#     max_depth_list.append(search.best_params_['max_depth'])\n",
    "    \n",
    "    model = LogisticRegression(solver= 'liblinear')\n",
    "    model.fit(X_train,y_train)\n",
    "\n",
    "    pred_values = model.predict(X_test)\n",
    "    pred_prob = model.predict_proba(X_test)[:, 1]\n",
    "     \n",
    "    acc = accuracy_score(y_test, pred_values)\n",
    "    acc_score.append(acc)\n",
    "    \n",
    "    Truth.extend(y_test.values.reshape(y_test.shape[0])); ## it is a list\n",
    "    Output.extend(pred_values); ## it is a list \n",
    "    \n",
    "    result = permutation_importance(model, X_test, y_test, n_repeats=10, random_state=0)\n",
    "\n",
    "    for i in range(0,len(x_values)):\n",
    "        perm_imp_dict[x_values[i]] += result.importances_mean[i]*100\n",
    "\n",
    "\n",
    "elapsed = timeit.default_timer() - start_time #gives total computation time\n",
    "print(\"---Run time is %s seconds ---\" % elapsed) #prints computation time\n",
    "print()\n",
    "\n",
    "print('Accuracy of each fold: \\n {}'.format(acc_score))\n",
    "print()\n",
    "print('Avg accuracy : \\n{}'.format(np.mean(acc_score))); \n",
    "print()\n",
    "print('Std of accuracy : \\n{}'.format(np.std(acc_score)))\n",
    "print(confusion_matrix(Truth, Output))\n",
    "print(classification_report(Truth, Output))\n",
    "print(acc_score)\n",
    "print(elapsed)\n",
    "\n",
    "for i in range(0,len(x_values)):\n",
    "    perm_imp_dict[x_values[i]] = perm_imp_dict[x_values[i]] / 23\n",
    "\n",
    "perm_imp_dict[\"log_reg\"] = 100\n",
    "perm_imp_df = pd.DataFrame([perm_imp_dict])\n",
    "\n",
    "perm_imp_df_t = perm_imp_df.T\n",
    "perm_imp_df_t.columns = [\"Importance\"]\n",
    "perm_imp_df_t.sort_values(by=['Importance'],ascending=False)\n",
    "\n",
    "perm_imp_df_t.to_csv('perm_imp.csv',mode='a',header=False)\n",
    "\n",
    "perm_imp_df_t = perm_imp_df_t.drop([\"log_reg\"])\n"
   ]
  },
  {
   "cell_type": "code",
   "execution_count": 15,
   "metadata": {},
   "outputs": [
    {
     "data": {
      "image/png": "[encoded data removed]",
      "text/plain": [
       "<Figure size 720x432 with 1 Axes>"
      ]
     },
     "metadata": {
      "needs_background": "light"
     },
     "output_type": "display_data"
    }
   ],
   "source": [
    "import matplotlib as mpl\n",
    "\n",
    "df62 = perm_imp_df_t.sort_values(by='Importance', axis=0, ascending=True)\n",
    "\n",
    "mpl.rcParams['font.family'] = 'Arial'\n",
    "\n",
    "# Create a figure and a set of subplots\n",
    "fig, ax = plt.subplots(figsize=(10, 6))\n",
    "\n",
    "# Create the plot\n",
    "df62.plot(kind='barh', color='indianred', ax=ax, legend=False,width=0.9)\n",
    "\n",
    "# Set axes labels and title\n",
    "ax.set_xlabel(\"Decrease in Accuracy Score\", fontsize=15)\n",
    "ax.set_title(\"Logistic Regression Permutation Importance without CosEn\", fontsize=20, weight='bold')\n",
    "\n",
    "# Make the axes labels bigger\n",
    "ax.tick_params(axis='both', which='major', labelsize=15)\n",
    "\n",
    "plt.xlim(0)\n",
    "plt.tight_layout()\n",
    "plt.show()\n"
   ]
  },
  {
   "cell_type": "code",
   "execution_count": 6,
   "metadata": {},
   "outputs": [
    {
     "name": "stdout",
     "output_type": "stream",
     "text": [
      "[[22884  1859]\n",
      " [ 1610 18615]]\n",
      "              precision    recall  f1-score   support\n",
      "\n",
      "           0       0.93      0.92      0.93     24743\n",
      "           1       0.91      0.92      0.91     20225\n",
      "\n",
      "    accuracy                           0.92     44968\n",
      "   macro avg       0.92      0.92      0.92     44968\n",
      "weighted avg       0.92      0.92      0.92     44968\n",
      "\n",
      "[0.9078947368421053, 0.9598377281947261, 0.993073047858942, 0.7260191846522782, 0.9879832810867294, 0.9594320486815415, 0.8052312003736571, 0.9945541184479237, 0.9307228915662651, 0.961962513781698, 0.9827586206896551, 0.9849246231155779, 0.7233560090702947, 0.9968152866242038, 0.6848459616985845, 0.9339831634913602, 0.9938313913639479, 0.9994229659549914, 0.8926458157227388, 0.9802089059923035, 0.9867408041060736, 0.9817953546767106, 0.9805496828752642]\n",
      "62.0635916\n"
     ]
    }
   ],
   "source": [
    "print(confusion_matrix(Truth, Output))\n",
    "print(classification_report(Truth, Output))\n",
    "print(acc_score)\n",
    "print(elapsed)\n",
    "\n",
    "confusion_matrix1 = pd.DataFrame(confusion_matrix(Truth, Output))\n",
    "acc_score1 = pd.DataFrame([acc_score])\n",
    "\n",
    "confusion_matrix1.to_csv(\"model_results/log_reg_cm.csv\",index=False)\n",
    "acc_score1 = pd.DataFrame([acc_score])\n",
    "acc_score1 = acc_score1.T\n",
    "acc_score1.columns = [\"Accuracy\"]\n",
    "acc_score1.to_csv(\"model_results/log_reg_accuracy.csv\",index=False)"
   ]
  },
  {
   "cell_type": "markdown",
   "metadata": {},
   "source": [
    "# CosEn"
   ]
  },
  {
   "cell_type": "code",
   "execution_count": 16,
   "metadata": {},
   "outputs": [
    {
     "name": "stderr",
     "output_type": "stream",
     "text": [
      "23it [00:07,  2.96it/s]"
     ]
    },
    {
     "name": "stdout",
     "output_type": "stream",
     "text": [
      "---Run time is 202.3755982 seconds ---\n",
      "\n",
      "Accuracy of each fold: \n",
      " [0.9101830663615561, 0.9598377281947261, 0.9937027707808564, 0.7314148681055156, 0.990073145245559, 0.9602434077079107, 0.8080336291452592, 0.9945541184479237, 0.9292168674698795, 0.9586549062844543, 0.9832123411978222, 0.9856424982053122, 0.7256235827664399, 0.9974522292993631, 0.6623646960865945, 0.9264510412051395, 0.9931459904043866, 1.0, 0.8782755705832629, 0.9796591533809785, 0.9850299401197605, 0.9767733835530445, 0.9784355179704017]\n",
      "\n",
      "Avg accuracy : \n",
      "0.9264339327180933\n",
      "\n",
      "Std of accuracy : \n",
      "0.0965383741920882\n",
      "[[22872  1871]\n",
      " [ 1696 18529]]\n",
      "              precision    recall  f1-score   support\n",
      "\n",
      "           0       0.93      0.92      0.93     24743\n",
      "           1       0.91      0.92      0.91     20225\n",
      "\n",
      "    accuracy                           0.92     44968\n",
      "   macro avg       0.92      0.92      0.92     44968\n",
      "weighted avg       0.92      0.92      0.92     44968\n",
      "\n",
      "[0.9101830663615561, 0.9598377281947261, 0.9937027707808564, 0.7314148681055156, 0.990073145245559, 0.9602434077079107, 0.8080336291452592, 0.9945541184479237, 0.9292168674698795, 0.9586549062844543, 0.9832123411978222, 0.9856424982053122, 0.7256235827664399, 0.9974522292993631, 0.6623646960865945, 0.9264510412051395, 0.9931459904043866, 1.0, 0.8782755705832629, 0.9796591533809785, 0.9850299401197605, 0.9767733835530445, 0.9784355179704017]\n",
      "202.3755982\n"
     ]
    },
    {
     "name": "stderr",
     "output_type": "stream",
     "text": [
      "\n"
     ]
    }
   ],
   "source": [
    "import pandas as pd\n",
    "import numpy as np\n",
    "import statsmodels.api as sm\n",
    "import statsmodels.formula.api as smf\n",
    "from sklearn.metrics import confusion_matrix, classification_report\n",
    "x_values = ['StoS', 'StoR', 'StoL', 'RtoS', 'RtoR', 'RtoL', 'LtoS',\n",
    "       'LtoR', 'LtoL', 'STD', 'CoefVar', 'Range', 'Volatility', 'ShEn',\n",
    "       'AppEn', 'SampEn']\n",
    "y_values = ['Rhythm']\n",
    "\n",
    "from sklearn.inspection import permutation_importance\n",
    "x_values = ['CosEn','AppEn','RangeEn', 'FuzzyEn',\n",
    "       'EntropyAF', 'PermEn', 'BubbleEn', 'MultiscaleEn', 'Volatility',]\n",
    "y_values = ['Rhythm']\n",
    "#for df in features_df_list:\n",
    "\n",
    "zero_values_list = [0] * len(x_values)\n",
    "\n",
    "perm_imp_dict = dict(zip(x_values,zero_values_list))\n",
    "\n",
    "# Initialize dataframe with zeros\n",
    "average_importance = pd.DataFrame({'Importance':np.zeros(len(x_values))}, \n",
    "                                  index = x_values)\n",
    "\n",
    "counts = pd.DataFrame({'Count':np.zeros(len(x_values))}, \n",
    "                                  index = x_values)\n",
    "\n",
    "#for df in features_df_list:\n",
    "#model = DecisionTreeClassifier(max_depth = 6) #criterion='entropy'\n",
    "df = features_maindf\n",
    "acc_score = [];\n",
    "Truth = [];\n",
    "Output = [];\n",
    "max_depth_list = []\n",
    "for idx, subject in tqdm(enumerate(good_list)):\n",
    "    \n",
    "    train_index = ~df['Subject'].str.contains(subject)\n",
    "    test_index = df['Subject'].str.contains(subject)\n",
    "    X_train , X_test = df.loc[train_index,x_values], df.loc[test_index,x_values]\n",
    "    y_train , y_test = df.loc[train_index,y_values].values.ravel(), df.loc[test_index,y_values]\n",
    "\n",
    "#     temp_model = DecisionTreeClassifier(max_depth = 6)    \n",
    "#     param_distributions = {'max_depth': randint(7,9)}\n",
    "\n",
    "#     search = RandomizedSearchCV(estimator=temp_model, param_distributions=param_distributions, random_state=0)\n",
    "#     search.fit(X_train, y_train)\n",
    "\n",
    "#     max_depth_list.append(search.best_params_['max_depth'])\n",
    "    \n",
    "    model = LogisticRegression(solver= 'liblinear')\n",
    "    model.fit(X_train,y_train)\n",
    "\n",
    "    pred_values = model.predict(X_test)\n",
    "    pred_prob = model.predict_proba(X_test)[:, 1]\n",
    "     \n",
    "    acc = accuracy_score(y_test, pred_values)\n",
    "    acc_score.append(acc)\n",
    "    \n",
    "    Truth.extend(y_test.values.reshape(y_test.shape[0])); ## it is a list\n",
    "    Output.extend(pred_values); ## it is a list \n",
    "    \n",
    "    result = permutation_importance(model, X_test, y_test, n_repeats=10, random_state=0)\n",
    "\n",
    "    for i in range(0,len(x_values)):\n",
    "        perm_imp_dict[x_values[i]] += result.importances_mean[i]*100\n",
    "\n",
    "\n",
    "elapsed = timeit.default_timer() - start_time #gives total computation time\n",
    "print(\"---Run time is %s seconds ---\" % elapsed) #prints computation time\n",
    "print()\n",
    "\n",
    "print('Accuracy of each fold: \\n {}'.format(acc_score))\n",
    "print()\n",
    "print('Avg accuracy : \\n{}'.format(np.mean(acc_score))); \n",
    "print()\n",
    "print('Std of accuracy : \\n{}'.format(np.std(acc_score)))\n",
    "print(confusion_matrix(Truth, Output))\n",
    "print(classification_report(Truth, Output))\n",
    "print(acc_score)\n",
    "print(elapsed)\n",
    "\n",
    "for i in range(0,len(x_values)):\n",
    "    perm_imp_dict[x_values[i]] = perm_imp_dict[x_values[i]] / 23\n"
   ]
  },
  {
   "cell_type": "code",
   "execution_count": 17,
   "metadata": {},
   "outputs": [
    {
     "data": {
      "image/png": "[encoded data removed]",
      "text/plain": [
       "<Figure size 720x432 with 1 Axes>"
      ]
     },
     "metadata": {
      "needs_background": "light"
     },
     "output_type": "display_data"
    }
   ],
   "source": [
    "import matplotlib as mpl\n",
    "\n",
    "perm_imp_df = pd.DataFrame([perm_imp_dict])\n",
    "\n",
    "perm_imp_df_t = perm_imp_df.T\n",
    "perm_imp_df_t.columns = [\"Importance\"]\n",
    "perm_imp_df_t.sort_values(by=['Importance'],ascending=False)\n",
    "\n",
    "\n",
    "df62 = perm_imp_df_t.sort_values(by='Importance', axis=0, ascending=True)\n",
    "\n",
    "mpl.rcParams['font.family'] = 'Arial'\n",
    "\n",
    "# Create a figure and a set of subplots\n",
    "fig, ax = plt.subplots(figsize=(10, 6))\n",
    "\n",
    "# Create the plot\n",
    "df62.plot(kind='barh', color='indianred', ax=ax, legend=False,width=0.9)\n",
    "\n",
    "# Set axes labels and title\n",
    "ax.set_xlabel(\"Decrease in Accuracy Score\", fontsize=15)\n",
    "ax.set_title(\"XGBoost Permutation Importance without SampEn\", fontsize=20, weight='bold')\n",
    "\n",
    "# Make the axes labels bigger\n",
    "ax.tick_params(axis='both', which='major', labelsize=15)\n",
    "\n",
    "plt.xlim(0)\n",
    "plt.tight_layout()\n",
    "plt.show()\n"
   ]
  },
  {
   "cell_type": "markdown",
   "metadata": {},
   "source": [
    "# Warining:\n",
    "\n",
    "Mis-matching may cause bugs in your code. \n",
    "\n",
    "If you have y-variable as #’s from your original data, then define “predictions_nominal ” as #s;\n",
    " \n",
    "Otherwise, y-variable as nominal as “High, Low”, “Up/Down” from your original data, then define “predictions_nominal ” as nominal “0” / “1”;"
   ]
  },
  {
   "cell_type": "code",
   "execution_count": 20,
   "metadata": {},
   "outputs": [],
   "source": [
    "# crossvalidation = KFold(n_splits=5, random_state=2, shuffle=True)\n",
    "# model = LogisticRegression(solver= 'liblinear')\n",
    "# scores = cross_val_score(model, X, y, cv=crossvalidation)\n",
    "# print('Accuracy of each fold: \\n {}'.format(scores))\n",
    "# print()\n",
    "# print(\"Avg accuracy: {}\".format(scores.mean()))"
   ]
  }
 ],
 "metadata": {
  "anaconda-cloud": {},
  "kernelspec": {
   "display_name": "Python 3",
   "language": "python",
   "name": "python3"
  },
  "language_info": {
   "codemirror_mode": {
    "name": "ipython",
    "version": 3
   },
   "file_extension": ".py",
   "mimetype": "text/x-python",
   "name": "python",
   "nbconvert_exporter": "python",
   "pygments_lexer": "ipython3",
   "version": "3.8.8"
  }
 },
 "nbformat": 4,
 "nbformat_minor": 4
}
