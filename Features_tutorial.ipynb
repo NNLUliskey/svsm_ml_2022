{
 "cells": [
  {
   "cell_type": "code",
   "execution_count": 1,
   "id": "333613f8",
   "metadata": {
    "id": "333613f8"
   },
   "outputs": [],
   "source": [
    "import numpy as np\n",
    "from matplotlib import pyplot as plt\n",
    "from sklearn import preprocessing\n",
    "import wfdb\n",
    "import copy as cp\n",
    "import scipy.signal as signal\n",
    "import pickle\n",
    "from sklearn import preprocessing\n",
    "from tqdm import tqdm\n",
    "import os\n",
    "import re\n",
    "import pandas as pd\n",
    "import csv"
   ]
  },
  {
   "cell_type": "code",
   "execution_count": 2,
   "id": "9bc2c7f9",
   "metadata": {
    "id": "9bc2c7f9"
   },
   "outputs": [],
   "source": [
    "record_list = [] # Initialize the array that will hold the list of our records\n",
    "\n",
    "records = 'mit-bih-dataframes/subject_list.csv' # Get our record list like we did in the initial extraction\n",
    "with open(records) as rfile:# Load our records into the array\n",
    "    for record in rfile:\n",
    "        record = record[0:-1] # The -1 removes the newline (\"\\n\") character from the string\n",
    "        record_list.append(record)"
   ]
  },
  {
   "cell_type": "code",
   "execution_count": 5,
   "id": "3b94e2d8",
   "metadata": {
    "id": "3b94e2d8",
    "outputId": "77927bf6-13a6-4d75-9f7a-931cda86d642"
   },
   "outputs": [
    {
     "name": "stderr",
     "output_type": "stream",
     "text": [
      "  0%|          | 0/23 [00:00<?, ?it/s]\n"
     ]
    },
    {
     "ename": "FileNotFoundError",
     "evalue": "[Errno 2] No such file or directory: 'mit-bih-dataframes/04015subject_list.csv'",
     "output_type": "error",
     "traceback": [
      "\u001b[1;31m---------------------------------------------------------------------------\u001b[0m",
      "\u001b[1;31mFileNotFoundError\u001b[0m                         Traceback (most recent call last)",
      "Input \u001b[1;32mIn [5]\u001b[0m, in \u001b[0;36m<cell line: 3>\u001b[1;34m()\u001b[0m\n\u001b[0;32m      1\u001b[0m subject_dataframes \u001b[38;5;241m=\u001b[39m {}\n\u001b[0;32m      3\u001b[0m \u001b[38;5;28;01mfor\u001b[39;00m x \u001b[38;5;129;01min\u001b[39;00m tqdm(record_list):\n\u001b[1;32m----> 4\u001b[0m     subject_dataframes[x] \u001b[38;5;241m=\u001b[39m \u001b[43mpd\u001b[49m\u001b[38;5;241;43m.\u001b[39;49m\u001b[43mread_csv\u001b[49m\u001b[43m(\u001b[49m\u001b[38;5;124;43m'\u001b[39;49m\u001b[38;5;124;43mmit-bih-dataframes/\u001b[39;49m\u001b[38;5;124;43m'\u001b[39;49m\u001b[43m \u001b[49m\u001b[38;5;241;43m+\u001b[39;49m\u001b[43m \u001b[49m\u001b[43mx\u001b[49m\u001b[43m \u001b[49m\u001b[38;5;241;43m+\u001b[39;49m\u001b[43m \u001b[49m\u001b[38;5;124;43m'\u001b[39;49m\u001b[38;5;124;43msubject_list.csv\u001b[39;49m\u001b[38;5;124;43m'\u001b[39;49m\u001b[43m)\u001b[49m\n",
      "File \u001b[1;32m~\\anaconda3\\lib\\site-packages\\pandas\\util\\_decorators.py:311\u001b[0m, in \u001b[0;36mdeprecate_nonkeyword_arguments.<locals>.decorate.<locals>.wrapper\u001b[1;34m(*args, **kwargs)\u001b[0m\n\u001b[0;32m    305\u001b[0m \u001b[38;5;28;01mif\u001b[39;00m \u001b[38;5;28mlen\u001b[39m(args) \u001b[38;5;241m>\u001b[39m num_allow_args:\n\u001b[0;32m    306\u001b[0m     warnings\u001b[38;5;241m.\u001b[39mwarn(\n\u001b[0;32m    307\u001b[0m         msg\u001b[38;5;241m.\u001b[39mformat(arguments\u001b[38;5;241m=\u001b[39marguments),\n\u001b[0;32m    308\u001b[0m         \u001b[38;5;167;01mFutureWarning\u001b[39;00m,\n\u001b[0;32m    309\u001b[0m         stacklevel\u001b[38;5;241m=\u001b[39mstacklevel,\n\u001b[0;32m    310\u001b[0m     )\n\u001b[1;32m--> 311\u001b[0m \u001b[38;5;28;01mreturn\u001b[39;00m func(\u001b[38;5;241m*\u001b[39margs, \u001b[38;5;241m*\u001b[39m\u001b[38;5;241m*\u001b[39mkwargs)\n",
      "File \u001b[1;32m~\\anaconda3\\lib\\site-packages\\pandas\\io\\parsers\\readers.py:680\u001b[0m, in \u001b[0;36mread_csv\u001b[1;34m(filepath_or_buffer, sep, delimiter, header, names, index_col, usecols, squeeze, prefix, mangle_dupe_cols, dtype, engine, converters, true_values, false_values, skipinitialspace, skiprows, skipfooter, nrows, na_values, keep_default_na, na_filter, verbose, skip_blank_lines, parse_dates, infer_datetime_format, keep_date_col, date_parser, dayfirst, cache_dates, iterator, chunksize, compression, thousands, decimal, lineterminator, quotechar, quoting, doublequote, escapechar, comment, encoding, encoding_errors, dialect, error_bad_lines, warn_bad_lines, on_bad_lines, delim_whitespace, low_memory, memory_map, float_precision, storage_options)\u001b[0m\n\u001b[0;32m    665\u001b[0m kwds_defaults \u001b[38;5;241m=\u001b[39m _refine_defaults_read(\n\u001b[0;32m    666\u001b[0m     dialect,\n\u001b[0;32m    667\u001b[0m     delimiter,\n\u001b[1;32m   (...)\u001b[0m\n\u001b[0;32m    676\u001b[0m     defaults\u001b[38;5;241m=\u001b[39m{\u001b[38;5;124m\"\u001b[39m\u001b[38;5;124mdelimiter\u001b[39m\u001b[38;5;124m\"\u001b[39m: \u001b[38;5;124m\"\u001b[39m\u001b[38;5;124m,\u001b[39m\u001b[38;5;124m\"\u001b[39m},\n\u001b[0;32m    677\u001b[0m )\n\u001b[0;32m    678\u001b[0m kwds\u001b[38;5;241m.\u001b[39mupdate(kwds_defaults)\n\u001b[1;32m--> 680\u001b[0m \u001b[38;5;28;01mreturn\u001b[39;00m \u001b[43m_read\u001b[49m\u001b[43m(\u001b[49m\u001b[43mfilepath_or_buffer\u001b[49m\u001b[43m,\u001b[49m\u001b[43m \u001b[49m\u001b[43mkwds\u001b[49m\u001b[43m)\u001b[49m\n",
      "File \u001b[1;32m~\\anaconda3\\lib\\site-packages\\pandas\\io\\parsers\\readers.py:575\u001b[0m, in \u001b[0;36m_read\u001b[1;34m(filepath_or_buffer, kwds)\u001b[0m\n\u001b[0;32m    572\u001b[0m _validate_names(kwds\u001b[38;5;241m.\u001b[39mget(\u001b[38;5;124m\"\u001b[39m\u001b[38;5;124mnames\u001b[39m\u001b[38;5;124m\"\u001b[39m, \u001b[38;5;28;01mNone\u001b[39;00m))\n\u001b[0;32m    574\u001b[0m \u001b[38;5;66;03m# Create the parser.\u001b[39;00m\n\u001b[1;32m--> 575\u001b[0m parser \u001b[38;5;241m=\u001b[39m TextFileReader(filepath_or_buffer, \u001b[38;5;241m*\u001b[39m\u001b[38;5;241m*\u001b[39mkwds)\n\u001b[0;32m    577\u001b[0m \u001b[38;5;28;01mif\u001b[39;00m chunksize \u001b[38;5;129;01mor\u001b[39;00m iterator:\n\u001b[0;32m    578\u001b[0m     \u001b[38;5;28;01mreturn\u001b[39;00m parser\n",
      "File \u001b[1;32m~\\anaconda3\\lib\\site-packages\\pandas\\io\\parsers\\readers.py:933\u001b[0m, in \u001b[0;36mTextFileReader.__init__\u001b[1;34m(self, f, engine, **kwds)\u001b[0m\n\u001b[0;32m    930\u001b[0m     \u001b[38;5;28mself\u001b[39m\u001b[38;5;241m.\u001b[39moptions[\u001b[38;5;124m\"\u001b[39m\u001b[38;5;124mhas_index_names\u001b[39m\u001b[38;5;124m\"\u001b[39m] \u001b[38;5;241m=\u001b[39m kwds[\u001b[38;5;124m\"\u001b[39m\u001b[38;5;124mhas_index_names\u001b[39m\u001b[38;5;124m\"\u001b[39m]\n\u001b[0;32m    932\u001b[0m \u001b[38;5;28mself\u001b[39m\u001b[38;5;241m.\u001b[39mhandles: IOHandles \u001b[38;5;241m|\u001b[39m \u001b[38;5;28;01mNone\u001b[39;00m \u001b[38;5;241m=\u001b[39m \u001b[38;5;28;01mNone\u001b[39;00m\n\u001b[1;32m--> 933\u001b[0m \u001b[38;5;28mself\u001b[39m\u001b[38;5;241m.\u001b[39m_engine \u001b[38;5;241m=\u001b[39m \u001b[38;5;28;43mself\u001b[39;49m\u001b[38;5;241;43m.\u001b[39;49m\u001b[43m_make_engine\u001b[49m\u001b[43m(\u001b[49m\u001b[43mf\u001b[49m\u001b[43m,\u001b[49m\u001b[43m \u001b[49m\u001b[38;5;28;43mself\u001b[39;49m\u001b[38;5;241;43m.\u001b[39;49m\u001b[43mengine\u001b[49m\u001b[43m)\u001b[49m\n",
      "File \u001b[1;32m~\\anaconda3\\lib\\site-packages\\pandas\\io\\parsers\\readers.py:1217\u001b[0m, in \u001b[0;36mTextFileReader._make_engine\u001b[1;34m(self, f, engine)\u001b[0m\n\u001b[0;32m   1213\u001b[0m     mode \u001b[38;5;241m=\u001b[39m \u001b[38;5;124m\"\u001b[39m\u001b[38;5;124mrb\u001b[39m\u001b[38;5;124m\"\u001b[39m\n\u001b[0;32m   1214\u001b[0m \u001b[38;5;66;03m# error: No overload variant of \"get_handle\" matches argument types\u001b[39;00m\n\u001b[0;32m   1215\u001b[0m \u001b[38;5;66;03m# \"Union[str, PathLike[str], ReadCsvBuffer[bytes], ReadCsvBuffer[str]]\"\u001b[39;00m\n\u001b[0;32m   1216\u001b[0m \u001b[38;5;66;03m# , \"str\", \"bool\", \"Any\", \"Any\", \"Any\", \"Any\", \"Any\"\u001b[39;00m\n\u001b[1;32m-> 1217\u001b[0m \u001b[38;5;28mself\u001b[39m\u001b[38;5;241m.\u001b[39mhandles \u001b[38;5;241m=\u001b[39m \u001b[43mget_handle\u001b[49m\u001b[43m(\u001b[49m\u001b[43m  \u001b[49m\u001b[38;5;66;43;03m# type: ignore[call-overload]\u001b[39;49;00m\n\u001b[0;32m   1218\u001b[0m \u001b[43m    \u001b[49m\u001b[43mf\u001b[49m\u001b[43m,\u001b[49m\n\u001b[0;32m   1219\u001b[0m \u001b[43m    \u001b[49m\u001b[43mmode\u001b[49m\u001b[43m,\u001b[49m\n\u001b[0;32m   1220\u001b[0m \u001b[43m    \u001b[49m\u001b[43mencoding\u001b[49m\u001b[38;5;241;43m=\u001b[39;49m\u001b[38;5;28;43mself\u001b[39;49m\u001b[38;5;241;43m.\u001b[39;49m\u001b[43moptions\u001b[49m\u001b[38;5;241;43m.\u001b[39;49m\u001b[43mget\u001b[49m\u001b[43m(\u001b[49m\u001b[38;5;124;43m\"\u001b[39;49m\u001b[38;5;124;43mencoding\u001b[39;49m\u001b[38;5;124;43m\"\u001b[39;49m\u001b[43m,\u001b[49m\u001b[43m \u001b[49m\u001b[38;5;28;43;01mNone\u001b[39;49;00m\u001b[43m)\u001b[49m\u001b[43m,\u001b[49m\n\u001b[0;32m   1221\u001b[0m \u001b[43m    \u001b[49m\u001b[43mcompression\u001b[49m\u001b[38;5;241;43m=\u001b[39;49m\u001b[38;5;28;43mself\u001b[39;49m\u001b[38;5;241;43m.\u001b[39;49m\u001b[43moptions\u001b[49m\u001b[38;5;241;43m.\u001b[39;49m\u001b[43mget\u001b[49m\u001b[43m(\u001b[49m\u001b[38;5;124;43m\"\u001b[39;49m\u001b[38;5;124;43mcompression\u001b[39;49m\u001b[38;5;124;43m\"\u001b[39;49m\u001b[43m,\u001b[49m\u001b[43m \u001b[49m\u001b[38;5;28;43;01mNone\u001b[39;49;00m\u001b[43m)\u001b[49m\u001b[43m,\u001b[49m\n\u001b[0;32m   1222\u001b[0m \u001b[43m    \u001b[49m\u001b[43mmemory_map\u001b[49m\u001b[38;5;241;43m=\u001b[39;49m\u001b[38;5;28;43mself\u001b[39;49m\u001b[38;5;241;43m.\u001b[39;49m\u001b[43moptions\u001b[49m\u001b[38;5;241;43m.\u001b[39;49m\u001b[43mget\u001b[49m\u001b[43m(\u001b[49m\u001b[38;5;124;43m\"\u001b[39;49m\u001b[38;5;124;43mmemory_map\u001b[39;49m\u001b[38;5;124;43m\"\u001b[39;49m\u001b[43m,\u001b[49m\u001b[43m \u001b[49m\u001b[38;5;28;43;01mFalse\u001b[39;49;00m\u001b[43m)\u001b[49m\u001b[43m,\u001b[49m\n\u001b[0;32m   1223\u001b[0m \u001b[43m    \u001b[49m\u001b[43mis_text\u001b[49m\u001b[38;5;241;43m=\u001b[39;49m\u001b[43mis_text\u001b[49m\u001b[43m,\u001b[49m\n\u001b[0;32m   1224\u001b[0m \u001b[43m    \u001b[49m\u001b[43merrors\u001b[49m\u001b[38;5;241;43m=\u001b[39;49m\u001b[38;5;28;43mself\u001b[39;49m\u001b[38;5;241;43m.\u001b[39;49m\u001b[43moptions\u001b[49m\u001b[38;5;241;43m.\u001b[39;49m\u001b[43mget\u001b[49m\u001b[43m(\u001b[49m\u001b[38;5;124;43m\"\u001b[39;49m\u001b[38;5;124;43mencoding_errors\u001b[39;49m\u001b[38;5;124;43m\"\u001b[39;49m\u001b[43m,\u001b[49m\u001b[43m \u001b[49m\u001b[38;5;124;43m\"\u001b[39;49m\u001b[38;5;124;43mstrict\u001b[39;49m\u001b[38;5;124;43m\"\u001b[39;49m\u001b[43m)\u001b[49m\u001b[43m,\u001b[49m\n\u001b[0;32m   1225\u001b[0m \u001b[43m    \u001b[49m\u001b[43mstorage_options\u001b[49m\u001b[38;5;241;43m=\u001b[39;49m\u001b[38;5;28;43mself\u001b[39;49m\u001b[38;5;241;43m.\u001b[39;49m\u001b[43moptions\u001b[49m\u001b[38;5;241;43m.\u001b[39;49m\u001b[43mget\u001b[49m\u001b[43m(\u001b[49m\u001b[38;5;124;43m\"\u001b[39;49m\u001b[38;5;124;43mstorage_options\u001b[39;49m\u001b[38;5;124;43m\"\u001b[39;49m\u001b[43m,\u001b[49m\u001b[43m \u001b[49m\u001b[38;5;28;43;01mNone\u001b[39;49;00m\u001b[43m)\u001b[49m\u001b[43m,\u001b[49m\n\u001b[0;32m   1226\u001b[0m \u001b[43m\u001b[49m\u001b[43m)\u001b[49m\n\u001b[0;32m   1227\u001b[0m \u001b[38;5;28;01massert\u001b[39;00m \u001b[38;5;28mself\u001b[39m\u001b[38;5;241m.\u001b[39mhandles \u001b[38;5;129;01mis\u001b[39;00m \u001b[38;5;129;01mnot\u001b[39;00m \u001b[38;5;28;01mNone\u001b[39;00m\n\u001b[0;32m   1228\u001b[0m f \u001b[38;5;241m=\u001b[39m \u001b[38;5;28mself\u001b[39m\u001b[38;5;241m.\u001b[39mhandles\u001b[38;5;241m.\u001b[39mhandle\n",
      "File \u001b[1;32m~\\anaconda3\\lib\\site-packages\\pandas\\io\\common.py:789\u001b[0m, in \u001b[0;36mget_handle\u001b[1;34m(path_or_buf, mode, encoding, compression, memory_map, is_text, errors, storage_options)\u001b[0m\n\u001b[0;32m    784\u001b[0m \u001b[38;5;28;01melif\u001b[39;00m \u001b[38;5;28misinstance\u001b[39m(handle, \u001b[38;5;28mstr\u001b[39m):\n\u001b[0;32m    785\u001b[0m     \u001b[38;5;66;03m# Check whether the filename is to be opened in binary mode.\u001b[39;00m\n\u001b[0;32m    786\u001b[0m     \u001b[38;5;66;03m# Binary mode does not support 'encoding' and 'newline'.\u001b[39;00m\n\u001b[0;32m    787\u001b[0m     \u001b[38;5;28;01mif\u001b[39;00m ioargs\u001b[38;5;241m.\u001b[39mencoding \u001b[38;5;129;01mand\u001b[39;00m \u001b[38;5;124m\"\u001b[39m\u001b[38;5;124mb\u001b[39m\u001b[38;5;124m\"\u001b[39m \u001b[38;5;129;01mnot\u001b[39;00m \u001b[38;5;129;01min\u001b[39;00m ioargs\u001b[38;5;241m.\u001b[39mmode:\n\u001b[0;32m    788\u001b[0m         \u001b[38;5;66;03m# Encoding\u001b[39;00m\n\u001b[1;32m--> 789\u001b[0m         handle \u001b[38;5;241m=\u001b[39m \u001b[38;5;28;43mopen\u001b[39;49m\u001b[43m(\u001b[49m\n\u001b[0;32m    790\u001b[0m \u001b[43m            \u001b[49m\u001b[43mhandle\u001b[49m\u001b[43m,\u001b[49m\n\u001b[0;32m    791\u001b[0m \u001b[43m            \u001b[49m\u001b[43mioargs\u001b[49m\u001b[38;5;241;43m.\u001b[39;49m\u001b[43mmode\u001b[49m\u001b[43m,\u001b[49m\n\u001b[0;32m    792\u001b[0m \u001b[43m            \u001b[49m\u001b[43mencoding\u001b[49m\u001b[38;5;241;43m=\u001b[39;49m\u001b[43mioargs\u001b[49m\u001b[38;5;241;43m.\u001b[39;49m\u001b[43mencoding\u001b[49m\u001b[43m,\u001b[49m\n\u001b[0;32m    793\u001b[0m \u001b[43m            \u001b[49m\u001b[43merrors\u001b[49m\u001b[38;5;241;43m=\u001b[39;49m\u001b[43merrors\u001b[49m\u001b[43m,\u001b[49m\n\u001b[0;32m    794\u001b[0m \u001b[43m            \u001b[49m\u001b[43mnewline\u001b[49m\u001b[38;5;241;43m=\u001b[39;49m\u001b[38;5;124;43m\"\u001b[39;49m\u001b[38;5;124;43m\"\u001b[39;49m\u001b[43m,\u001b[49m\n\u001b[0;32m    795\u001b[0m \u001b[43m        \u001b[49m\u001b[43m)\u001b[49m\n\u001b[0;32m    796\u001b[0m     \u001b[38;5;28;01melse\u001b[39;00m:\n\u001b[0;32m    797\u001b[0m         \u001b[38;5;66;03m# Binary mode\u001b[39;00m\n\u001b[0;32m    798\u001b[0m         handle \u001b[38;5;241m=\u001b[39m \u001b[38;5;28mopen\u001b[39m(handle, ioargs\u001b[38;5;241m.\u001b[39mmode)\n",
      "\u001b[1;31mFileNotFoundError\u001b[0m: [Errno 2] No such file or directory: 'mit-bih-dataframes/04015subject_list.csv'"
     ]
    }
   ],
   "source": [
    "subject_dataframes = {}\n",
    "\n",
    "for x in tqdm(record_list):\n",
    "    subject_dataframes[x] = pd.read_csv('mit-bih-dataframes/' + x + 'subject_list.csv')"
   ]
  },
  {
   "cell_type": "code",
   "execution_count": null,
   "id": "f07543e6",
   "metadata": {
    "id": "f07543e6",
    "outputId": "f1e81f4a-66c9-466d-fa6c-b69d90e3581e"
   },
   "outputs": [
    {
     "name": "stdout",
     "output_type": "stream",
     "text": [
      "      Unnamed: 0        subsetID rhythmLabel\n",
      "0              0     04015-0.csv      Normal\n",
      "1              1     04015-1.csv      Normal\n",
      "2              2     04015-2.csv      Normal\n",
      "3              3     04015-3.csv      Normal\n",
      "4              4     04015-4.csv      Normal\n",
      "...          ...             ...         ...\n",
      "1413        1413  04015-1413.csv      Normal\n",
      "1414        1414  04015-1414.csv      Normal\n",
      "1415        1415  04015-1415.csv      Normal\n",
      "1416        1416  04015-1416.csv      Normal\n",
      "1417        1417  04015-1417.csv      Normal\n",
      "\n",
      "[1418 rows x 3 columns]\n"
     ]
    }
   ],
   "source": [
    "print(subject_dataframes['04015'])"
   ]
  },
  {
   "cell_type": "code",
   "execution_count": null,
   "id": "71b169e2",
   "metadata": {
    "id": "71b169e2"
   },
   "outputs": [],
   "source": [
    "rr_ints = [] # Initialize the array that will hold all of our subjects' RR-Intervals\n",
    "\n",
    "for idx, subj in enumerate(record_list): # Iterate through our subject ids\n",
    "    rr_ints.append(np.genfromtxt('mit-bih-rrintervals/'+str(subj)+'_rr-intervals.csv',delimiter=',')) # Add to master array\n",
    "       #NOTE = change 'mit-bih-rr-intervals/' to the appropriate location\n"
   ]
  },
  {
   "cell_type": "code",
   "execution_count": null,
   "id": "cad26f6c",
   "metadata": {
    "id": "cad26f6c",
    "outputId": "04dc38ba-961f-44bd-aafc-281a1245581d"
   },
   "outputs": [
    {
     "name": "stderr",
     "output_type": "stream",
     "text": [
      "23it [00:00, 37.89it/s]\n"
     ]
    }
   ],
   "source": [
    "#this removes outliers so copy-paste your own code here\n",
    "#the comment is how I removed outliers\n",
    "outlier_list=[]\n",
    "rrs=[]\n",
    "# for idx, subj in tqdm(enumerate(rr_ints)):\n",
    "#     outlier = [[],[]] # I want to store the index and the outlier\n",
    "#     for idx2, rr in enumerate(subj):\n",
    "#         if rr > 500:\n",
    "#             outlier[0].append(rr) # add the rr int to our list\n",
    "#             outlier[1].append(idx2) # Add its index to our list\n",
    "#     subj = np.delete(subj, outlier[1]) # Remove all found outliers from our subject \n",
    "#     rrs.append(subj) # Add it to our new rr interval list\n",
    "#     outlier_list.append(outlier)"
   ]
  },
  {
   "cell_type": "code",
   "execution_count": null,
   "id": "8cd53573",
   "metadata": {
    "id": "8cd53573",
    "outputId": "141329ab-eeba-463e-c84a-c42e730d5bc5"
   },
   "outputs": [
    {
     "name": "stdout",
     "output_type": "stream",
     "text": [
      "{'04015': [], '04043': [], '04048': [], '04126': [], '04746': [], '04908': [], '04936': [], '05091': [], '05121': [], '05261': [], '06426': [], '06453': [], '06995': [], '07162': [], '07859': [], '07879': [], '07910': [], '08215': [], '08219': [], '08378': [], '08405': [], '08434': [], '08455': []}\n"
     ]
    }
   ],
   "source": [
    "#creates empty dictionary for subsets\n",
    "subset_list = {}\n",
    "for x in record_list:\n",
    "    subset_list[x] = []\n",
    "    \n"
   ]
  },
  {
   "cell_type": "code",
   "execution_count": null,
   "id": "8e9bf758",
   "metadata": {
    "id": "8e9bf758",
    "outputId": "d8d09b0f-e9c9-49ac-a488-8fcd41db2827"
   },
   "outputs": [
    {
     "name": "stderr",
     "output_type": "stream",
     "text": [
      "23it [00:01, 18.05it/s]\n"
     ]
    }
   ],
   "source": [
    "#divides subsets by 25\n",
    "subset_len_sec = 25 # Set the time we are going to subset by\n",
    "subset_len_samp = subset_len_sec*250 # Get that timme in samplse\n",
    "\n",
    "for idx, subj in tqdm(enumerate(rrs)):\n",
    "    samp = 0\n",
    "    while samp < len(subj):\n",
    "        subs_len = 0\n",
    "        subs = []\n",
    "        while subs_len < subset_len_samp and samp<len(subj):\n",
    "            rr = subj[samp]\n",
    "            subs.append(rr)\n",
    "            subs_len+=rr\n",
    "            samp+=1\n",
    "        subset_list[record_list[idx]].append(subs)"
   ]
  },
  {
   "cell_type": "code",
   "execution_count": null,
   "id": "dc9dcc44",
   "metadata": {
    "id": "dc9dcc44"
   },
   "outputs": [],
   "source": []
  },
  {
   "cell_type": "code",
   "execution_count": null,
   "id": "239f0783",
   "metadata": {
    "id": "239f0783",
    "outputId": "840df7b7-8a32-4256-e0ea-973d663943f6"
   },
   "outputs": [
    {
     "name": "stderr",
     "output_type": "stream",
     "text": [
      "23it [00:01, 12.31it/s]\n"
     ]
    }
   ],
   "source": [
    "#Classifying transitions between RR-Ints as short, medium, or long using running mean\n",
    "int_types = []\n",
    "\n",
    "for idx, subject in tqdm(enumerate(record_list)):\n",
    "    #list of types of rr_ints for each subject\n",
    "    subject_types = []\n",
    "    for i, subset in enumerate(subset_list[subject]):\n",
    "        subset_types = []\n",
    "        for j, rr_ints in enumerate(subset):\n",
    "            if j==0:\n",
    "                runningmean = rr_ints\n",
    "            runningmean = 0.75*runningmean + 0.25*rr_ints\n",
    "            if rr_ints < _____: \n",
    "                #if rr_ints is less than 85% of runningmean\n",
    "                #label subject type as short\n",
    "\n",
    "\n",
    "            elif rr_ints > ____: \n",
    "                #if rr_ints is greater than 115% of runningmean\n",
    "                #label subject type as long\n",
    "\n",
    "\n",
    "            else:\n",
    "                #label subject type as regular\n",
    "\n",
    "\n",
    "        subject_types.append(subset_types)\n",
    "    int_types.append(subject_types)\n",
    "\n"
   ]
  },
  {
   "cell_type": "code",
   "execution_count": null,
   "id": "26a92ce5",
   "metadata": {
    "id": "26a92ce5"
   },
   "outputs": [],
   "source": [
    "#Classifying transitions between RR-Ints as short, medium, or long using running mean\n",
    "transitions_list=[]\n",
    "\n",
    "for idx, subject in enumerate(int_types): \n",
    "    subject_transitions = []\n",
    "    for j, subset in enumerate(subject):\n",
    "        StoS, StoR, StoL, RtoS, RtoR, RtoL, LtoS, LtoR, LtoL = [0]*9\n",
    "        count = 0\n",
    "        for i, rr_int in enumerate(subset):\n",
    "            if i<len(subset)-1:\n",
    "                count += 1\n",
    "                if subset[i]==__ and subset[i+1]==___:\n",
    "                  #if subset is short to short\n",
    "                  #add one to the StoS counter\n",
    "\n",
    "\n",
    "                elif subset[i]==__ and subset[i+1]==__:\n",
    "                  #if subset is short to regular\n",
    "                  #add one to the StoR counter\n",
    "\n",
    "\n",
    "                elif subset[i]==__ and subset[i+1]==__:\n",
    "                  #if subset is short to long\n",
    "                  #add one to the StoL counter\n",
    "                \n",
    "\n",
    "                #repeat for... \n",
    "                #regular to short\n",
    "                #regular to regular\n",
    "                #regular to long\n",
    "                #long to short\n",
    "                #long to regular\n",
    "                #long to long\n",
    "        subject_transitions.append([StoS/count, StoR/count, StoL/count, RtoS/count, RtoR/count, RtoL/count, LtoS/count, LtoR/count, LtoL/count])\n",
    "    transitions_list.append(subject_transitions)"
   ]
  },
  {
   "cell_type": "code",
   "execution_count": null,
   "id": "3db82ace",
   "metadata": {
    "id": "3db82ace",
    "outputId": "71de77ba-9b34-40d2-c74b-bacf240ff521"
   },
   "outputs": [
    {
     "name": "stdout",
     "output_type": "stream",
     "text": [
      "[0.2, 0.05714285714285714, 0.02857142857142857, 0.05714285714285714, 0.22857142857142856, 0.14285714285714285, 0.05714285714285714, 0.11428571428571428, 0.11428571428571428]\n"
     ]
    }
   ],
   "source": [
    "print(transitions_list[0][0])"
   ]
  },
  {
   "cell_type": "code",
   "execution_count": null,
   "id": "774a3384",
   "metadata": {
    "id": "774a3384"
   },
   "outputs": [],
   "source": [
    "#Standard deviation\n",
    "Std_list = []\n",
    "for i, subject in enumerate(record_list):\n",
    "    Standard_devs = []\n",
    "    for j, subset in enumerate(subset_list[subject]):\n",
    "        standard_dev = np.std(subset)\n",
    "        Standard_devs.append(standard_dev)\n",
    "    Std_list.append(Standard_devs)"
   ]
  },
  {
   "cell_type": "code",
   "execution_count": null,
   "id": "87c77994",
   "metadata": {
    "id": "87c77994"
   },
   "outputs": [],
   "source": [
    "#Coefficient of variance(std/mean)\n",
    "#same formatting as std but divide by mean to obtain CoefOfVar"
   ]
  },
  {
   "cell_type": "code",
   "execution_count": null,
   "id": "1836ac84",
   "metadata": {
    "id": "1836ac84"
   },
   "outputs": [],
   "source": [
    "#Range\n",
    "#same formatting as std but range is maximum of subset minus minimum of subset\n",
    "    \n",
    "\n"
   ]
  },
  {
   "cell_type": "code",
   "execution_count": null,
   "id": "60e59f9f",
   "metadata": {
    "id": "60e59f9f",
    "outputId": "3c92f932-6d94-4a42-9919-9ddb6dea8780"
   },
   "outputs": [
    {
     "name": "stderr",
     "output_type": "stream",
     "text": [
      "23it [00:00, 58.55it/s]\n"
     ]
    }
   ],
   "source": [
    "dfdic = {}\n",
    "for idx, subj in tqdm(enumerate(record_list)):\n",
    "    dfdic[subj] = pd.DataFrame(\n",
    "        data = np.transpose(np.array([\n",
    "                                    [x[0] for x in transitions_list[idx]],\n",
    "                                    [x[1] for x in transitions_list[idx]],\n",
    "                                    [x[2] for x in transitions_list[idx]],\n",
    "                                    [x[3] for x in transitions_list[idx]],\n",
    "                                    [x[4] for x in transitions_list[idx]],\n",
    "                                    [x[5] for x in transitions_list[idx]],\n",
    "                                    [x[6] for x in transitions_list[idx]],\n",
    "                                    [x[7] for x in transitions_list[idx]],\n",
    "                                    [x[8] for x in transitions_list[idx]],\n",
    "                                    Std_list[idx],\n",
    "                                    CoefVar_list[idx],\n",
    "                                    Range_list[idx],\n",
    "                                    ])\n",
    "                           ),\n",
    "        columns = ['StoS', 'StoR', 'StoL', 'RtoS', 'RtoR', 'RtoL', 'LtoS', 'LtoR', 'LtoL', 'STD', 'CoefVar', 'Range']\n",
    "    )\n"
   ]
  },
  {
   "cell_type": "code",
   "execution_count": null,
   "id": "513187b6",
   "metadata": {
    "id": "513187b6"
   },
   "outputs": [],
   "source": [
    "for idx, x in enumerate(record_list):\n",
    "    dfdic[x] = pd.concat([subject_dataframes[x], dfdic[x]], axis=1)"
   ]
  },
  {
   "cell_type": "code",
   "execution_count": null,
   "id": "f4084a9a",
   "metadata": {
    "id": "f4084a9a",
    "outputId": "0c818689-53cc-4730-f740-28f2ec9c1877"
   },
   "outputs": [
    {
     "data": {
      "text/html": [
       "<div>\n",
       "<style scoped>\n",
       "    .dataframe tbody tr th:only-of-type {\n",
       "        vertical-align: middle;\n",
       "    }\n",
       "\n",
       "    .dataframe tbody tr th {\n",
       "        vertical-align: top;\n",
       "    }\n",
       "\n",
       "    .dataframe thead th {\n",
       "        text-align: right;\n",
       "    }\n",
       "</style>\n",
       "<table border=\"1\" class=\"dataframe\">\n",
       "  <thead>\n",
       "    <tr style=\"text-align: right;\">\n",
       "      <th></th>\n",
       "      <th>Unnamed: 0</th>\n",
       "      <th>subsetID</th>\n",
       "      <th>rhythmLabel</th>\n",
       "      <th>StoS</th>\n",
       "      <th>StoR</th>\n",
       "      <th>StoL</th>\n",
       "      <th>RtoS</th>\n",
       "      <th>RtoR</th>\n",
       "      <th>RtoL</th>\n",
       "      <th>LtoS</th>\n",
       "      <th>LtoR</th>\n",
       "      <th>LtoL</th>\n",
       "      <th>RMS</th>\n",
       "      <th>STD</th>\n",
       "      <th>CoefVar</th>\n",
       "      <th>Range</th>\n",
       "      <th>IQR</th>\n",
       "      <th>MAD</th>\n",
       "    </tr>\n",
       "  </thead>\n",
       "  <tbody>\n",
       "    <tr>\n",
       "      <th>0</th>\n",
       "      <td>0</td>\n",
       "      <td>04015-0.csv</td>\n",
       "      <td>Normal</td>\n",
       "      <td>0.200000</td>\n",
       "      <td>0.057143</td>\n",
       "      <td>0.028571</td>\n",
       "      <td>0.057143</td>\n",
       "      <td>0.228571</td>\n",
       "      <td>0.142857</td>\n",
       "      <td>0.057143</td>\n",
       "      <td>0.114286</td>\n",
       "      <td>0.114286</td>\n",
       "      <td>156.276998</td>\n",
       "      <td>43.660906</td>\n",
       "      <td>0.248152</td>\n",
       "      <td>155.0</td>\n",
       "      <td>78.00</td>\n",
       "      <td>32.5</td>\n",
       "    </tr>\n",
       "    <tr>\n",
       "      <th>1</th>\n",
       "      <td>1</td>\n",
       "      <td>04015-1.csv</td>\n",
       "      <td>Normal</td>\n",
       "      <td>0.000000</td>\n",
       "      <td>0.052632</td>\n",
       "      <td>0.000000</td>\n",
       "      <td>0.052632</td>\n",
       "      <td>0.184211</td>\n",
       "      <td>0.236842</td>\n",
       "      <td>0.000000</td>\n",
       "      <td>0.210526</td>\n",
       "      <td>0.263158</td>\n",
       "      <td>197.783973</td>\n",
       "      <td>57.233572</td>\n",
       "      <td>0.355262</td>\n",
       "      <td>213.0</td>\n",
       "      <td>93.50</td>\n",
       "      <td>55.0</td>\n",
       "    </tr>\n",
       "    <tr>\n",
       "      <th>2</th>\n",
       "      <td>2</td>\n",
       "      <td>04015-2.csv</td>\n",
       "      <td>Normal</td>\n",
       "      <td>0.333333</td>\n",
       "      <td>0.083333</td>\n",
       "      <td>0.055556</td>\n",
       "      <td>0.027778</td>\n",
       "      <td>0.305556</td>\n",
       "      <td>0.083333</td>\n",
       "      <td>0.111111</td>\n",
       "      <td>0.000000</td>\n",
       "      <td>0.000000</td>\n",
       "      <td>151.638551</td>\n",
       "      <td>43.820505</td>\n",
       "      <td>0.253179</td>\n",
       "      <td>138.0</td>\n",
       "      <td>72.00</td>\n",
       "      <td>56.0</td>\n",
       "    </tr>\n",
       "    <tr>\n",
       "      <th>3</th>\n",
       "      <td>3</td>\n",
       "      <td>04015-3.csv</td>\n",
       "      <td>Normal</td>\n",
       "      <td>0.300000</td>\n",
       "      <td>0.175000</td>\n",
       "      <td>0.000000</td>\n",
       "      <td>0.125000</td>\n",
       "      <td>0.025000</td>\n",
       "      <td>0.125000</td>\n",
       "      <td>0.075000</td>\n",
       "      <td>0.050000</td>\n",
       "      <td>0.125000</td>\n",
       "      <td>157.611865</td>\n",
       "      <td>48.827831</td>\n",
       "      <td>0.318730</td>\n",
       "      <td>167.0</td>\n",
       "      <td>79.00</td>\n",
       "      <td>59.0</td>\n",
       "    </tr>\n",
       "    <tr>\n",
       "      <th>4</th>\n",
       "      <td>4</td>\n",
       "      <td>04015-4.csv</td>\n",
       "      <td>Normal</td>\n",
       "      <td>0.090909</td>\n",
       "      <td>0.151515</td>\n",
       "      <td>0.090909</td>\n",
       "      <td>0.030303</td>\n",
       "      <td>0.060606</td>\n",
       "      <td>0.212121</td>\n",
       "      <td>0.212121</td>\n",
       "      <td>0.060606</td>\n",
       "      <td>0.090909</td>\n",
       "      <td>226.855681</td>\n",
       "      <td>53.260256</td>\n",
       "      <td>0.289227</td>\n",
       "      <td>237.0</td>\n",
       "      <td>95.75</td>\n",
       "      <td>66.5</td>\n",
       "    </tr>\n",
       "    <tr>\n",
       "      <th>...</th>\n",
       "      <td>...</td>\n",
       "      <td>...</td>\n",
       "      <td>...</td>\n",
       "      <td>...</td>\n",
       "      <td>...</td>\n",
       "      <td>...</td>\n",
       "      <td>...</td>\n",
       "      <td>...</td>\n",
       "      <td>...</td>\n",
       "      <td>...</td>\n",
       "      <td>...</td>\n",
       "      <td>...</td>\n",
       "      <td>...</td>\n",
       "      <td>...</td>\n",
       "      <td>...</td>\n",
       "      <td>...</td>\n",
       "      <td>...</td>\n",
       "      <td>...</td>\n",
       "    </tr>\n",
       "    <tr>\n",
       "      <th>1413</th>\n",
       "      <td>1413</td>\n",
       "      <td>04015-1413.csv</td>\n",
       "      <td>Normal</td>\n",
       "      <td>0.000000</td>\n",
       "      <td>0.000000</td>\n",
       "      <td>0.000000</td>\n",
       "      <td>0.000000</td>\n",
       "      <td>1.000000</td>\n",
       "      <td>0.000000</td>\n",
       "      <td>0.000000</td>\n",
       "      <td>0.000000</td>\n",
       "      <td>0.000000</td>\n",
       "      <td>20.688161</td>\n",
       "      <td>4.756725</td>\n",
       "      <td>0.023406</td>\n",
       "      <td>22.0</td>\n",
       "      <td>4.00</td>\n",
       "      <td>1.0</td>\n",
       "    </tr>\n",
       "    <tr>\n",
       "      <th>1414</th>\n",
       "      <td>1414</td>\n",
       "      <td>04015-1414.csv</td>\n",
       "      <td>Normal</td>\n",
       "      <td>0.000000</td>\n",
       "      <td>0.000000</td>\n",
       "      <td>0.000000</td>\n",
       "      <td>0.000000</td>\n",
       "      <td>1.000000</td>\n",
       "      <td>0.000000</td>\n",
       "      <td>0.000000</td>\n",
       "      <td>0.000000</td>\n",
       "      <td>0.000000</td>\n",
       "      <td>21.788759</td>\n",
       "      <td>4.269535</td>\n",
       "      <td>0.021069</td>\n",
       "      <td>19.0</td>\n",
       "      <td>3.00</td>\n",
       "      <td>1.0</td>\n",
       "    </tr>\n",
       "    <tr>\n",
       "      <th>1415</th>\n",
       "      <td>1415</td>\n",
       "      <td>04015-1415.csv</td>\n",
       "      <td>Normal</td>\n",
       "      <td>0.000000</td>\n",
       "      <td>0.000000</td>\n",
       "      <td>0.000000</td>\n",
       "      <td>0.000000</td>\n",
       "      <td>1.000000</td>\n",
       "      <td>0.000000</td>\n",
       "      <td>0.000000</td>\n",
       "      <td>0.000000</td>\n",
       "      <td>0.000000</td>\n",
       "      <td>26.594172</td>\n",
       "      <td>6.170151</td>\n",
       "      <td>0.030419</td>\n",
       "      <td>24.0</td>\n",
       "      <td>6.00</td>\n",
       "      <td>2.0</td>\n",
       "    </tr>\n",
       "    <tr>\n",
       "      <th>1416</th>\n",
       "      <td>1416</td>\n",
       "      <td>04015-1416.csv</td>\n",
       "      <td>Normal</td>\n",
       "      <td>0.000000</td>\n",
       "      <td>0.000000</td>\n",
       "      <td>0.000000</td>\n",
       "      <td>0.000000</td>\n",
       "      <td>1.000000</td>\n",
       "      <td>0.000000</td>\n",
       "      <td>0.000000</td>\n",
       "      <td>0.000000</td>\n",
       "      <td>0.000000</td>\n",
       "      <td>23.119256</td>\n",
       "      <td>5.017348</td>\n",
       "      <td>0.024803</td>\n",
       "      <td>22.0</td>\n",
       "      <td>3.00</td>\n",
       "      <td>9.0</td>\n",
       "    </tr>\n",
       "    <tr>\n",
       "      <th>1417</th>\n",
       "      <td>1417</td>\n",
       "      <td>04015-1417.csv</td>\n",
       "      <td>Normal</td>\n",
       "      <td>0.000000</td>\n",
       "      <td>0.000000</td>\n",
       "      <td>0.000000</td>\n",
       "      <td>0.000000</td>\n",
       "      <td>1.000000</td>\n",
       "      <td>0.000000</td>\n",
       "      <td>0.000000</td>\n",
       "      <td>0.000000</td>\n",
       "      <td>0.000000</td>\n",
       "      <td>12.619429</td>\n",
       "      <td>4.924219</td>\n",
       "      <td>0.023841</td>\n",
       "      <td>20.0</td>\n",
       "      <td>3.50</td>\n",
       "      <td>0.0</td>\n",
       "    </tr>\n",
       "  </tbody>\n",
       "</table>\n",
       "<p>1418 rows × 18 columns</p>\n",
       "</div>"
      ],
      "text/plain": [
       "      Unnamed: 0        subsetID rhythmLabel      StoS      StoR      StoL  \\\n",
       "0              0     04015-0.csv      Normal  0.200000  0.057143  0.028571   \n",
       "1              1     04015-1.csv      Normal  0.000000  0.052632  0.000000   \n",
       "2              2     04015-2.csv      Normal  0.333333  0.083333  0.055556   \n",
       "3              3     04015-3.csv      Normal  0.300000  0.175000  0.000000   \n",
       "4              4     04015-4.csv      Normal  0.090909  0.151515  0.090909   \n",
       "...          ...             ...         ...       ...       ...       ...   \n",
       "1413        1413  04015-1413.csv      Normal  0.000000  0.000000  0.000000   \n",
       "1414        1414  04015-1414.csv      Normal  0.000000  0.000000  0.000000   \n",
       "1415        1415  04015-1415.csv      Normal  0.000000  0.000000  0.000000   \n",
       "1416        1416  04015-1416.csv      Normal  0.000000  0.000000  0.000000   \n",
       "1417        1417  04015-1417.csv      Normal  0.000000  0.000000  0.000000   \n",
       "\n",
       "          RtoS      RtoR      RtoL      LtoS      LtoR      LtoL         RMS  \\\n",
       "0     0.057143  0.228571  0.142857  0.057143  0.114286  0.114286  156.276998   \n",
       "1     0.052632  0.184211  0.236842  0.000000  0.210526  0.263158  197.783973   \n",
       "2     0.027778  0.305556  0.083333  0.111111  0.000000  0.000000  151.638551   \n",
       "3     0.125000  0.025000  0.125000  0.075000  0.050000  0.125000  157.611865   \n",
       "4     0.030303  0.060606  0.212121  0.212121  0.060606  0.090909  226.855681   \n",
       "...        ...       ...       ...       ...       ...       ...         ...   \n",
       "1413  0.000000  1.000000  0.000000  0.000000  0.000000  0.000000   20.688161   \n",
       "1414  0.000000  1.000000  0.000000  0.000000  0.000000  0.000000   21.788759   \n",
       "1415  0.000000  1.000000  0.000000  0.000000  0.000000  0.000000   26.594172   \n",
       "1416  0.000000  1.000000  0.000000  0.000000  0.000000  0.000000   23.119256   \n",
       "1417  0.000000  1.000000  0.000000  0.000000  0.000000  0.000000   12.619429   \n",
       "\n",
       "            STD   CoefVar  Range    IQR   MAD  \n",
       "0     43.660906  0.248152  155.0  78.00  32.5  \n",
       "1     57.233572  0.355262  213.0  93.50  55.0  \n",
       "2     43.820505  0.253179  138.0  72.00  56.0  \n",
       "3     48.827831  0.318730  167.0  79.00  59.0  \n",
       "4     53.260256  0.289227  237.0  95.75  66.5  \n",
       "...         ...       ...    ...    ...   ...  \n",
       "1413   4.756725  0.023406   22.0   4.00   1.0  \n",
       "1414   4.269535  0.021069   19.0   3.00   1.0  \n",
       "1415   6.170151  0.030419   24.0   6.00   2.0  \n",
       "1416   5.017348  0.024803   22.0   3.00   9.0  \n",
       "1417   4.924219  0.023841   20.0   3.50   0.0  \n",
       "\n",
       "[1418 rows x 18 columns]"
      ]
     },
     "execution_count": 58,
     "metadata": {},
     "output_type": "execute_result"
    }
   ],
   "source": [
    "dfdic['04015']"
   ]
  },
  {
   "cell_type": "code",
   "execution_count": null,
   "id": "10676407",
   "metadata": {
    "id": "10676407"
   },
   "outputs": [],
   "source": [
    "reload_flag = False\n",
    "for idx, x in enumerate(record_list):\n",
    "    if not os.path.exists('mit-bih-features/'+x+ '.csv') or reload_flag:\n",
    "        dfdic[x].to_csv('mit-bih-features/'+x+'.csv') \n"
   ]
  }
 ],
 "metadata": {
  "colab": {
   "name": "Features_tutorial.ipynb",
   "provenance": []
  },
  "kernelspec": {
   "display_name": "Python 3 (ipykernel)",
   "language": "python",
   "name": "python3"
  },
  "language_info": {
   "codemirror_mode": {
    "name": "ipython",
    "version": 3
   },
   "file_extension": ".py",
   "mimetype": "text/x-python",
   "name": "python",
   "nbconvert_exporter": "python",
   "pygments_lexer": "ipython3",
   "version": "3.9.12"
  }
 },
 "nbformat": 4,
 "nbformat_minor": 5
}
