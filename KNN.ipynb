{
 "cells": [
  {
   "cell_type": "code",
   "execution_count": 6,
   "metadata": {},
   "outputs": [],
   "source": [
    "import matplotlib.pyplot as plt\n",
    "%matplotlib inline\n",
    "plt.rcParams['figure.dpi'] = 70 #display 70 dpi in Jupyter Notebook, may consider100 dpi \n",
    "plt.rcParams['savefig.dpi'] = 300 #define 300 dpi for saving figures\n",
    "\n",
    "import seaborn as sns\n",
    "## here are some settings \n",
    "sns.set_style('whitegrid')\n",
    "sns.set(rc={\"figure.dpi\":70, 'savefig.dpi':300}) #defining dpi setting\n",
    "sns.set_context('notebook')\n",
    "sns.set_style(\"ticks\")\n",
    "from IPython.display import set_matplotlib_formats\n",
    "set_matplotlib_formats('retina')\n",
    "from scipy.stats import randint\n",
    "from sklearn.model_selection import RandomizedSearchCV"
   ]
  },
  {
   "cell_type": "code",
   "execution_count": 7,
   "metadata": {},
   "outputs": [
    {
     "name": "stdout",
     "output_type": "stream",
     "text": [
      "Hello World\n",
      "---Run time is 0.00010610000003907771 seconds ---\n",
      "\n"
     ]
    }
   ],
   "source": [
    "# Tells matplotlib to display images inline instead of a new window\n",
    "%matplotlib inline\n",
    "\n",
    "import pandas as pd\n",
    "import numpy as np\n",
    "import matplotlib.pyplot as plt\n",
    "import seaborn as sns\n",
    "\n",
    "from time import time\n",
    "import timeit #imports timeit module\n",
    "start_time = timeit.default_timer() #defines start time so computational time can be calculated\n",
    "print(\"Hello World\")\n",
    "elapsed = timeit.default_timer() - start_time #gives total computation time\n",
    "print(\"---Run time is %s seconds ---\" % elapsed) #prints computation time\n",
    "print()\n",
    "from tqdm import tqdm\n",
    "import numpy as np\n",
    "import wfdb"
   ]
  },
  {
   "cell_type": "code",
   "execution_count": 8,
   "metadata": {},
   "outputs": [],
   "source": [
    "import statsmodels.api as sm\n",
    "import statsmodels.formula.api as smf\n",
    "from sklearn.preprocessing import PolynomialFeatures\n",
    "\n",
    "import sklearn.linear_model as skl_lm\n",
    "from sklearn.linear_model import LinearRegression\n",
    "from sklearn.linear_model import LogisticRegression\n",
    "from sklearn.linear_model import LogisticRegressionCV\n",
    "from sklearn import neighbors\n",
    "\n",
    "from sklearn.model_selection import cross_val_score\n",
    "from sklearn.model_selection import KFold\n",
    "from sklearn.model_selection import LeaveOneOut\n",
    "\n",
    "from sklearn.metrics import confusion_matrix\n",
    "from sklearn.metrics import classification_report\n",
    "from sklearn.metrics import accuracy_score"
   ]
  },
  {
   "cell_type": "code",
   "execution_count": 9,
   "metadata": {},
   "outputs": [
    {
     "name": "stderr",
     "output_type": "stream",
     "text": [
      "\r",
      "  0%|          | 0/25 [00:00<?, ?it/s]"
     ]
    },
    {
     "name": "stdout",
     "output_type": "stream",
     "text": [
      "sampto must be greater than sampfrom\n",
      "sampto must be greater than sampfrom\n"
     ]
    },
    {
     "name": "stderr",
     "output_type": "stream",
     "text": [
      "100%|██████████| 25/25 [00:21<00:00,  1.17it/s]\n"
     ]
    }
   ],
   "source": [
    "# import os\n",
    "# cwd = os.getcwd()\n",
    "# print(cwd)\n",
    "# os.chdir('/Users/chenc/000---STT450-Jupyter Notebook/000--STT450-550/') \n",
    "#data = load_breast_cancer(as_frame = True); \n",
    "#df = data.frame; \n",
    "#print(df.shape)\n",
    "# In this block use the code we looked at on 6/30 as a reference to save our rr-intervals as a .\n",
    "rlist = []\n",
    "records = 'mit-bih-raw\\RECORDS' # Replace the _______ with the name of the records file in your MIT-BIH data folder\n",
    "with open(records) as rfile: #Then we open the file \n",
    "                             #The 'with' command only opens the file while we are in it. Automatically closes the file when we're not\n",
    "    for record in rfile:  # Then we iterate through the lines in the file\n",
    "        record = record[0:len(record)-1] # Remove any erronious new line characters at the end ('\\n')\n",
    "        rlist.append(record) # Then build an array with it\n",
    "        \n",
    "\n",
    "###### Step 1: Initialize all Arrays\n",
    "             # Below, replace all of the ___ with the command that declares an array/list\n",
    "             # hint: https://stackoverflow.com/questions/1514553/how-to-declare-an-array-in-python\n",
    "samples = [] # will house the samples of all subjects\n",
    "good_list = [] # will list the names of the subjects we successfully extracted\n",
    "bad_list = [] # will house the names of the subjects we failed to extract\n",
    "qrs = [] # will house the indices of R-Peaks for all subjects\n",
    "atr_label = [] # will house the labels for each rhythm annotation for all subjects\n",
    "atr_locs = [] # will house the locations corresponding to the rhythm annotation labels\n",
    "\n",
    "\n",
    "###### Step 2: Extract Information\n",
    "for x in tqdm(rlist): #this will iterate through te records that we found above\n",
    "  \n",
    "    try: # A try statement will run the except statement if for some reason the try commands fail\n",
    "         # In this case I use the try statement because one of the subjects has no signal data causing failure\n",
    "         # I then use bad_list and good_list so that all of the indices in rlist match with the arrays we initialized in Step 1, above\n",
    "        ######################################################\n",
    "            # Below find the wfdb function that will return the information that is described below \n",
    "        # Then replace _____ with the correct function call\n",
    "        samp = wfdb.rdsamp('mit-bih-raw/'+x) # wfdb._____(file_location) will read the signal & header data and return a 2 value array\n",
    "            # samp[0] - the signal data is the raw reading from the ecg. Each value is a sample taken.\n",
    "            # samp[1] - the header data includes things about the signal data such as:\n",
    "              # samples per section, denoted 'fs'\n",
    "              # number of signals, denoted 'n_sig'\n",
    "            \n",
    "        ######################################################\n",
    "        samples.append(samp) #add it to our array for all subject\n",
    "            #What is our file extension that has the annotation we want? Find it here and replace _____ with it \n",
    "            #hint: READ THE VARIABLE NAMES!!!!\n",
    "        qrs_tmp = wfdb.rdann('mit-bih-raw/'+x, extension='qrs') #extract the QRS Info\n",
    "        qrs_locs = np.array(qrs_tmp.sample, dtype='int') #Get just the loccation of R-Peaks from the QRS Info\n",
    "        qrs.append(qrs_locs) # Add to our array for all subjects\n",
    "        \n",
    "            #Do the same thing here\n",
    "        atr = wfdb.rdann('mit-bih-raw/'+x,extension='atr') #extract the atr info which stores the rhythm type(s) over the whole signal\n",
    "        atr_label.append(atr.aux_note) # aux_note stores the type of rhythm - main two are '(N' for normal and '(AFIB' for AFIB\n",
    "        atr_locs.append(np.append(atr.sample, len(samp[0]))) #I add the length of the whole sample to the end for better visualization later\n",
    "        \n",
    "        good_list.append(x) # when all extraction is successful append the record name to good_list\n",
    "    except Exception as exep:\n",
    "        print(exep) # Alert the user of an exception\n",
    "        bad_list.append(x) # add to the bad list\n",
    "\n",
    "        "
   ]
  },
  {
   "cell_type": "code",
   "execution_count": 10,
   "metadata": {},
   "outputs": [],
   "source": [
    "# df3 = pd.read_csv('Data/Carseats.csv')\n",
    "# #df3.info()\n",
    "# print(); df3.head(5)\n",
    "features_df_list = []\n",
    "for subject in good_list:\n",
    "    data = pd.read_csv(f'subject-features-dataframes/subject{subject}.csv')\n",
    "    data = data.assign(Subject = subject)\n",
    "    #print(data)\n",
    "    features_df_list.append(data)\n",
    "features_maindf = pd.concat(features_df_list, ignore_index = True)"
   ]
  },
  {
   "cell_type": "code",
   "execution_count": 11,
   "metadata": {},
   "outputs": [],
   "source": [
    "x_values = ['StoS', 'StoR', 'StoL', 'RtoS', 'RtoR', 'RtoL', 'LtoS',\n",
    "       'LtoR', 'LtoL', 'STD', 'CoefVar', 'Range', 'Volatility', 'ShEn',\n",
    "       'AppEn', 'SampEn']\n",
    "y_values = ['Rhythm']"
   ]
  },
  {
   "cell_type": "code",
   "execution_count": 7,
   "metadata": {},
   "outputs": [],
   "source": [
    "# #X = df2.loc[:, [\"student\", \"balance\", \"income\"]] #student; balance; income\n",
    "# X = df2.loc[:, [\"balance\", \"income\"]] #student; balance; income\n",
    "# y = df2.loc[:, \"default\"] #default"
   ]
  },
  {
   "cell_type": "code",
   "execution_count": 8,
   "metadata": {},
   "outputs": [
    {
     "name": "stderr",
     "output_type": "stream",
     "text": [
      "23it [06:28, 16.87s/it]"
     ]
    },
    {
     "name": "stdout",
     "output_type": "stream",
     "text": [
      "---Run time is 406.45894569999655 seconds ---\n",
      "\n",
      "Accuracy of each fold: \n",
      " [0.9170480549199085, 0.9432048681541582, 0.9955919395465995, 0.9154676258992805, 0.9947753396029259, 0.949290060851927, 0.8351237739374124, 0.9979577944179714, 0.9377510040160643, 0.9647188533627343, 0.9836660617059891, 0.990667623833453, 0.7532879818594105, 0.9777070063694268, 0.5362198168193172, 0.9844926894107222, 0.9890335846470185, 0.9826889786497404, 0.724429416737109, 0.9752611324903794, 0.9935842600513259, 0.9918392969240427, 0.9961945031712474]\n",
      "\n",
      "Avg accuracy : \n",
      "0.9273913768425288\n",
      "\n",
      "Std of accuracy : \n",
      "0.11132911914138095\n",
      "[0.9170480549199085, 0.9432048681541582, 0.9955919395465995, 0.9154676258992805, 0.9947753396029259, 0.949290060851927, 0.8351237739374124, 0.9979577944179714, 0.9377510040160643, 0.9647188533627343, 0.9836660617059891, 0.990667623833453, 0.7532879818594105, 0.9777070063694268, 0.5362198168193172, 0.9844926894107222, 0.9890335846470185, 0.9826889786497404, 0.724429416737109, 0.9752611324903794, 0.9935842600513259, 0.9918392969240427, 0.9961945031712474]\n",
      "[[22871  1872]\n",
      " [ 1797 18428]]\n",
      "              precision    recall  f1-score   support\n",
      "\n",
      "           0       0.93      0.92      0.93     24743\n",
      "           1       0.91      0.91      0.91     20225\n",
      "\n",
      "    accuracy                           0.92     44968\n",
      "   macro avg       0.92      0.92      0.92     44968\n",
      "weighted avg       0.92      0.92      0.92     44968\n",
      "\n",
      "406.45894569999655\n",
      "[8, 8, 8, 10, 6, 8, 8, 10, 8, 8, 6, 10, 6, 6, 8, 8, 10, 8, 10, 8, 8, 8, 10]\n"
     ]
    },
    {
     "name": "stderr",
     "output_type": "stream",
     "text": [
      "\n"
     ]
    }
   ],
   "source": [
    "crossvalidation = KFold(n_splits=23)\n",
    "#for df in features_df_list:\n",
    "df = features_maindf\n",
    "acc_score = [];\n",
    "Truth = [];\n",
    "Output = [];\n",
    "neighbors_list = []\n",
    "#confusion_matrix_df = pd.DataFrame(columns=['TN', 'FP', 'FN', 'TP'])\n",
    "for idx, subject in tqdm(enumerate(good_list)):\n",
    "    \n",
    "    train_index = ~df['Subject'].str.contains(subject)\n",
    "    test_index = df['Subject'].str.contains(subject)\n",
    "    X_train , X_test = df.loc[train_index,x_values], df.loc[test_index,x_values]\n",
    "    y_train , y_test = df.loc[train_index,y_values].values.ravel(), df.loc[test_index,y_values]\n",
    "    \n",
    "    temp_model = neighbors.KNeighborsClassifier(n_neighbors = 1)    \n",
    "    param_distributions = {'n_neighbors': randint(1, 15)}\n",
    "\n",
    "    search = RandomizedSearchCV(estimator=temp_model, param_distributions=param_distributions, random_state=0)\n",
    "    search.fit(X_train, y_train)\n",
    "\n",
    "    neighbors_list.append(search.best_params_['n_neighbors'])\n",
    "\n",
    "    knn = neighbors.KNeighborsClassifier(n_neighbors = search.best_params_['n_neighbors'])\n",
    "\n",
    "    model = knn.fit(X_train,y_train)\n",
    "\n",
    "    pred_values = model.predict(X_test)\n",
    "    pred_prob = model.predict_proba(X_test)[:, 1]\n",
    "     \n",
    "    acc = accuracy_score(y_test, pred_values)\n",
    "    acc_score.append(acc)\n",
    "    #confusion_matrix_df.loc[idx] = confusion_matrix(Truth, Output).ravel()\n",
    "    Truth.extend(y_test.values.reshape(y_test.shape[0])); ## it is a list\n",
    "    Output.extend(pred_values); ## it is a list \n",
    "elapsed = timeit.default_timer() - start_time #gives total computation time\n",
    "print(\"---Run time is %s seconds ---\" % elapsed) #prints computation time\n",
    "print()\n",
    "\n",
    "print('Accuracy of each fold: \\n {}'.format(acc_score))\n",
    "print()\n",
    "print('Avg accuracy : \\n{}'.format(np.mean(acc_score))); \n",
    "print()\n",
    "print('Std of accuracy : \\n{}'.format(np.std(acc_score)))\n",
    "# crossvalidation = KFold(n_splits=5, random_state=2, shuffle=True)\n",
    "# knn = neighbors.KNeighborsClassifier(n_neighbors = 1)\n",
    "# model = knn.fit(X, y)\n",
    "# scores = cross_val_score(model, X, y, cv=crossvalidation)\n",
    "# print('Accuracy of each fold: \\n {}'.format(scores))\n",
    "# print()\n",
    "# print(\"Avg accuracy: {}\".format(scores.mean()))\n",
    "print(acc_score)\n",
    "print(confusion_matrix(Truth, Output))\n",
    "print(classification_report(Truth, Output))\n",
    "print(elapsed)\n",
    "print(neighbors_list)\n",
    "temp_list = []\n",
    "temp_idx = []\n",
    "neighbors_best = []\n",
    "for acc in acc_score:\n",
    "    if acc >= 0.95:\n",
    "        temp_list.append(acc)\n",
    "        temp_idx.append(acc_score.index(acc))\n",
    "for idx in temp_idx:\n",
    "    neighbors_best.append(neighbors_list[idx])"
   ]
  },
  {
   "cell_type": "code",
   "execution_count": 9,
   "metadata": {},
   "outputs": [
    {
     "name": "stdout",
     "output_type": "stream",
     "text": [
      "[0.9170480549199085, 0.9432048681541582, 0.9955919395465995, 0.9154676258992805, 0.9947753396029259, 0.949290060851927, 0.8351237739374124, 0.9979577944179714, 0.9377510040160643, 0.9647188533627343, 0.9836660617059891, 0.990667623833453, 0.7532879818594105, 0.9777070063694268, 0.5362198168193172, 0.9844926894107222, 0.9890335846470185, 0.9826889786497404, 0.724429416737109, 0.9752611324903794, 0.9935842600513259, 0.9918392969240427, 0.9961945031712474]\n",
      "[[22871  1872]\n",
      " [ 1797 18428]]\n",
      "              precision    recall  f1-score   support\n",
      "\n",
      "           0       0.93      0.92      0.93     24743\n",
      "           1       0.91      0.91      0.91     20225\n",
      "\n",
      "    accuracy                           0.92     44968\n",
      "   macro avg       0.92      0.92      0.92     44968\n",
      "weighted avg       0.92      0.92      0.92     44968\n",
      "\n"
     ]
    }
   ],
   "source": [
    "print(acc_score)\n",
    "print(confusion_matrix(Truth, Output))\n",
    "print(classification_report(Truth, Output))"
   ]
  },
  {
   "cell_type": "markdown",
   "metadata": {},
   "source": [
    "# SampEn "
   ]
  },
  {
   "cell_type": "code",
   "execution_count": 14,
   "metadata": {},
   "outputs": [
    {
     "name": "stderr",
     "output_type": "stream",
     "text": [
      "23it [03:36,  9.40s/it]"
     ]
    },
    {
     "name": "stdout",
     "output_type": "stream",
     "text": [
      "---Run time is 561.4130201 seconds ---\n",
      "\n",
      "Accuracy of each fold: \n",
      " [0.9130434782608695, 0.9557809330628804, 0.9918136020151134, 0.6834532374100719, 0.9801462904911181, 0.9663286004056795, 0.7580569827183559, 0.9911504424778761, 0.9181726907630522, 0.9547960308710033, 0.9791288566243194, 0.9806173725771715, 0.7383219954648526, 0.9961783439490446, 0.6915070774354705, 0.9034116083296411, 0.9897189856065799, 0.9976918638199653, 0.9209636517328825, 0.9736118746564046, 0.9833190761334474, 0.9692404268675455, 0.9780126849894292]\n",
      "\n",
      "Avg accuracy : \n",
      "0.9223680915940338\n",
      "\n",
      "Std of accuracy : \n",
      "0.0983811207105232\n",
      "[0.9130434782608695, 0.9557809330628804, 0.9918136020151134, 0.6834532374100719, 0.9801462904911181, 0.9663286004056795, 0.7580569827183559, 0.9911504424778761, 0.9181726907630522, 0.9547960308710033, 0.9791288566243194, 0.9806173725771715, 0.7383219954648526, 0.9961783439490446, 0.6915070774354705, 0.9034116083296411, 0.9897189856065799, 0.9976918638199653, 0.9209636517328825, 0.9736118746564046, 0.9833190761334474, 0.9692404268675455, 0.9780126849894292]\n",
      "[[22880  1863]\n",
      " [ 1845 18380]]\n",
      "              precision    recall  f1-score   support\n",
      "\n",
      "           0       0.93      0.92      0.93     24743\n",
      "           1       0.91      0.91      0.91     20225\n",
      "\n",
      "    accuracy                           0.92     44968\n",
      "   macro avg       0.92      0.92      0.92     44968\n",
      "weighted avg       0.92      0.92      0.92     44968\n",
      "\n",
      "561.4130201\n"
     ]
    },
    {
     "name": "stderr",
     "output_type": "stream",
     "text": [
      "\n"
     ]
    }
   ],
   "source": [
    "crossvalidation = KFold(n_splits=23)\n",
    "#for df in features_df_list:\n",
    "df = features_maindf\n",
    "acc_score = [];\n",
    "Truth = [];\n",
    "Output = [];\n",
    "\n",
    "from sklearn.inspection import permutation_importance\n",
    "x_values = ['SampEn','AppEn','RangeEn', 'FuzzyEn',\n",
    "       'EntropyAF', 'PermEn', 'BubbleEn', 'MultiscaleEn', 'Volatility',]\n",
    "y_values = ['Rhythm']\n",
    "#for df in features_df_list:\n",
    "\n",
    "zero_values_list = [0] * len(x_values)\n",
    "\n",
    "perm_imp_dict = dict(zip(x_values,zero_values_list))\n",
    "\n",
    "# Initialize dataframe with zeros\n",
    "average_importance = pd.DataFrame({'Importance':np.zeros(len(x_values))}, \n",
    "                                  index = x_values)\n",
    "\n",
    "counts = pd.DataFrame({'Count':np.zeros(len(x_values))}, \n",
    "                                  index = x_values)\n",
    "\n",
    "\n",
    "#neighbors_list = []\n",
    "import statistics\n",
    "#confusion_matrix_df = pd.DataFrame(columns=['TN', 'FP', 'FN', 'TP'])\n",
    "for idx, subject in tqdm(enumerate(good_list)):\n",
    "    \n",
    "    train_index = ~df['Subject'].str.contains(subject)\n",
    "    test_index = df['Subject'].str.contains(subject)\n",
    "    X_train , X_test = df.loc[train_index,x_values], df.loc[test_index,x_values]\n",
    "    y_train , y_test = df.loc[train_index,y_values].values.ravel(), df.loc[test_index,y_values]\n",
    "    \n",
    "#     temp_model = neighbors.KNeighborsClassifier(n_neighbors = 1)    \n",
    "#     param_distributions = {'n_neighbors': randint(1, 15)}\n",
    "\n",
    "#     search = RandomizedSearchCV(estimator=temp_model, param_distributions=param_distributions, random_state=0)\n",
    "#     search.fit(X_train, y_train)\n",
    "\n",
    "#     neighbors_list.append(search.best_params_['n_neighbors'])\n",
    "\n",
    "    knn = neighbors.KNeighborsClassifier(n_neighbors = 8)\n",
    "\n",
    "    model = knn.fit(X_train,y_train)\n",
    "\n",
    "    pred_values = model.predict(X_test)\n",
    "    pred_prob = model.predict_proba(X_test)[:, 1]\n",
    "    \n",
    "    result = permutation_importance(model, X_test, y_test, n_repeats=10, random_state=0)\n",
    "\n",
    "    for i in range(0,len(x_values)):\n",
    "        perm_imp_dict[x_values[i]] += result.importances_mean[i]*100\n",
    "\n",
    "     \n",
    "    acc = accuracy_score(y_test, pred_values)\n",
    "    acc_score.append(acc)\n",
    "    #confusion_matrix_df.loc[idx] = confusion_matrix(Truth, Output).ravel()\n",
    "    Truth.extend(y_test.values.reshape(y_test.shape[0])); ## it is a list\n",
    "    Output.extend(pred_values); ## it is a list \n",
    "elapsed = timeit.default_timer() - start_time #gives total computation time\n",
    "print(\"---Run time is %s seconds ---\" % elapsed) #prints computation time\n",
    "print()\n",
    "\n",
    "print('Accuracy of each fold: \\n {}'.format(acc_score))\n",
    "print()\n",
    "print('Avg accuracy : \\n{}'.format(np.mean(acc_score))); \n",
    "print()\n",
    "print('Std of accuracy : \\n{}'.format(np.std(acc_score)))\n",
    "# crossvalidation = KFold(n_splits=5, random_state=2, shuffle=True)\n",
    "# knn = neighbors.KNeighborsClassifier(n_neighbors = 1)\n",
    "# model = knn.fit(X, y)\n",
    "# scores = cross_val_score(model, X, y, cv=crossvalidation)\n",
    "# print('Accuracy of each fold: \\n {}'.format(scores))\n",
    "# print()\n",
    "# print(\"Avg accuracy: {}\".format(scores.mean()))\n",
    "print(acc_score)\n",
    "print(confusion_matrix(Truth, Output))\n",
    "print(classification_report(Truth, Output))\n",
    "print(elapsed)\n",
    "# temp_list = []\n",
    "# temp_idx = []\n",
    "# neighbors_best = []\n",
    "# for acc in acc_score:\n",
    "#     if acc >= 0.95:\n",
    "#         temp_list.append(acc)\n",
    "#         temp_idx.append(acc_score.index(acc))\n",
    "# for idx in temp_idx:\n",
    "#     neighbors_best.append(n_estimators_list[idx])\n",
    "\n",
    "for i in range(0,len(x_values)):\n",
    "    perm_imp_dict[x_values[i]] = perm_imp_dict[x_values[i]] / 23\n",
    "\n",
    "perm_imp_dict[\"KNN\"] = 100\n",
    "perm_imp_df = pd.DataFrame([perm_imp_dict])\n",
    "\n",
    "perm_imp_df_t = perm_imp_df.T\n",
    "perm_imp_df_t.columns = [\"Importance\"]\n",
    "perm_imp_df_t.sort_values(by=['Importance'],ascending=False)\n",
    "\n",
    "perm_imp_df_t.to_csv('perm_imp.csv',mode='a',header=False)\n",
    "\n",
    "perm_imp_df_t = perm_imp_df_t.drop([\"KNN\"])"
   ]
  },
  {
   "cell_type": "code",
   "execution_count": 15,
   "metadata": {},
   "outputs": [
    {
     "data": {
      "image/png": "[encoded data removed]",
      "text/plain": [
       "<Figure size 720x432 with 1 Axes>"
      ]
     },
     "metadata": {
      "image/png": {
       "height": 423,
       "width": 713
      },
      "needs_background": "light"
     },
     "output_type": "display_data"
    }
   ],
   "source": [
    "import matplotlib as mpl\n",
    "\n",
    "df62 = perm_imp_df_t.sort_values(by='Importance', axis=0, ascending=True)\n",
    "\n",
    "mpl.rcParams['font.family'] = 'Arial'\n",
    "\n",
    "# Create a figure and a set of subplots\n",
    "fig, ax = plt.subplots(figsize=(10, 6))\n",
    "\n",
    "# Create the plot\n",
    "df62.plot(kind='barh', color='r', ax=ax, legend=False,width=0.9)\n",
    "\n",
    "# Set axes labels and title\n",
    "ax.set_xlabel(\"Decrease in Accuracy Score\", fontsize=15)\n",
    "ax.set_title(\"KNN Permutation Importance without CosEn\", fontsize=20, weight='bold')\n",
    "\n",
    "# Make the axes labels bigger\n",
    "ax.tick_params(axis='both', which='major', labelsize=15)\n",
    "\n",
    "plt.xlim(0)\n",
    "plt.tight_layout()\n",
    "plt.show()\n"
   ]
  },
  {
   "cell_type": "code",
   "execution_count": 16,
   "metadata": {},
   "outputs": [
    {
     "name": "stdout",
     "output_type": "stream",
     "text": [
      "[[22880  1863]\n",
      " [ 1845 18380]]\n",
      "              precision    recall  f1-score   support\n",
      "\n",
      "           0       0.93      0.92      0.93     24743\n",
      "           1       0.91      0.91      0.91     20225\n",
      "\n",
      "    accuracy                           0.92     44968\n",
      "   macro avg       0.92      0.92      0.92     44968\n",
      "weighted avg       0.92      0.92      0.92     44968\n",
      "\n",
      "[0.9130434782608695, 0.9557809330628804, 0.9918136020151134, 0.6834532374100719, 0.9801462904911181, 0.9663286004056795, 0.7580569827183559, 0.9911504424778761, 0.9181726907630522, 0.9547960308710033, 0.9791288566243194, 0.9806173725771715, 0.7383219954648526, 0.9961783439490446, 0.6915070774354705, 0.9034116083296411, 0.9897189856065799, 0.9976918638199653, 0.9209636517328825, 0.9736118746564046, 0.9833190761334474, 0.9692404268675455, 0.9780126849894292]\n",
      "561.4130201\n"
     ]
    }
   ],
   "source": [
    "print(confusion_matrix(Truth, Output))\n",
    "print(classification_report(Truth, Output))\n",
    "print(acc_score)\n",
    "print(elapsed)\n",
    "\n",
    "confusion_matrix1 = pd.DataFrame(confusion_matrix(Truth, Output))\n",
    "acc_score1 = pd.DataFrame([acc_score])\n",
    "\n",
    "confusion_matrix1.to_csv(\"model_results/KNN_cm.csv\",index=False)\n",
    "acc_score1 = pd.DataFrame([acc_score])\n",
    "acc_score1 = acc_score1.T\n",
    "acc_score1.columns = [\"Accuracy\"]\n",
    "acc_score1.to_csv(\"model_results/KNN_accuracy.csv\",index=False)"
   ]
  },
  {
   "cell_type": "markdown",
   "metadata": {},
   "source": [
    "# CosEn"
   ]
  },
  {
   "cell_type": "code",
   "execution_count": 18,
   "metadata": {},
   "outputs": [
    {
     "name": "stderr",
     "output_type": "stream",
     "text": [
      "23it [03:35,  9.36s/it]"
     ]
    },
    {
     "name": "stdout",
     "output_type": "stream",
     "text": [
      "---Run time is 2369.9817398 seconds ---\n",
      "\n",
      "Accuracy of each fold: \n",
      " [0.9130434782608695, 0.9557809330628804, 0.9918136020151134, 0.6834532374100719, 0.9801462904911181, 0.9663286004056795, 0.7580569827183559, 0.9911504424778761, 0.9181726907630522, 0.9547960308710033, 0.9791288566243194, 0.9806173725771715, 0.7383219954648526, 0.9961783439490446, 0.6915070774354705, 0.9034116083296411, 0.9897189856065799, 0.9976918638199653, 0.9209636517328825, 0.9736118746564046, 0.9833190761334474, 0.9692404268675455, 0.9780126849894292]\n",
      "\n",
      "Avg accuracy : \n",
      "0.9223680915940338\n",
      "\n",
      "Std of accuracy : \n",
      "0.0983811207105232\n",
      "[0.9130434782608695, 0.9557809330628804, 0.9918136020151134, 0.6834532374100719, 0.9801462904911181, 0.9663286004056795, 0.7580569827183559, 0.9911504424778761, 0.9181726907630522, 0.9547960308710033, 0.9791288566243194, 0.9806173725771715, 0.7383219954648526, 0.9961783439490446, 0.6915070774354705, 0.9034116083296411, 0.9897189856065799, 0.9976918638199653, 0.9209636517328825, 0.9736118746564046, 0.9833190761334474, 0.9692404268675455, 0.9780126849894292]\n",
      "[[22880  1863]\n",
      " [ 1845 18380]]\n",
      "              precision    recall  f1-score   support\n",
      "\n",
      "           0       0.93      0.92      0.93     24743\n",
      "           1       0.91      0.91      0.91     20225\n",
      "\n",
      "    accuracy                           0.92     44968\n",
      "   macro avg       0.92      0.92      0.92     44968\n",
      "weighted avg       0.92      0.92      0.92     44968\n",
      "\n",
      "2369.9817398\n"
     ]
    },
    {
     "name": "stderr",
     "output_type": "stream",
     "text": [
      "\n"
     ]
    }
   ],
   "source": [
    "crossvalidation = KFold(n_splits=23)\n",
    "#for df in features_df_list:\n",
    "df = features_maindf\n",
    "acc_score = [];\n",
    "Truth = [];\n",
    "Output = [];\n",
    "\n",
    "from sklearn.inspection import permutation_importance\n",
    "x_values = ['CosEn','AppEn','RangeEn', 'FuzzyEn',\n",
    "       'EntropyAF', 'PermEn', 'BubbleEn', 'MultiscaleEn', 'Volatility',]\n",
    "y_values = ['Rhythm']\n",
    "#for df in features_df_list:\n",
    "\n",
    "zero_values_list = [0] * len(x_values)\n",
    "\n",
    "perm_imp_dict = dict(zip(x_values,zero_values_list))\n",
    "\n",
    "# Initialize dataframe with zeros\n",
    "average_importance = pd.DataFrame({'Importance':np.zeros(len(x_values))}, \n",
    "                                  index = x_values)\n",
    "\n",
    "counts = pd.DataFrame({'Count':np.zeros(len(x_values))}, \n",
    "                                  index = x_values)\n",
    "\n",
    "\n",
    "#neighbors_list = []\n",
    "import statistics\n",
    "#confusion_matrix_df = pd.DataFrame(columns=['TN', 'FP', 'FN', 'TP'])\n",
    "for idx, subject in tqdm(enumerate(good_list)):\n",
    "    \n",
    "    train_index = ~df['Subject'].str.contains(subject)\n",
    "    test_index = df['Subject'].str.contains(subject)\n",
    "    X_train , X_test = df.loc[train_index,x_values], df.loc[test_index,x_values]\n",
    "    y_train , y_test = df.loc[train_index,y_values].values.ravel(), df.loc[test_index,y_values]\n",
    "    \n",
    "#     temp_model = neighbors.KNeighborsClassifier(n_neighbors = 1)    \n",
    "#     param_distributions = {'n_neighbors': randint(1, 15)}\n",
    "\n",
    "#     search = RandomizedSearchCV(estimator=temp_model, param_distributions=param_distributions, random_state=0)\n",
    "#     search.fit(X_train, y_train)\n",
    "\n",
    "#     neighbors_list.append(search.best_params_['n_neighbors'])\n",
    "\n",
    "    knn = neighbors.KNeighborsClassifier(n_neighbors = 8)\n",
    "\n",
    "    model = knn.fit(X_train,y_train)\n",
    "\n",
    "    pred_values = model.predict(X_test)\n",
    "    pred_prob = model.predict_proba(X_test)[:, 1]\n",
    "    \n",
    "    result = permutation_importance(model, X_test, y_test, n_repeats=10, random_state=0)\n",
    "\n",
    "    for i in range(0,len(x_values)):\n",
    "        perm_imp_dict[x_values[i]] += result.importances_mean[i]*100\n",
    "\n",
    "     \n",
    "    acc = accuracy_score(y_test, pred_values)\n",
    "    acc_score.append(acc)\n",
    "    #confusion_matrix_df.loc[idx] = confusion_matrix(Truth, Output).ravel()\n",
    "    Truth.extend(y_test.values.reshape(y_test.shape[0])); ## it is a list\n",
    "    Output.extend(pred_values); ## it is a list \n",
    "elapsed = timeit.default_timer() - start_time #gives total computation time\n",
    "print(\"---Run time is %s seconds ---\" % elapsed) #prints computation time\n",
    "print()\n",
    "\n",
    "print('Accuracy of each fold: \\n {}'.format(acc_score))\n",
    "print()\n",
    "print('Avg accuracy : \\n{}'.format(np.mean(acc_score))); \n",
    "print()\n",
    "print('Std of accuracy : \\n{}'.format(np.std(acc_score)))\n",
    "# crossvalidation = KFold(n_splits=5, random_state=2, shuffle=True)\n",
    "# knn = neighbors.KNeighborsClassifier(n_neighbors = 1)\n",
    "# model = knn.fit(X, y)\n",
    "# scores = cross_val_score(model, X, y, cv=crossvalidation)\n",
    "# print('Accuracy of each fold: \\n {}'.format(scores))\n",
    "# print()\n",
    "# print(\"Avg accuracy: {}\".format(scores.mean()))\n",
    "print(acc_score)\n",
    "print(confusion_matrix(Truth, Output))\n",
    "print(classification_report(Truth, Output))\n",
    "print(elapsed)\n",
    "# temp_list = []\n",
    "# temp_idx = []\n",
    "# neighbors_best = []\n",
    "# for acc in acc_score:\n",
    "#     if acc >= 0.95:\n",
    "#         temp_list.append(acc)\n",
    "#         temp_idx.append(acc_score.index(acc))\n",
    "# for idx in temp_idx:\n",
    "#     neighbors_best.append(n_estimators_list[idx])\n",
    "\n",
    "for i in range(0,len(x_values)):\n",
    "    perm_imp_dict[x_values[i]] = perm_imp_dict[x_values[i]] / 23\n"
   ]
  },
  {
   "cell_type": "code",
   "execution_count": 19,
   "metadata": {},
   "outputs": [
    {
     "data": {
      "image/png": "[encoded data removed]",
      "text/plain": [
       "<Figure size 720x432 with 1 Axes>"
      ]
     },
     "metadata": {
      "image/png": {
       "height": 423,
       "width": 713
      },
      "needs_background": "light"
     },
     "output_type": "display_data"
    }
   ],
   "source": [
    "import matplotlib as mpl\n",
    "\n",
    "perm_imp_df = pd.DataFrame([perm_imp_dict])\n",
    "\n",
    "perm_imp_df_t = perm_imp_df.T\n",
    "perm_imp_df_t.columns = [\"Importance\"]\n",
    "perm_imp_df_t.sort_values(by=['Importance'],ascending=False)\n",
    "\n",
    "\n",
    "df62 = perm_imp_df_t.sort_values(by='Importance', axis=0, ascending=True)\n",
    "\n",
    "mpl.rcParams['font.family'] = 'Arial'\n",
    "\n",
    "# Create a figure and a set of subplots\n",
    "fig, ax = plt.subplots(figsize=(10, 6))\n",
    "\n",
    "# Create the plot\n",
    "df62.plot(kind='barh', color='r', ax=ax, legend=False,width=0.9)\n",
    "\n",
    "# Set axes labels and title\n",
    "ax.set_xlabel(\"Decrease in Accuracy Score\", fontsize=15)\n",
    "ax.set_title(\"KNN Permutation Importance without SampEn\", fontsize=20, weight='bold')\n",
    "\n",
    "# Make the axes labels bigger\n",
    "ax.tick_params(axis='both', which='major', labelsize=15)\n",
    "\n",
    "plt.xlim(0)\n",
    "plt.tight_layout()\n",
    "plt.show()\n"
   ]
  },
  {
   "cell_type": "code",
   "execution_count": null,
   "metadata": {},
   "outputs": [],
   "source": []
  }
 ],
 "metadata": {
  "kernelspec": {
   "display_name": "Python 3",
   "language": "python",
   "name": "python3"
  },
  "language_info": {
   "codemirror_mode": {
    "name": "ipython",
    "version": 3
   },
   "file_extension": ".py",
   "mimetype": "text/x-python",
   "name": "python",
   "nbconvert_exporter": "python",
   "pygments_lexer": "ipython3",
   "version": "3.8.8"
  }
 },
 "nbformat": 4,
 "nbformat_minor": 4
}
