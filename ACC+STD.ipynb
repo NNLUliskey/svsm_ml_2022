{
 "cells": [
  {
   "cell_type": "code",
   "execution_count": 29,
   "id": "0e70af3a",
   "metadata": {},
   "outputs": [],
   "source": [
    "import pandas as pd\n",
    "import numpy as np\n",
    "import matplotlib.pyplot as plt\n",
    "import seaborn as sns"
   ]
  },
  {
   "cell_type": "code",
   "execution_count": 30,
   "id": "df5d6739",
   "metadata": {},
   "outputs": [],
   "source": [
    "def confusion_calcs(confusion_matrix):\n",
    "    temp_arr = confusion_matrix\n",
    "    tn = temp_arr[0]\n",
    "    fp = temp_arr[1]\n",
    "    fn = temp_arr[2]\n",
    "    tp = temp_arr[3]\n",
    "    sensitivity = tp / (tp + fn)\n",
    "    recall = sensitivity\n",
    "    specificity = tn / (tn + fp)\n",
    "    precision = tp / (tp + fp)\n",
    "    accuracy = (tp+tn) / (tp+tn+fn+fp)\n",
    "    f1 = 2*precision*recall/(precision+recall)\n",
    "    return [accuracy, sensitivity, specificity, precision, f1]"
   ]
  },
  {
   "cell_type": "code",
   "execution_count": 31,
   "id": "c256608b",
   "metadata": {},
   "outputs": [],
   "source": [
    "main1_eval = []\n",
    "main2_eval = []"
   ]
  },
  {
   "cell_type": "code",
   "execution_count": 32,
   "id": "0379d5f8",
   "metadata": {},
   "outputs": [],
   "source": [
    "xgboost_eval = confusion_calcs([23100, 1643,1651, 18574])\n",
    "main1_eval.append(xgboost_eval)"
   ]
  },
  {
   "cell_type": "code",
   "execution_count": 33,
   "id": "73466d9a",
   "metadata": {},
   "outputs": [],
   "source": [
    "catboost_eval = confusion_calcs([23080,  1663, 1777, 18448])\n",
    "main1_eval.append(catboost_eval)"
   ]
  },
  {
   "cell_type": "code",
   "execution_count": 34,
   "id": "6120c634",
   "metadata": {},
   "outputs": [],
   "source": [
    "lightgbm_eval = confusion_calcs([23104, 1639, 1720, 18505])\n",
    "main1_eval.append(lightgbm_eval)"
   ]
  },
  {
   "cell_type": "code",
   "execution_count": 35,
   "id": "e05dee7d",
   "metadata": {},
   "outputs": [],
   "source": [
    "adaboost_eval = confusion_calcs([22760, 1983, 1706, 18519])\n",
    "main1_eval.append(adaboost_eval)"
   ]
  },
  {
   "cell_type": "code",
   "execution_count": 36,
   "id": "86b71131",
   "metadata": {},
   "outputs": [],
   "source": [
    "gboost_eval = confusion_calcs([23139, 1604, 1738, 18487])\n",
    "main1_eval.append(gboost_eval)"
   ]
  },
  {
   "cell_type": "code",
   "execution_count": 37,
   "id": "8df154a4",
   "metadata": {},
   "outputs": [],
   "source": [
    "decisiontree_eval = confusion_calcs([22502,  2241, 1791, 18434])\n",
    "main1_eval.append(decisiontree_eval)"
   ]
  },
  {
   "cell_type": "code",
   "execution_count": 38,
   "id": "aa782b29",
   "metadata": {},
   "outputs": [],
   "source": [
    "rf_eval = confusion_calcs([23105, 1638, 1707, 18518])\n",
    "main1_eval.append(rf_eval)"
   ]
  },
  {
   "cell_type": "code",
   "execution_count": 39,
   "id": "8730c65b",
   "metadata": {},
   "outputs": [],
   "source": [
    "bagging_eval = confusion_calcs([23035, 1708,1652, 18573])\n",
    "main1_eval.append(bagging_eval)"
   ]
  },
  {
   "cell_type": "code",
   "execution_count": 40,
   "id": "4326d74a",
   "metadata": {},
   "outputs": [],
   "source": [
    "knn_eval = confusion_calcs([22634,  2109, 2032, 18193])\n",
    "main2_eval.append(knn_eval)"
   ]
  },
  {
   "cell_type": "code",
   "execution_count": 41,
   "id": "5273f2d5",
   "metadata": {},
   "outputs": [],
   "source": [
    "lda_eval = confusion_calcs([23025, 1718, 1956, 18269])\n",
    "main2_eval.append(lda_eval)"
   ]
  },
  {
   "cell_type": "code",
   "execution_count": 42,
   "id": "2425d3a9",
   "metadata": {},
   "outputs": [],
   "source": [
    "qda_eval = confusion_calcs([22462, 2281, 2327, 17898])\n",
    "main2_eval.append(qda_eval)"
   ]
  },
  {
   "cell_type": "code",
   "execution_count": 43,
   "id": "487763b8",
   "metadata": {},
   "outputs": [],
   "source": [
    "logreg_eval = confusion_calcs([23118, 1625,1901, 18324])\n",
    "main2_eval.append(logreg_eval)"
   ]
  },
  {
   "cell_type": "code",
   "execution_count": 44,
   "id": "ff417511",
   "metadata": {},
   "outputs": [],
   "source": [
    "svc_eval = confusion_calcs([22965, 1778,1771, 18454])\n",
    "main2_eval.append(svc_eval)"
   ]
  },
  {
   "cell_type": "code",
   "execution_count": 45,
   "id": "464bca32",
   "metadata": {},
   "outputs": [],
   "source": [
    "svm_eval = confusion_calcs([22277, 2466, 1893, 18332])\n",
    "main2_eval.append(svm_eval)"
   ]
  },
  {
   "cell_type": "code",
   "execution_count": 18,
   "id": "fd2abfdb",
   "metadata": {},
   "outputs": [
    {
     "name": "stdout",
     "output_type": "stream",
     "text": [
      "[0 1 2 3]\n"
     ]
    },
    {
     "data": {
      "image/png": "[encoded data removed]",
      "text/plain": [
       "<Figure size 432x288 with 1 Axes>"
      ]
     },
     "metadata": {
      "needs_background": "light"
     },
     "output_type": "display_data"
    },
    {
     "name": "stdout",
     "output_type": "stream",
     "text": [
      "8\n"
     ]
    }
   ],
   "source": [
    "X = ['Group A','Group B','Group C','Group D']\n",
    "Ygirls = [10,20,20,40]\n",
    "Zboys = [20,30,25,30]\n",
    "X_axis = np.arange(len(X))\n",
    "print(X_axis)\n",
    "plt.bar(X_axis - 0.2, Ygirls, 0.4, label = 'Girls')\n",
    "plt.bar(X_axis + 0.2, Zboys, 0.4, label = 'Boys')\n",
    "  \n",
    "plt.xticks(X_axis, X)\n",
    "plt.xlabel(\"Groups\")\n",
    "plt.ylabel(\"Number of Students\")\n",
    "plt.title(\"Number of Students in each group\")\n",
    "plt.legend()\n",
    "plt.show()\n",
    "print(len(main1_eval))"
   ]
  },
  {
   "cell_type": "code",
   "execution_count": 27,
   "id": "bca362d7",
   "metadata": {},
   "outputs": [
    {
     "data": {
      "text/plain": [
       "8"
      ]
     },
     "execution_count": 27,
     "metadata": {},
     "output_type": "execute_result"
    }
   ],
   "source": [
    "len(main1_eval)"
   ]
  },
  {
   "cell_type": "code",
   "execution_count": 48,
   "id": "9117ba75",
   "metadata": {},
   "outputs": [
    {
     "data": {
      "image/png": "[encoded data removed]",
      "text/plain": [
       "<Figure size 1080x504 with 1 Axes>"
      ]
     },
     "metadata": {
      "needs_background": "light"
     },
     "output_type": "display_data"
    }
   ],
   "source": [
    "columns = ['XGBoost', 'Catboost','LightGBM', 'Adaboost', 'Gradient Boost','Decision Tree', 'Random Forests','Bagging']\n",
    "fig, axs = plt.subplots(figsize=(15,7))\n",
    "axs.set_ylim(0.85, 0.95)\n",
    "X_axis = np.arange(0, 5.6, 0.7)\n",
    "acc_list = []\n",
    "sens_list = []\n",
    "spec_list = []\n",
    "prec_list = []\n",
    "f1_list = []\n",
    "\n",
    "for model_list in main1_eval:\n",
    "    acc_list.append(model_list[0])\n",
    "    sens_list.append(model_list[1])\n",
    "    spec_list.append(model_list[2])\n",
    "    prec_list.append(model_list[3])\n",
    "    f1_list.append(model_list[4])\n",
    "# for model_list in main2_eval:\n",
    "#     acc_list.append(model_list[0])\n",
    "#     sens_list.append(model_list[1])\n",
    "#     spec_list.append(model_list[2])\n",
    "#     prec_list.append(model_list[3])\n",
    "#     f1_list.append(model_list[4])\n",
    "\n",
    "plt.bar(X_axis - 0.2, acc_list, 0.1, label = 'Acc.')\n",
    "plt.bar(X_axis - 0.1, sens_list, 0.1, label = 'Sens.')\n",
    "plt.bar(X_axis, spec_list, 0.1, label = 'Spec.')\n",
    "plt.bar(X_axis + 0.1, prec_list, 0.1, label = 'Prec.')\n",
    "plt.bar(X_axis + 0.2, f1_list, 0.1, label = 'F1')\n",
    "\n",
    "plt.xticks(X_axis, columns)\n",
    "plt.xlabel(\"Machine Learning Models\")\n",
    "plt.ylabel(\"Score\")\n",
    "plt.title(\"Machine Learning Model Scores\")\n",
    "plt.legend(loc='upper right')\n",
    "plt.show()"
   ]
  },
  {
   "cell_type": "code",
   "execution_count": 20,
   "id": "22fc6988",
   "metadata": {},
   "outputs": [
    {
     "ename": "ValueError",
     "evalue": "shape mismatch: objects cannot be broadcast to a single shape",
     "output_type": "error",
     "traceback": [
      "\u001b[1;31m---------------------------------------------------------------------------\u001b[0m",
      "\u001b[1;31mValueError\u001b[0m                                Traceback (most recent call last)",
      "Input \u001b[1;32mIn [20]\u001b[0m, in \u001b[0;36m<cell line: 12>\u001b[1;34m()\u001b[0m\n\u001b[0;32m     16\u001b[0m prec_list\u001b[38;5;241m.\u001b[39mappend(model_list[\u001b[38;5;241m3\u001b[39m])\n\u001b[0;32m     17\u001b[0m f1_list\u001b[38;5;241m.\u001b[39mappend(model_list[\u001b[38;5;241m4\u001b[39m])\n\u001b[1;32m---> 19\u001b[0m \u001b[43mplt\u001b[49m\u001b[38;5;241;43m.\u001b[39;49m\u001b[43mbar\u001b[49m\u001b[43m(\u001b[49m\u001b[43mX_axis\u001b[49m\u001b[43m \u001b[49m\u001b[38;5;241;43m-\u001b[39;49m\u001b[43m \u001b[49m\u001b[38;5;241;43m0.2\u001b[39;49m\u001b[43m,\u001b[49m\u001b[43m \u001b[49m\u001b[43macc_list\u001b[49m\u001b[43m,\u001b[49m\u001b[43m \u001b[49m\u001b[38;5;241;43m0.1\u001b[39;49m\u001b[43m,\u001b[49m\u001b[43m \u001b[49m\u001b[43mlabel\u001b[49m\u001b[43m \u001b[49m\u001b[38;5;241;43m=\u001b[39;49m\u001b[43m \u001b[49m\u001b[38;5;124;43m'\u001b[39;49m\u001b[38;5;124;43mAcc.\u001b[39;49m\u001b[38;5;124;43m'\u001b[39;49m\u001b[43m)\u001b[49m\n\u001b[0;32m     20\u001b[0m plt\u001b[38;5;241m.\u001b[39mbar(X_axis \u001b[38;5;241m-\u001b[39m \u001b[38;5;241m0.1\u001b[39m, sens_list, \u001b[38;5;241m0.1\u001b[39m, label \u001b[38;5;241m=\u001b[39m \u001b[38;5;124m'\u001b[39m\u001b[38;5;124mSens.\u001b[39m\u001b[38;5;124m'\u001b[39m)\n\u001b[0;32m     21\u001b[0m plt\u001b[38;5;241m.\u001b[39mbar(X_axis, spec_list, \u001b[38;5;241m0.1\u001b[39m, label \u001b[38;5;241m=\u001b[39m \u001b[38;5;124m'\u001b[39m\u001b[38;5;124mSpec.\u001b[39m\u001b[38;5;124m'\u001b[39m)\n",
      "File \u001b[1;32m~\\anaconda3\\lib\\site-packages\\matplotlib\\pyplot.py:2387\u001b[0m, in \u001b[0;36mbar\u001b[1;34m(x, height, width, bottom, align, data, **kwargs)\u001b[0m\n\u001b[0;32m   2383\u001b[0m \u001b[38;5;129m@_copy_docstring_and_deprecators\u001b[39m(Axes\u001b[38;5;241m.\u001b[39mbar)\n\u001b[0;32m   2384\u001b[0m \u001b[38;5;28;01mdef\u001b[39;00m \u001b[38;5;21mbar\u001b[39m(\n\u001b[0;32m   2385\u001b[0m         x, height, width\u001b[38;5;241m=\u001b[39m\u001b[38;5;241m0.8\u001b[39m, bottom\u001b[38;5;241m=\u001b[39m\u001b[38;5;28;01mNone\u001b[39;00m, \u001b[38;5;241m*\u001b[39m, align\u001b[38;5;241m=\u001b[39m\u001b[38;5;124m'\u001b[39m\u001b[38;5;124mcenter\u001b[39m\u001b[38;5;124m'\u001b[39m,\n\u001b[0;32m   2386\u001b[0m         data\u001b[38;5;241m=\u001b[39m\u001b[38;5;28;01mNone\u001b[39;00m, \u001b[38;5;241m*\u001b[39m\u001b[38;5;241m*\u001b[39mkwargs):\n\u001b[1;32m-> 2387\u001b[0m     \u001b[38;5;28;01mreturn\u001b[39;00m gca()\u001b[38;5;241m.\u001b[39mbar(\n\u001b[0;32m   2388\u001b[0m         x, height, width\u001b[38;5;241m=\u001b[39mwidth, bottom\u001b[38;5;241m=\u001b[39mbottom, align\u001b[38;5;241m=\u001b[39malign,\n\u001b[0;32m   2389\u001b[0m         \u001b[38;5;241m*\u001b[39m\u001b[38;5;241m*\u001b[39m({\u001b[38;5;124m\"\u001b[39m\u001b[38;5;124mdata\u001b[39m\u001b[38;5;124m\"\u001b[39m: data} \u001b[38;5;28;01mif\u001b[39;00m data \u001b[38;5;129;01mis\u001b[39;00m \u001b[38;5;129;01mnot\u001b[39;00m \u001b[38;5;28;01mNone\u001b[39;00m \u001b[38;5;28;01melse\u001b[39;00m {}), \u001b[38;5;241m*\u001b[39m\u001b[38;5;241m*\u001b[39mkwargs)\n",
      "File \u001b[1;32m~\\anaconda3\\lib\\site-packages\\matplotlib\\__init__.py:1412\u001b[0m, in \u001b[0;36m_preprocess_data.<locals>.inner\u001b[1;34m(ax, data, *args, **kwargs)\u001b[0m\n\u001b[0;32m   1409\u001b[0m \u001b[38;5;129m@functools\u001b[39m\u001b[38;5;241m.\u001b[39mwraps(func)\n\u001b[0;32m   1410\u001b[0m \u001b[38;5;28;01mdef\u001b[39;00m \u001b[38;5;21minner\u001b[39m(ax, \u001b[38;5;241m*\u001b[39margs, data\u001b[38;5;241m=\u001b[39m\u001b[38;5;28;01mNone\u001b[39;00m, \u001b[38;5;241m*\u001b[39m\u001b[38;5;241m*\u001b[39mkwargs):\n\u001b[0;32m   1411\u001b[0m     \u001b[38;5;28;01mif\u001b[39;00m data \u001b[38;5;129;01mis\u001b[39;00m \u001b[38;5;28;01mNone\u001b[39;00m:\n\u001b[1;32m-> 1412\u001b[0m         \u001b[38;5;28;01mreturn\u001b[39;00m func(ax, \u001b[38;5;241m*\u001b[39m\u001b[38;5;28mmap\u001b[39m(sanitize_sequence, args), \u001b[38;5;241m*\u001b[39m\u001b[38;5;241m*\u001b[39mkwargs)\n\u001b[0;32m   1414\u001b[0m     bound \u001b[38;5;241m=\u001b[39m new_sig\u001b[38;5;241m.\u001b[39mbind(ax, \u001b[38;5;241m*\u001b[39margs, \u001b[38;5;241m*\u001b[39m\u001b[38;5;241m*\u001b[39mkwargs)\n\u001b[0;32m   1415\u001b[0m     auto_label \u001b[38;5;241m=\u001b[39m (bound\u001b[38;5;241m.\u001b[39marguments\u001b[38;5;241m.\u001b[39mget(label_namer)\n\u001b[0;32m   1416\u001b[0m                   \u001b[38;5;129;01mor\u001b[39;00m bound\u001b[38;5;241m.\u001b[39mkwargs\u001b[38;5;241m.\u001b[39mget(label_namer))\n",
      "File \u001b[1;32m~\\anaconda3\\lib\\site-packages\\matplotlib\\axes\\_axes.py:2342\u001b[0m, in \u001b[0;36mAxes.bar\u001b[1;34m(self, x, height, width, bottom, align, **kwargs)\u001b[0m\n\u001b[0;32m   2339\u001b[0m     \u001b[38;5;28;01mif\u001b[39;00m yerr \u001b[38;5;129;01mis\u001b[39;00m \u001b[38;5;129;01mnot\u001b[39;00m \u001b[38;5;28;01mNone\u001b[39;00m:\n\u001b[0;32m   2340\u001b[0m         yerr \u001b[38;5;241m=\u001b[39m \u001b[38;5;28mself\u001b[39m\u001b[38;5;241m.\u001b[39m_convert_dx(yerr, y0, y, \u001b[38;5;28mself\u001b[39m\u001b[38;5;241m.\u001b[39mconvert_yunits)\n\u001b[1;32m-> 2342\u001b[0m x, height, width, y, linewidth, hatch \u001b[38;5;241m=\u001b[39m \u001b[43mnp\u001b[49m\u001b[38;5;241;43m.\u001b[39;49m\u001b[43mbroadcast_arrays\u001b[49m\u001b[43m(\u001b[49m\n\u001b[0;32m   2343\u001b[0m \u001b[43m    \u001b[49m\u001b[38;5;66;43;03m# Make args iterable too.\u001b[39;49;00m\n\u001b[0;32m   2344\u001b[0m \u001b[43m    \u001b[49m\u001b[43mnp\u001b[49m\u001b[38;5;241;43m.\u001b[39;49m\u001b[43matleast_1d\u001b[49m\u001b[43m(\u001b[49m\u001b[43mx\u001b[49m\u001b[43m)\u001b[49m\u001b[43m,\u001b[49m\u001b[43m \u001b[49m\u001b[43mheight\u001b[49m\u001b[43m,\u001b[49m\u001b[43m \u001b[49m\u001b[43mwidth\u001b[49m\u001b[43m,\u001b[49m\u001b[43m \u001b[49m\u001b[43my\u001b[49m\u001b[43m,\u001b[49m\u001b[43m \u001b[49m\u001b[43mlinewidth\u001b[49m\u001b[43m,\u001b[49m\u001b[43m \u001b[49m\u001b[43mhatch\u001b[49m\u001b[43m)\u001b[49m\n\u001b[0;32m   2346\u001b[0m \u001b[38;5;66;03m# Now that units have been converted, set the tick locations.\u001b[39;00m\n\u001b[0;32m   2347\u001b[0m \u001b[38;5;28;01mif\u001b[39;00m orientation \u001b[38;5;241m==\u001b[39m \u001b[38;5;124m'\u001b[39m\u001b[38;5;124mvertical\u001b[39m\u001b[38;5;124m'\u001b[39m:\n",
      "File \u001b[1;32m<__array_function__ internals>:5\u001b[0m, in \u001b[0;36mbroadcast_arrays\u001b[1;34m(*args, **kwargs)\u001b[0m\n",
      "File \u001b[1;32m~\\anaconda3\\lib\\site-packages\\numpy\\lib\\stride_tricks.py:538\u001b[0m, in \u001b[0;36mbroadcast_arrays\u001b[1;34m(subok, *args)\u001b[0m\n\u001b[0;32m    531\u001b[0m \u001b[38;5;66;03m# nditer is not used here to avoid the limit of 32 arrays.\u001b[39;00m\n\u001b[0;32m    532\u001b[0m \u001b[38;5;66;03m# Otherwise, something like the following one-liner would suffice:\u001b[39;00m\n\u001b[0;32m    533\u001b[0m \u001b[38;5;66;03m# return np.nditer(args, flags=['multi_index', 'zerosize_ok'],\u001b[39;00m\n\u001b[0;32m    534\u001b[0m \u001b[38;5;66;03m#                  order='C').itviews\u001b[39;00m\n\u001b[0;32m    536\u001b[0m args \u001b[38;5;241m=\u001b[39m [np\u001b[38;5;241m.\u001b[39marray(_m, copy\u001b[38;5;241m=\u001b[39m\u001b[38;5;28;01mFalse\u001b[39;00m, subok\u001b[38;5;241m=\u001b[39msubok) \u001b[38;5;28;01mfor\u001b[39;00m _m \u001b[38;5;129;01min\u001b[39;00m args]\n\u001b[1;32m--> 538\u001b[0m shape \u001b[38;5;241m=\u001b[39m \u001b[43m_broadcast_shape\u001b[49m\u001b[43m(\u001b[49m\u001b[38;5;241;43m*\u001b[39;49m\u001b[43margs\u001b[49m\u001b[43m)\u001b[49m\n\u001b[0;32m    540\u001b[0m \u001b[38;5;28;01mif\u001b[39;00m \u001b[38;5;28mall\u001b[39m(array\u001b[38;5;241m.\u001b[39mshape \u001b[38;5;241m==\u001b[39m shape \u001b[38;5;28;01mfor\u001b[39;00m array \u001b[38;5;129;01min\u001b[39;00m args):\n\u001b[0;32m    541\u001b[0m     \u001b[38;5;66;03m# Common case where nothing needs to be broadcasted.\u001b[39;00m\n\u001b[0;32m    542\u001b[0m     \u001b[38;5;28;01mreturn\u001b[39;00m args\n",
      "File \u001b[1;32m~\\anaconda3\\lib\\site-packages\\numpy\\lib\\stride_tricks.py:420\u001b[0m, in \u001b[0;36m_broadcast_shape\u001b[1;34m(*args)\u001b[0m\n\u001b[0;32m    415\u001b[0m \u001b[38;5;124;03m\"\"\"Returns the shape of the arrays that would result from broadcasting the\u001b[39;00m\n\u001b[0;32m    416\u001b[0m \u001b[38;5;124;03msupplied arrays against each other.\u001b[39;00m\n\u001b[0;32m    417\u001b[0m \u001b[38;5;124;03m\"\"\"\u001b[39;00m\n\u001b[0;32m    418\u001b[0m \u001b[38;5;66;03m# use the old-iterator because np.nditer does not handle size 0 arrays\u001b[39;00m\n\u001b[0;32m    419\u001b[0m \u001b[38;5;66;03m# consistently\u001b[39;00m\n\u001b[1;32m--> 420\u001b[0m b \u001b[38;5;241m=\u001b[39m \u001b[43mnp\u001b[49m\u001b[38;5;241;43m.\u001b[39;49m\u001b[43mbroadcast\u001b[49m\u001b[43m(\u001b[49m\u001b[38;5;241;43m*\u001b[39;49m\u001b[43margs\u001b[49m\u001b[43m[\u001b[49m\u001b[43m:\u001b[49m\u001b[38;5;241;43m32\u001b[39;49m\u001b[43m]\u001b[49m\u001b[43m)\u001b[49m\n\u001b[0;32m    421\u001b[0m \u001b[38;5;66;03m# unfortunately, it cannot handle 32 or more arguments directly\u001b[39;00m\n\u001b[0;32m    422\u001b[0m \u001b[38;5;28;01mfor\u001b[39;00m pos \u001b[38;5;129;01min\u001b[39;00m \u001b[38;5;28mrange\u001b[39m(\u001b[38;5;241m32\u001b[39m, \u001b[38;5;28mlen\u001b[39m(args), \u001b[38;5;241m31\u001b[39m):\n\u001b[0;32m    423\u001b[0m     \u001b[38;5;66;03m# ironically, np.broadcast does not properly handle np.broadcast\u001b[39;00m\n\u001b[0;32m    424\u001b[0m     \u001b[38;5;66;03m# objects (it treats them as scalars)\u001b[39;00m\n\u001b[0;32m    425\u001b[0m     \u001b[38;5;66;03m# use broadcasting to avoid allocating the full array\u001b[39;00m\n",
      "\u001b[1;31mValueError\u001b[0m: shape mismatch: objects cannot be broadcast to a single shape"
     ]
    },
    {
     "data": {
      "image/png": "[encoded data removed]",
      "text/plain": [
       "<Figure size 864x504 with 1 Axes>"
      ]
     },
     "metadata": {
      "needs_background": "light"
     },
     "output_type": "display_data"
    }
   ],
   "source": [
    "columns = ['Decision Tree', 'Random Forests','LDA', 'QDA']\n",
    "\n",
    "fig, axs = plt.subplots(figsize=(12,7))\n",
    "axs.set_ylim(0.85, 1)\n",
    "X_axis = np.arange(0, 2.4, 0.6)\n",
    "acc_list = []\n",
    "sens_list = []\n",
    "spec_list = []\n",
    "prec_list = []\n",
    "f1_list = []\n",
    "\n",
    "for model_list in main2_eval:\n",
    "    acc_list.append(model_list[0])\n",
    "    sens_list.append(model_list[1])\n",
    "    spec_list.append(model_list[2])\n",
    "    prec_list.append(model_list[3])\n",
    "    f1_list.append(model_list[4])\n",
    "\n",
    "    plt.bar(X_axis - 0.2, acc_list, 0.1, label = 'Acc.')\n",
    "    plt.bar(X_axis - 0.1, sens_list, 0.1, label = 'Sens.')\n",
    "    plt.bar(X_axis, spec_list, 0.1, label = 'Spec.')\n",
    "    plt.bar(X_axis + 0.1, prec_list, 0.1, label = 'Prec.')\n",
    "    plt.bar(X_axis + 0.2, f1_list, 0.1, label = 'F1')\n",
    "\n",
    "    plt.xticks(X_axis, columns)\n",
    "    plt.xlabel(\"Machine Learning Models\")\n",
    "    plt.ylabel(\"Score\")\n",
    "    plt.title(\"Machine Learning Model Scores\")\n",
    "    plt.legend(loc='upper right')\n",
    "plt.show()"
   ]
  },
  {
   "cell_type": "code",
   "execution_count": 54,
   "id": "7d0296c5",
   "metadata": {},
   "outputs": [],
   "source": [
    "model_list = ['Random Forest', 'Bagging', 'XGBoost', 'LightGBM', 'CatBoost', 'Decision Tree']\n",
    "acc_before = [0.9222816754579501,0.9262403397881838,0.9332780129890246,0.9317845176986433,0.9308483796955145,0.9155522677674085]\n",
    "acc_after = [0.9339174592365065,0.9336553342199018,0.9341074210066155,0.9332732856614858,0.9321920102954995,0.9223451720808825]\n",
    "std_before = [0.12046431828512935,0.10672839222741957,0.09926188579723327,0.10265051679211624,0.11135096999367239,0.12265977005220371]\n",
    "std_after = [0.09783789438795784,0.09447902543178308,0.09454601994721872,0.09955941484364123,0.10610803049760552,0.10181545836115112]"
   ]
  },
  {
   "cell_type": "code",
   "execution_count": 55,
   "id": "ab11d58f",
   "metadata": {},
   "outputs": [],
   "source": [
    "for index, num1 in enumerate(std_before):\n",
    "    temp_num = 1-num1\n",
    "    std_before[index] = temp_num\n",
    "    \n",
    "for index, num2 in enumerate(std_after):\n",
    "    temp_num = 1-num2\n",
    "    std_after[index] = temp_num"
   ]
  },
  {
   "cell_type": "code",
   "execution_count": 25,
   "id": "3f4df2a9",
   "metadata": {},
   "outputs": [
    {
     "data": {
      "text/plain": [
       "[0.8795356817148706,\n",
       " 0.8932716077725804,\n",
       " 0.9007381142027667,\n",
       " 0.8973494832078838,\n",
       " 0.8886490300063277,\n",
       " 0.8773402299477963]"
      ]
     },
     "execution_count": 25,
     "metadata": {},
     "output_type": "execute_result"
    }
   ],
   "source": [
    "std_before"
   ]
  },
  {
   "cell_type": "code",
   "execution_count": 26,
   "id": "bdc5ced4",
   "metadata": {},
   "outputs": [
    {
     "data": {
      "text/plain": [
       "[0.9021621056120421,\n",
       " 0.9055209745682169,\n",
       " 0.9054539800527813,\n",
       " 0.9004405851563588,\n",
       " 0.8938919695023945,\n",
       " 0.8981845416388489]"
      ]
     },
     "execution_count": 26,
     "metadata": {},
     "output_type": "execute_result"
    }
   ],
   "source": [
    "std_after"
   ]
  },
  {
   "cell_type": "code",
   "execution_count": 53,
   "id": "d646e399",
   "metadata": {},
   "outputs": [
    {
     "data": {
      "text/plain": [
       "array([0, 1, 2, 3, 4])"
      ]
     },
     "execution_count": 53,
     "metadata": {},
     "output_type": "execute_result"
    }
   ],
   "source": [
    "X_axis"
   ]
  },
  {
   "cell_type": "code",
   "execution_count": 61,
   "id": "ac57af4b",
   "metadata": {},
   "outputs": [
    {
     "data": {
      "image/png": "[encoded data removed]",
      "text/plain": [
       "<Figure size 864x504 with 1 Axes>"
      ]
     },
     "metadata": {
      "needs_background": "light"
     },
     "output_type": "display_data"
    }
   ],
   "source": [
    "columns = model_list\n",
    "\n",
    "fig, axs = plt.subplots(figsize=(12,7))\n",
    "axs.set_ylim(0.85, 0.95)\n",
    "X_axis = np.arange(len(columns))\n",
    "\n",
    "   \n",
    "    \n",
    "\n",
    "plt.bar(X_axis - 0.15, acc_before, 0.1, label = 'Acc. Before')\n",
    "plt.bar(X_axis - 0.05, std_before, 0.1, label = 'STD of Acc. Before')\n",
    "plt.bar(X_axis+0.05, acc_after, 0.1, label = 'Acc. After')\n",
    "plt.bar(X_axis + 0.15, std_after, 0.1, label = 'STD of Acc. After')\n",
    "\n",
    "\n",
    "plt.xticks(X_axis, columns)\n",
    "plt.xlabel(\"Machine Learning Models\")\n",
    "plt.ylabel(\"Score\")\n",
    "plt.title(\"Machine Learning Model Scores\")\n",
    "plt.legend(loc='upper right')\n",
    "plt.show()"
   ]
  },
  {
   "cell_type": "code",
   "execution_count": null,
   "id": "cd7143ba",
   "metadata": {},
   "outputs": [],
   "source": [
    "# Random Forest before:\n",
    "# white_check_mark\n",
    "# eyes\n",
    "# raised_hands\n",
    "# React\n",
    "# Reply\n",
    "\n",
    "# 10:37\n",
    "# ---Run time is 2584.099302100003 seconds ---\n",
    "\n",
    "# Accuracy of each fold: \n",
    "#  [0.9038901601830663, 0.9521298174442191, 0.9943324937027708, 0.8830935251798561, 0.9968652037617555, 0.9448275862068966, 0.8748248482017749, 0.9965963240299524, 0.9432730923694779, 0.9487320837927232, 0.9832123411978222, 0.9849246231155779, 0.7360544217687075, 0.9974522292993631, 0.5054121565362198, 0.969428444838281, 0.9828649760109665, 0.9878822850548182, 0.6745562130177515, 0.9763606377130292, 0.9948674080410608, 0.9868173258003766, 0.9940803382663848]\n",
    "\n",
    "# Avg accuracy : \n",
    "# 0.9222816754579501\n",
    "\n",
    "# Std of accuracy : \n",
    "# 0.12046431828512935\n",
    "# 10:38\n",
    "# [[22476  2267]\n",
    "#  [ 1651 18574]]"
   ]
  },
  {
   "cell_type": "code",
   "execution_count": null,
   "id": "cae00e90",
   "metadata": {},
   "outputs": [],
   "source": [
    "# Random Forest after:\n",
    "# white_check_mark\n",
    "# eyes\n",
    "# raised_hands\n",
    "# React\n",
    "# Reply\n",
    "\n",
    "# 10:38\n",
    "# ---Run time is 119.9745147000067 seconds ---\n",
    "\n",
    "# Accuracy of each fold: \n",
    "#  [0.9084668192219679, 0.9537525354969574, 0.9955919395465995, 0.9232613908872902, 0.9979101358411703, 0.9521298174442191, 0.8243811303129379, 0.9972770592239619, 0.9427710843373494, 0.9674751929437707, 0.9836660617059891, 0.9913854989231874, 0.8117913832199547, 0.967515923566879, 0.593255620316403, 0.9893664155959238, 0.9869773817683345, 0.9861511829197923, 0.7489433643279797, 0.9703133589884552, 0.9948674080410608, 0.9962335216572504, 0.9966173361522199]\n",
    "\n",
    "# Avg accuracy : \n",
    "# 0.9339174592365065\n",
    "\n",
    "# Std of accuracy : \n",
    "# 0.09783789438795784\n",
    "# New\n",
    "# 10:38\n",
    "# [[23027  1716]\n",
    "#  [ 1600 18625]]"
   ]
  },
  {
   "cell_type": "code",
   "execution_count": null,
   "id": "89902960",
   "metadata": {},
   "outputs": [],
   "source": [
    "# XGBoost before:\n",
    "# white_check_mark\n",
    "# eyes\n",
    "# raised_hands\n",
    "# React\n",
    "# Reply\n",
    "\n",
    "# 10:48\n",
    "# roc_auc_score 0.9999020242718537\n",
    "# ---Run time is 28.772993899998255 seconds ---\n",
    "\n",
    "# Accuracy of each fold: \n",
    "#  [0.914187643020595, 0.954158215010142, 0.9962216624685138, 0.935251798561151, 0.9968652037617555, 0.9525354969574037, 0.7888836992059786, 0.998638529611981, 0.9392570281124498, 0.9685777287761852, 0.9823049001814882, 0.990667623833453, 0.8249433106575964, 0.9535031847133758, 0.5961698584512906, 0.9906956136464333, 0.9910897875257025, 0.9878822850548182, 0.742603550295858, 0.9692138537658054, 0.9961505560307955, 0.9968612680477087, 0.9987315010570824]\n",
    "\n",
    "# Avg accuracy : \n",
    "# 0.9332780129890246\n",
    "\n",
    "# Std of accuracy : \n",
    "# 0.09926188579723327\n",
    "# 10:49\n",
    "# [[23073  1670]\n",
    "#  [ 1680 18545]]"
   ]
  },
  {
   "cell_type": "code",
   "execution_count": 1,
   "id": "ad4812b9",
   "metadata": {},
   "outputs": [],
   "source": [
    "#XGBOOST After\n",
    "# ---Run time is 47.04468490020372 seconds ---\n",
    "\n",
    "# Accuracy of each fold: \n",
    "#  [0.9187643020594966, 0.9549695740365112, 0.9962216624685138, 0.9322541966426858, 0.9973876698014629, 0.9574036511156186, 0.7706679121905652, 0.9979577944179714, 0.9407630522088354, 0.9658213891951488, 0.9832123411978222, 0.9899497487437185, 0.8303854875283446, 0.954140127388535, 0.6219816819317235, 0.9880372175454143, 0.9904043865661412, 0.9838430467397576, 0.7616229923922232, 0.959868059373282, 0.9965782720273738, 0.9943502824858758, 0.9978858350951374]\n",
    "\n",
    "# Avg accuracy : \n",
    "# 0.9341074210066155\n",
    "\n",
    "# Std of accuracy : \n",
    "# 0.09454601994721872"
   ]
  },
  {
   "cell_type": "code",
   "execution_count": null,
   "id": "82850309",
   "metadata": {},
   "outputs": [],
   "source": [
    "# LightGBM Before:\n",
    "# white_check_mark\n",
    "# eyes\n",
    "# raised_hands\n",
    "# React\n",
    "# Reply\n",
    "\n",
    "# 1:11\n",
    "# ---Run time is 5.280834200006211 seconds ---\n",
    "\n",
    "# Accuracy of each fold: \n",
    "#  [0.914187643020595, 0.9525354969574037, 0.9962216624685138, 0.9292565947242206, 0.9979101358411703, 0.954158215010142, 0.7860812704343765, 0.9979577944179714, 0.9372489959839357, 0.9691289966923925, 0.9832123411978222, 0.990667623833453, 0.8054421768707483, 0.9598726114649682, 0.577435470441299, 0.9893664155959238, 0.9917751884852639, 0.9861511829197923, 0.7502113271344041, 0.9719626168224299, 0.995295124037639, 0.9962335216572504, 0.9987315010570824]\n",
    "\n",
    "# Avg accuracy : \n",
    "# 0.9317845176986433\n",
    "\n",
    "# Std of accuracy : \n",
    "# 0.10265051679211624\n",
    "# 1:11\n",
    "# [[23043  1700]\n",
    "#  [ 1729 18496]]"
   ]
  },
  {
   "cell_type": "code",
   "execution_count": null,
   "id": "9d774af1",
   "metadata": {},
   "outputs": [],
   "source": [
    "#LightGBM After\n",
    "# [[22875  1868]\n",
    "#  [ 1984 18241]]\n",
    "# Accuracy of each fold: \n",
    "#  [0.9096109839816934, 0.9533468559837728, 0.9955919395465995, 0.8974820143884892, 0.9947753396029259, 0.9484787018255578, 0.832788416627744, 0.9965963240299524, 0.9362449799196787, 0.964167585446527, 0.9818511796733213, 0.9899497487437185, 0.7836734693877551, 0.9178343949044586, 0.4995836802664446, 0.9787328311918476, 0.9876627827278959, 0.9924985574148875, 0.7176669484361792, 0.9741616272677295, 0.9957228400342173, 0.9912115505335845, 0.9877378435517971]\n",
    "\n",
    "# Avg accuracy : \n",
    "# 0.9229291563255121\n",
    "\n",
    "# Std of accuracy : \n",
    "# 0.11533339006243011"
   ]
  },
  {
   "cell_type": "code",
   "execution_count": null,
   "id": "8a7d67bd",
   "metadata": {},
   "outputs": [],
   "source": [
    "# CatBoost Before:\n",
    "# white_check_mark\n",
    "# eyes\n",
    "# raised_hands\n",
    "# React\n",
    "# Reply\n",
    "\n",
    "# 1:20\n",
    "# ---Run time is 100.3481230000034 seconds ---\n",
    "\n",
    "# Accuracy of each fold: \n",
    "#  [0.914187643020595, 0.9578093306288032, 0.9949622166246851, 0.9310551558752997, 0.9968652037617555, 0.9594320486815415, 0.7585240541802896, 0.998638529611981, 0.9397590361445783, 0.9735391400220507, 0.9818511796733213, 0.990667623833453, 0.8476190476190476, 0.954140127388535, 0.6232306411323897, 0.9902525476295968, 0.9897189856065799, 0.9849971148297749, 0.7497886728655959, 0.9686641011544805, 0.9957228400342173, 0.9981167608286252, 0.9966173361522199]\n",
    "\n",
    "# Avg accuracy : \n",
    "# 0.9346156233608442\n",
    "\n",
    "# Std of accuracy : \n",
    "# 0.09592423549286057\n",
    "# 1:20\n",
    "# [[23166  1577]\n",
    "#  [ 1692 18533]]"
   ]
  },
  {
   "cell_type": "code",
   "execution_count": 2,
   "id": "73cf0473",
   "metadata": {},
   "outputs": [],
   "source": [
    "#Catboosting After\n",
    "# ---Run time is 20.29537530010566 seconds ---\n",
    "# [[23080  1663]\n",
    "#  [ 1757 18468]]\n",
    "# Accuracy of each fold: \n",
    "#  [0.9124713958810069, 0.9525354969574037, 0.9974811083123426, 0.9262589928057554, 0.9979101358411703, 0.9525354969574037, 0.8155067725361981, 0.9972770592239619, 0.9397590361445783, 0.9707828004410143, 0.9832123411978222, 0.990667623833453, 0.8022675736961451, 0.967515923566879, 0.5420482930890924, 0.9902525476295968, 0.9910897875257025, 0.9849971148297749, 0.760777683854607, 0.9741616272677295, 0.9970059880239521, 0.9968612680477087, 0.9970401691331924]\n",
    "\n",
    "# Avg accuracy : \n",
    "# 0.9321920102954995\n",
    "\n",
    "# Std of accuracy : \n",
    "# 0.10610803049760552"
   ]
  },
  {
   "cell_type": "code",
   "execution_count": 3,
   "id": "2b5d5cfe",
   "metadata": {},
   "outputs": [],
   "source": [
    "# Bagging Before:\n",
    "# New\n",
    "# 1:44\n",
    "# ---Run time is 1262.5597275000036 seconds ---\n",
    "\n",
    "# Accuracy of each fold: \n",
    "#  [0.9061784897025171, 0.9456389452332657, 0.9955919395465995, 0.908273381294964, 0.9952978056426333, 0.9440162271805274, 0.8397944885567492, 0.9972770592239619, 0.9332329317269076, 0.958103638368247, 0.9818511796733213, 0.9849246231155779, 0.782312925170068, 0.9738853503184713, 0.5578684429641965, 0.973859105006646, 0.9835503769705277, 0.9930755914598961, 0.7071005917159763, 0.9763606377130292, 0.9914456800684346, 0.9899560577526679, 0.9839323467230444]\n",
    "\n",
    "# Avg accuracy : \n",
    "# 0.9262403397881838\n",
    "\n",
    "# Std of accuracy : \n",
    "# 0.10672839222741957\n",
    "# 1:44\n",
    "# [[22771  1972]\n",
    "#  [ 1738 18487]]"
   ]
  },
  {
   "cell_type": "code",
   "execution_count": 4,
   "id": "e54e015e",
   "metadata": {},
   "outputs": [],
   "source": [
    "# Bagging After:\n",
    "# 1:42\n",
    "# ---Run time is 693.3505415000109 seconds ---\n",
    "\n",
    "# Accuracy of each fold: \n",
    "#  [0.9130434782608695, 0.9496957403651115, 0.9955919395465995, 0.9238609112709832, 0.9973876698014629, 0.9545638945233266, 0.7986921999065857, 0.9979577944179714, 0.9422690763052208, 0.9685777287761852, 0.9813974591651543, 0.9885139985642498, 0.8331065759637188, 0.9503184713375796, 0.6194837635303914, 0.9871510855117412, 0.9869773817683345, 0.9873052510098096, 0.7417582417582418, 0.9708631115997801, 0.9918733960650128, 0.997489014438167, 0.9961945031712474]\n",
    "\n",
    "# Avg accuracy : \n",
    "# 0.9336553342199018\n",
    "\n",
    "# Std of accuracy : \n",
    "# 0.09447902543178308\n",
    "# white_check_mark\n",
    "# eyes\n",
    "# raised_hands\n",
    "# React\n",
    "# Reply\n",
    "\n",
    "# 1:42\n",
    "# [[23064  1679]\n",
    "#  [ 1637 18588]]"
   ]
  },
  {
   "cell_type": "code",
   "execution_count": null,
   "id": "12153f69",
   "metadata": {},
   "outputs": [],
   "source": []
  }
 ],
 "metadata": {
  "kernelspec": {
   "display_name": "Python 3 (ipykernel)",
   "language": "python",
   "name": "python3"
  },
  "language_info": {
   "codemirror_mode": {
    "name": "ipython",
    "version": 3
   },
   "file_extension": ".py",
   "mimetype": "text/x-python",
   "name": "python",
   "nbconvert_exporter": "python",
   "pygments_lexer": "ipython3",
   "version": "3.9.12"
  }
 },
 "nbformat": 4,
 "nbformat_minor": 5
}
