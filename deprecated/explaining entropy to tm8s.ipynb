{
 "cells": [
  {
   "cell_type": "code",
   "execution_count": 1,
   "id": "1b85a10b",
   "metadata": {},
   "outputs": [],
   "source": [
    "#subsection = 25 rr ints\n",
    "#take an example subjsection and simplify to 5 rr intervals to make it easier to understand\n",
    "subsection = [0.25,0.33,0.5,0.22,0.1]\n",
    "\n"
   ]
  },
  {
   "cell_type": "code",
   "execution_count": 2,
   "id": "74fcdde2",
   "metadata": {},
   "outputs": [
    {
     "data": {
      "text/plain": [
       "0.0"
      ]
     },
     "execution_count": 2,
     "metadata": {},
     "output_type": "execute_result"
    }
   ],
   "source": [
    "0.25-0.25"
   ]
  },
  {
   "cell_type": "code",
   "execution_count": 3,
   "id": "ce2988ab",
   "metadata": {},
   "outputs": [
    {
     "data": {
      "text/plain": [
       "-0.08000000000000002"
      ]
     },
     "execution_count": 3,
     "metadata": {},
     "output_type": "execute_result"
    }
   ],
   "source": [
    "0.25-0.33"
   ]
  },
  {
   "cell_type": "code",
   "execution_count": 4,
   "id": "f311af5f",
   "metadata": {},
   "outputs": [
    {
     "data": {
      "text/plain": [
       "-0.25"
      ]
     },
     "execution_count": 4,
     "metadata": {},
     "output_type": "execute_result"
    }
   ],
   "source": [
    "0.25-0.5"
   ]
  },
  {
   "cell_type": "code",
   "execution_count": 5,
   "id": "063a4f34",
   "metadata": {},
   "outputs": [
    {
     "data": {
      "text/plain": [
       "0.03"
      ]
     },
     "execution_count": 5,
     "metadata": {},
     "output_type": "execute_result"
    }
   ],
   "source": [
    "0.25-0.22"
   ]
  },
  {
   "cell_type": "code",
   "execution_count": 7,
   "id": "bff7d0e7",
   "metadata": {},
   "outputs": [
    {
     "data": {
      "text/plain": [
       "0.15"
      ]
     },
     "execution_count": 7,
     "metadata": {},
     "output_type": "execute_result"
    }
   ],
   "source": [
    "0.25-0.1"
   ]
  },
  {
   "cell_type": "code",
   "execution_count": 10,
   "id": "3dba6978",
   "metadata": {},
   "outputs": [
    {
     "data": {
      "text/plain": [
       "[0, 0.08, 0.25, 0.03, 0.15]"
      ]
     },
     "execution_count": 10,
     "metadata": {},
     "output_type": "execute_result"
    }
   ],
   "source": [
    "[0,-0.08,-0.25,0.03,0.15]\n",
    "#2 parameters to change for entropy\n",
    "#m = template length = 1\n",
    "#r = tolerance threshold = 0.5 * std of all rr ints\n",
    "[0,0.08,0.25,0.03,0.15]"
   ]
  },
  {
   "cell_type": "code",
   "execution_count": 11,
   "id": "38ebe13c",
   "metadata": {},
   "outputs": [],
   "source": [
    "r = 0.1"
   ]
  },
  {
   "cell_type": "code",
   "execution_count": 12,
   "id": "66edb110",
   "metadata": {},
   "outputs": [],
   "source": [
    "count = 2"
   ]
  },
  {
   "cell_type": "code",
   "execution_count": null,
   "id": "454aac05",
   "metadata": {},
   "outputs": [],
   "source": [
    "[2,x,x,x,x]"
   ]
  },
  {
   "cell_type": "code",
   "execution_count": 13,
   "id": "90ee0e46",
   "metadata": {},
   "outputs": [],
   "source": [
    "subsection = [0.25,0.33,0.5,0.22,0.1]"
   ]
  },
  {
   "cell_type": "code",
   "execution_count": null,
   "id": "e0ef3aa3",
   "metadata": {},
   "outputs": [],
   "source": [
    "[0.33-0.25,..."
   ]
  },
  {
   "cell_type": "code",
   "execution_count": 14,
   "id": "f4b00665",
   "metadata": {},
   "outputs": [],
   "source": [
    "counts = [2,3,0,1,4]"
   ]
  },
  {
   "cell_type": "code",
   "execution_count": 15,
   "id": "8f5d496d",
   "metadata": {},
   "outputs": [
    {
     "data": {
      "text/plain": [
       "0.6931471805599453"
      ]
     },
     "execution_count": 15,
     "metadata": {},
     "output_type": "execute_result"
    }
   ],
   "source": [
    "import numpy as np\n",
    "np.log(2)/(N-m+1)\n",
    "N =5\n",
    "m =1"
   ]
  },
  {
   "cell_type": "code",
   "execution_count": 16,
   "id": "cf4e87ba",
   "metadata": {},
   "outputs": [
    {
     "data": {
      "text/plain": [
       "1.0986122886681098"
      ]
     },
     "execution_count": 16,
     "metadata": {},
     "output_type": "execute_result"
    }
   ],
   "source": [
    "np.log(3)/(N-m+1)"
   ]
  },
  {
   "cell_type": "code",
   "execution_count": null,
   "id": "635fd798",
   "metadata": {},
   "outputs": [],
   "source": [
    "summation = 0.6931471805599453 + 1.0986122886681098 + ..."
   ]
  },
  {
   "cell_type": "code",
   "execution_count": null,
   "id": "d62bc362",
   "metadata": {},
   "outputs": [],
   "source": [
    "summation/(N-m+1)"
   ]
  },
  {
   "cell_type": "code",
   "execution_count": null,
   "id": "93cc738f",
   "metadata": {},
   "outputs": [],
   "source": [
    "subsection = [0.25,0.33,0.5,0.22,0.1]\n",
    "[0.25,0.33] - [0.25,0.33]\n",
    "[0.25,0.33] - [0.33,0.5]\n",
    "...\n",
    "only comparing the first template: difference count = [0.33,0.22,0.5,etc.],  [0.33,0.22,0.5,etc.], [0.33,0.22,0.5,etc.], [0.33,0.22,0.5,etc.],\n",
    "compare to threshold r\n",
    "COMPARE EACH TEMPLATE\n",
    "list [3,5,3,6]\n",
    "np.log(3)/(N-(m+1)+1)\n",
    "summation of all\n",
    "divide by (N-(m+1)+1)"
   ]
  },
  {
   "cell_type": "code",
   "execution_count": null,
   "id": "0451606c",
   "metadata": {},
   "outputs": [],
   "source": [
    "list  of all the counts [3,5,3,6]\n",
    "subtract one from each one\n",
    "sum all the counts\n",
    "DO THE SAME FOR DENOMINATOR BUT WITH M INSTEAD M+1\n",
    "-np.log(numerator/denominator)"
   ]
  }
 ],
 "metadata": {
  "kernelspec": {
   "display_name": "Python 3",
   "language": "python",
   "name": "python3"
  },
  "language_info": {
   "codemirror_mode": {
    "name": "ipython",
    "version": 3
   },
   "file_extension": ".py",
   "mimetype": "text/x-python",
   "name": "python",
   "nbconvert_exporter": "python",
   "pygments_lexer": "ipython3",
   "version": "3.8.8"
  }
 },
 "nbformat": 4,
 "nbformat_minor": 5
}
